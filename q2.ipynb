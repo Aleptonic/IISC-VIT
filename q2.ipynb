{
  "cells": [
    {
      "cell_type": "markdown",
      "metadata": {
        "id": "IXOePz5O4kvC"
      },
      "source": [
        "# Text-Driven Image Segmentation with SAM 2\n",
        "\n",
        "This notebook implements a complete pipeline to perform segmentation on any object in an image using a free-form text prompt. The project's goal is to demonstrate how two different state-of-the-art models, **GroundingDINO** and the **Segment Anything Model (SAM) 2**, can be composed to achieve a powerful new capability."
      ]
    },
    {
      "cell_type": "markdown",
      "metadata": {
        "id": "wCzSHpIIEnp5"
      },
      "source": [
        "# Dependency installation\n",
        "This cell installs all necessary libraries and downloads the pre-trained model weights.\n",
        "- **`transformers`**: From Hugging Face, used for a reliable and easy-to-use implementation of GroundingDINO.\n",
        "- **`segment-anything-py`**: The official library for the Segment Anything Model.\n",
        "- **`supervision`**: A helpful library for visualization and handling annotations (used in some helper functions)."
      ]
    },
    {
      "cell_type": "code",
      "execution_count": 1,
      "metadata": {
        "id": "d1Nx_nEq4mHR"
      },
      "outputs": [],
      "source": [
        "!pip install -q transformers supervision segment-anything-py Pillow"
      ]
    },
    {
      "cell_type": "markdown",
      "metadata": {
        "id": "CpegnHN34rJQ"
      },
      "source": [
        "# Dependency"
      ]
    },
    {
      "cell_type": "code",
      "execution_count": null,
      "metadata": {
        "colab": {
          "base_uri": "https://localhost:8080/"
        },
        "id": "Ki-ZZoyG4pe6",
        "outputId": "a82c16a4-f2e3-4153-abdd-b40565609d67"
      },
      "outputs": [
        {
          "name": "stdout",
          "output_type": "stream",
          "text": [
            "✅ Initial Setup complete.\n"
          ]
        }
      ],
      "source": [
        "import os\n",
        "import requests\n",
        "import torch\n",
        "import numpy as np\n",
        "import supervision as sv\n",
        "import PIL\n",
        "from PIL import Image\n",
        "from transformers import AutoProcessor, AutoModelForZeroShotObjectDetection\n",
        "import matplotlib.pyplot as plt\n",
        "import matplotlib.patches as patches\n",
        "from dataclasses import dataclass\n",
        "# --- Download SAM weights ---\n",
        "WEIGHTS_DIR = os.path.join(os.getcwd(), \"weights\")\n",
        "os.makedirs(WEIGHTS_DIR, exist_ok=True)\n",
        "SAM_WEIGHTS_PATH = os.path.join(WEIGHTS_DIR, \"sam_vit_h_4b8939.pth\")\n",
        "\n",
        "if not os.path.exists(SAM_WEIGHTS_PATH):\n",
        "wget -q https://dl.fbaipublicfiles.com/segment_anything/sam_vit_h_4b8939.pth -P {WEIGHTS_DIR}\n",
        "\n",
        "from segment_anything import sam_model_registry, SamPredictor\n",
        "print(\"✅ Initial Setup complete.\")\n",
        "\n",
        "from google.colab import files\n",
        "import ipywidgets as widgets\n",
        "from IPython.display import display, clear_output\n",
        "import PIL.Image"
      ]
    },
    {
      "cell_type": "code",
      "execution_count": null,
      "metadata": {
        "id": "KikLSSc6475A"
      },
      "outputs": [],
      "source": [
        "@dataclass\n",
        "class ModelParameters:\n",
        "  dino_model_id :str = \"IDEA-Research/grounding-dino-tiny\"\n",
        "  sam_model_type = \"vit_h\"\n",
        "  device = \"cuda\" if torch.cuda.is_available() else \"cpu\"\n",
        "@dataclass\n",
        "class DataParameters:\n",
        "  img_path :str\n",
        "  vid_path :str\n",
        "  save_path :str\n",
        "  input_text_prompt :str\n"
      ]
    },
    {
      "cell_type": "markdown",
      "metadata": {
        "id": "8AXGsl1fDqeL"
      },
      "source": [
        "# Model\n",
        "The solution is built on a \"Finder-Painter\" principle, where each model has a specialized role:\n",
        "\n",
        "1.  **The Finder (GroundingDINO):** An open-set object detector that excels at understanding language. It takes our text prompt and finds *where* the object is in the image, returning bounding boxes.\n",
        "2.  **The Painter (SAM):** A promptable segmentation model that excels at understanding object boundaries. It takes the bounding boxes from the Finder as a guide and \"paints\" a pixel-perfect mask.\n",
        "\n",
        "Our code encapsulates these roles in distinct classes (`DINO`, `SAM`) and orchestrates the flow of data between them."
      ]
    },
    {
      "cell_type": "code",
      "execution_count": 4,
      "metadata": {
        "id": "T5IO8zak5jpV"
      },
      "outputs": [],
      "source": [
        "class DINO:\n",
        "  def __init__(self, mparams):\n",
        "    self.device = mparams.device\n",
        "    self.processor = AutoProcessor.from_pretrained(mparams.dino_model_id)\n",
        "    self.model = AutoModelForZeroShotObjectDetection.from_pretrained(mparams.dino_model_id)\n",
        "    print(\"GroundingDINO model loaded.\")\n",
        "\n",
        "  def _enhance_input_text(self, text_prompt:str):\n",
        "    \"\"\"To enhance the text prompt such that each probable class is seperated by '.' \"\"\"\n",
        "    prompt_list = [p.strip() for p in text_prompt.split(',')]\n",
        "    return prompt_list\n",
        "\n",
        "  def _get_bounding_box(self, image:PIL.Image, text_prompt):\n",
        "    inputs = self.processor(images=image, text=self._enhance_input_text(text_prompt), return_tensors=\"pt\").to(self.device)\n",
        "    with torch.no_grad():\n",
        "        outputs = self.model(**inputs)\n",
        "\n",
        "    results = self.processor.post_process_grounded_object_detection(\n",
        "        outputs,\n",
        "        inputs.input_ids,\n",
        "        threshold=0.4,\n",
        "        text_threshold=0.3,\n",
        "        target_sizes=[image.size[::-1]] # change to h,w\n",
        "    )\n",
        "\n",
        "    # Extract the boxes and labels\n",
        "    dino_boxes = results[0][\"boxes\"] # Get the boxes tensor\n",
        "    dino_labels = results[0][\"text_labels\"]\n",
        "    print(f\"GroundingDINO found labels: {dino_labels}\")\n",
        "    print(f\"GroundingDINO found {len(dino_boxes)} box(es).\")\n",
        "    return dino_boxes, dino_labels\n",
        "\n",
        "class SAM:\n",
        "  def __init__ (self, mparams):\n",
        "    self.device = mparams.device\n",
        "    self.sam = sam_model_registry[mparams.sam_model_type](checkpoint=SAM_WEIGHTS_PATH)\n",
        "    self.sam.to(device=mparams.device)\n",
        "    self.sam_predictor = SamPredictor(self.sam)\n",
        "    print(\"SAM model loaded.\")\n",
        "\n",
        "  def _segment(self, image:PIL.Image, bounding_boxes):\n",
        "    image_np = np.array(image)\n",
        "    self.sam_predictor.set_image(image_np)\n",
        "\n",
        "    # Transform the boxes from DINO to match SAM's internal image representation\n",
        "    transformed_boxes = self.sam_predictor.transform.apply_boxes_torch(bounding_boxes, image_np.shape[:2])\n",
        "\n",
        "    # using transformed boxes for predictions\n",
        "    masks, _, _ = self.sam_predictor.predict_torch(\n",
        "        point_coords=None,\n",
        "        point_labels=None,\n",
        "        boxes=transformed_boxes.to(self.device), # Use the transformed boxes\n",
        "        multimask_output=False,\n",
        "    )\n",
        "    print(\"SAM generated masks.\")\n",
        "    return masks\n",
        "\n",
        "class Visualize:\n",
        "  @staticmethod\n",
        "  def _show_mask(mask, ax, random_color=False):\n",
        "    if random_color:\n",
        "        color = np.concatenate([np.random.random(3), np.array([0.6])], axis=0)\n",
        "    else:\n",
        "        color = np.array([30/255, 144/255, 255/255, 0.6]) # Dodger blue\n",
        "    h, w = mask.shape[-2:]\n",
        "    mask_image = mask.reshape(h, w, 1) * color.reshape(1, 1, -1)\n",
        "    ax.imshow(mask_image)\n",
        "\n",
        "  @staticmethod\n",
        "  def _show_box(box, ax, label):\n",
        "    x_min, y_min, x_max, y_max = box\n",
        "    rect = patches.Rectangle((x_min, y_min), x_max - x_min, y_max - y_min, linewidth=2,\n",
        "                             edgecolor='r', facecolor='none')\n",
        "    ax.add_patch(rect)\n",
        "    ax.text(x_min, y_min - 10, label, color='white', fontsize=12,\n",
        "            bbox=dict(facecolor='red', alpha=0.5))\n",
        "\n",
        "  @staticmethod\n",
        "  def _show_segmentation(image:PIL.Image, input_prompt:str, seg_masks, bounding_boxes, box_labels):\n",
        "    fig, ax = plt.subplots(figsize=(12, 12))\n",
        "    ax.imshow(image)\n",
        "    ax.set_title(f\"Segmentation for: '{input_prompt}'\")\n",
        "\n",
        "    # Plotting masks\n",
        "    if seg_masks is not None:\n",
        "        for mask in seg_masks:\n",
        "            Visualize._show_mask(mask.cpu().numpy(), ax, random_color=True)\n",
        "    if len(bounding_boxes) > 0:\n",
        "        for box, label in zip(bounding_boxes, box_labels):\n",
        "            Visualize._show_box(box.cpu().numpy(), ax, label) # Pass the specific label for this box\n",
        "\n",
        "    plt.savefig('segmentation_mask.png')\n",
        "    plt.axis('off')\n",
        "    plt.show()"
      ]
    },
    {
      "cell_type": "markdown",
      "metadata": {
        "id": "wKHiem4nDud1"
      },
      "source": [
        "# Interactive Demonstration\n",
        "\n",
        "\n",
        "- **Upload an image** from your local machine.\n",
        "- **Enter a text prompt** describing the object you want to segment (you can list multiple objects separated by commas, e.g., \"a person, a surfboard\").\n",
        "- **Click \"Run Segmentation\"** to see the final result."
      ]
    },
    {
      "cell_type": "code",
      "execution_count": 5,
      "metadata": {
        "colab": {
          "base_uri": "https://localhost:8080/",
          "height": 1000,
          "referenced_widgets": [
            "7641e88627224ddd95b4c46b472bccf8",
            "ed29b3b622464c9797d28106aef7f6d2",
            "ece74e7a01594c669ac898d0d0e38b1a",
            "9bb79d5954a448d2bf4a618ca3a04b4b",
            "2dca27196ac944028484b65a01c2cef3",
            "4d8f22a7ec2040e2b6a49f2ea7434fd9",
            "ab4fa9a7b07f43ccbaa0bbc02edb2c4e",
            "e7f327e82b594667a12005ce76c8e450",
            "ae0fe3164f11471b8d724b22bcb27d94",
            "53542ad0c6f64c97a434cbd6a31a0823",
            "a544629ac46149599a9623f077ced012",
            "eab4a2e3d012428e8355431349182388",
            "0998ffc3db034a10ab9bf54e163f7186",
            "6fc5388468894b1eb5ff9f7dd2c921a7",
            "0b0a05269b424d4b990d6e801f21ac64",
            "f28a4ca61c2749289ce08a37295effb3",
            "fbf000233ba242ada5d9322e4c3cc1c8",
            "3f5e04a47c57485a84c35c7dc2a9c4ea",
            "578329a186fb4d32b7f63cc759314dcf",
            "fc2b10ebd0704f7cba89ed8e24e71a9f",
            "a502fe6da6d5424b91f4e5ea37070869",
            "2966560298dc4d32b47daca4d7dd9a40",
            "9cb678bc575447d3ab18ac373a17d435",
            "7cd97e0fd3fd4ea0a95ad20af4997729",
            "beeb26a532a14a06a62941e155045544",
            "5689b7da5d324933915386e5f7660d25",
            "1e205c630e7a43f4a2582b176b9279f5",
            "b394c3e8ca424a499ed1b0bb8c918e5f",
            "07ddf2b88e4644c280a53f75210c4ab2",
            "c663d87ef85942c88062fcbeb161bd94",
            "d4a20a0f0eca4f0b93cb18430065532c",
            "506b18fe6dac460089bda96af950879e",
            "9ea98403e11c4e0699b07384fd63293f",
            "7002cdfd11d74575a4881d7f5617f662",
            "cd48d16657784905bc83ca0edf2a9def",
            "ab38d2c2eddd4b2dabe93579383a7f2e",
            "9d51b2b755a648c98453d2aa502eabdc",
            "d75f438cefbd4144b16f682d1bd1df9e",
            "85572885cd354a14941e9548b528441b",
            "e4b3028f3ecd4ea1b7643539f4b8f24d",
            "3a5d4c4965d343a6b5bccf84cd749627",
            "15b7b1f470da4fb5a7983dc67464955f",
            "6a26bffcab0049d9878c0d439d9b5995",
            "b6fea5efe38e4c6dbd8dc07c690070d1",
            "1b973b8773a245c8aa5622f4408bda5b",
            "a833faca88b946cba518d17b1ae971a8",
            "90b4699f76db4ce386def55b14230653",
            "2ecd6710460c462e831213b5e682eb2c",
            "3f11144d358840dba19bc97a9780aa8c",
            "42de122e980e4ea88df5326191575445",
            "8636fb60c1f74a76b4989713541af391",
            "a9e91fd46f024f99ad9dc87785cccc8b",
            "e75340dee8244d3fb6366c21db0ae0c0",
            "7dfd764a1a494560989f31c749a0cf10",
            "aeeb3570638c4a3ea1a18e89dcc8d285",
            "8cf1a2ce4b9b4f1f8ed9c0c154d2abbc",
            "2aa13a1806f649a9bd84fe83461e4da7",
            "43219a26d5f9413a9ad4e690c9738145",
            "d4d209ae221a43f49c35db3e78faadfc",
            "abb088a36a8d4cb692c62bebfb0e4e3f",
            "dc539f7e33dc46049beaf07755ef545b",
            "2ff5c84196f64c60871d6bfb1fed3bd6",
            "15ba1591e26846c1bc01e5847cb1e910",
            "1db35a97061243d3a02da29edede990e",
            "74efed136ddf43adae6faa417be859a9",
            "4947f564cef049bf8a54bb844df53c55",
            "dee3b23d742a40308c00ffed83a76758",
            "c4cb50adfd4a4ef7b6e6e8ccc94a7ac4",
            "3802b98811064e1384dbf7f133f152df",
            "efbee76b47c64a009360968e10003f33",
            "48404538ac7b4dc4932773fe2c14cfdc",
            "b7e99170d6354f56a270a02575a6a8fd",
            "78be3ce82a004fa4968228ff252c8e4c",
            "189f4b75d68044adb8ff85c6e21e2452",
            "abce0a093b774c25a63b4f0b863bcfb4",
            "58e3a75475eb4ef489249e1572718e2d",
            "964cd119894f42438b529fd92fd78092",
            "be867fb7f1f6478288b921ae822a2f45",
            "77b040f6a16b4a62a08234220fda64a5",
            "1ac53cd09e154283b2c3f1024324f101",
            "a7d535e88a4544c68a47985b5c3b4ed2",
            "c38e875b1b8b465ea823c205067f67d5",
            "e7206690e4b348a0ba073e992ff3abb9",
            "dac4779412ed4b2a9055118f11bb627e",
            "8aeff9d7f0fa4473975d1358d377ca5d",
            "74a66620624f42d09fc25eae6f7b3f8f",
            "3fda057800d3448ea70289f461918156",
            "467b6f092d354debb9f1a23c92558316",
            "067bbc41aebd43dd9710a1f868916c75",
            "a568f322237845509e0489210a010273",
            "71d9d244882d431ab77125a8d6a21ab8",
            "ecdbfbeea8eb4f65bf0c9f6a48068e5f",
            "782cbb7fc6c74895bc5a44181f107b9a",
            "c66f7ec8c16246968c836970f7890afd",
            "bb90759c85644bd1a97f329d8ca1f86a",
            "4e7d70c2aeeb4816b332253f8ffb4acc",
            "e5d9dee5bda64eeca0c8707caa08dfef",
            "a2c8d1f84042472683a0f34d31fea55f",
            "8afa340c8c2e4956a36cdaf60ed1cf94"
          ]
        },
        "id": "9c1jRupEJGEV",
        "outputId": "598d7095-c6fd-46bb-c7aa-f292a0f932bd"
      },
      "outputs": [
        {
          "name": "stderr",
          "output_type": "stream",
          "text": [
            "UserWarning: \n",
            "The secret `HF_TOKEN` does not exist in your Colab secrets.\n",
            "To authenticate with the Hugging Face Hub, create a token in your settings tab (https://huggingface.co/settings/tokens), set it as secret in your Google Colab and restart your session.\n",
            "You will be able to reuse this secret in all of your notebooks.\n",
            "Please note that authentication is recommended but still optional to access public models or datasets.\n"
          ]
        },
        {
          "data": {
            "application/vnd.jupyter.widget-view+json": {
              "model_id": "7641e88627224ddd95b4c46b472bccf8",
              "version_major": 2,
              "version_minor": 0
            },
            "text/plain": [
              "preprocessor_config.json:   0%|          | 0.00/457 [00:00<?, ?B/s]"
            ]
          },
          "metadata": {},
          "output_type": "display_data"
        },
        {
          "data": {
            "application/vnd.jupyter.widget-view+json": {
              "model_id": "eab4a2e3d012428e8355431349182388",
              "version_major": 2,
              "version_minor": 0
            },
            "text/plain": [
              "tokenizer_config.json: 0.00B [00:00, ?B/s]"
            ]
          },
          "metadata": {},
          "output_type": "display_data"
        },
        {
          "data": {
            "application/vnd.jupyter.widget-view+json": {
              "model_id": "9cb678bc575447d3ab18ac373a17d435",
              "version_major": 2,
              "version_minor": 0
            },
            "text/plain": [
              "vocab.txt: 0.00B [00:00, ?B/s]"
            ]
          },
          "metadata": {},
          "output_type": "display_data"
        },
        {
          "data": {
            "application/vnd.jupyter.widget-view+json": {
              "model_id": "7002cdfd11d74575a4881d7f5617f662",
              "version_major": 2,
              "version_minor": 0
            },
            "text/plain": [
              "tokenizer.json: 0.00B [00:00, ?B/s]"
            ]
          },
          "metadata": {},
          "output_type": "display_data"
        },
        {
          "data": {
            "application/vnd.jupyter.widget-view+json": {
              "model_id": "1b973b8773a245c8aa5622f4408bda5b",
              "version_major": 2,
              "version_minor": 0
            },
            "text/plain": [
              "added_tokens.json:   0%|          | 0.00/82.0 [00:00<?, ?B/s]"
            ]
          },
          "metadata": {},
          "output_type": "display_data"
        },
        {
          "data": {
            "application/vnd.jupyter.widget-view+json": {
              "model_id": "8cf1a2ce4b9b4f1f8ed9c0c154d2abbc",
              "version_major": 2,
              "version_minor": 0
            },
            "text/plain": [
              "special_tokens_map.json:   0%|          | 0.00/125 [00:00<?, ?B/s]"
            ]
          },
          "metadata": {},
          "output_type": "display_data"
        },
        {
          "data": {
            "application/vnd.jupyter.widget-view+json": {
              "model_id": "dee3b23d742a40308c00ffed83a76758",
              "version_major": 2,
              "version_minor": 0
            },
            "text/plain": [
              "config.json: 0.00B [00:00, ?B/s]"
            ]
          },
          "metadata": {},
          "output_type": "display_data"
        },
        {
          "data": {
            "application/vnd.jupyter.widget-view+json": {
              "model_id": "be867fb7f1f6478288b921ae822a2f45",
              "version_major": 2,
              "version_minor": 0
            },
            "text/plain": [
              "model.safetensors:   0%|          | 0.00/689M [00:00<?, ?B/s]"
            ]
          },
          "metadata": {},
          "output_type": "display_data"
        },
        {
          "name": "stdout",
          "output_type": "stream",
          "text": [
            "GroundingDINO model loaded.\n",
            "SAM model loaded.\n",
            "Please upload an image to begin.\n"
          ]
        },
        {
          "data": {
            "application/vnd.jupyter.widget-view+json": {
              "model_id": "067bbc41aebd43dd9710a1f868916c75",
              "version_major": 2,
              "version_minor": 0
            },
            "text/plain": [
              "FileUpload(value={}, accept='image/*', description='Upload Image')"
            ]
          },
          "metadata": {},
          "output_type": "display_data"
        },
        {
          "data": {
            "application/vnd.jupyter.widget-view+json": {
              "model_id": "ecdbfbeea8eb4f65bf0c9f6a48068e5f",
              "version_major": 2,
              "version_minor": 0
            },
            "text/plain": [
              "Text(value='a red cap', description='Prompt:', disabled=True, placeholder='Enter object(s) to find, separated …"
            ]
          },
          "metadata": {},
          "output_type": "display_data"
        },
        {
          "data": {
            "application/vnd.jupyter.widget-view+json": {
              "model_id": "bb90759c85644bd1a97f329d8ca1f86a",
              "version_major": 2,
              "version_minor": 0
            },
            "text/plain": [
              "Button(button_style='success', description='Run Segmentation', disabled=True, icon='check', style=ButtonStyle(…"
            ]
          },
          "metadata": {},
          "output_type": "display_data"
        },
        {
          "data": {
            "application/vnd.jupyter.widget-view+json": {
              "model_id": "a2c8d1f84042472683a0f34d31fea55f",
              "version_major": 2,
              "version_minor": 0
            },
            "text/plain": [
              "Output()"
            ]
          },
          "metadata": {},
          "output_type": "display_data"
        }
      ],
      "source": [
        "class UI_Handler:\n",
        "    def __init__(self, dino_model, sam_model):\n",
        "        \"\"\"\n",
        "        Initializes the handler with pre-loaded DINO and SAM models.\n",
        "        \"\"\"\n",
        "        self.dino = dino_model\n",
        "        self.sam = sam_model\n",
        "        self.image_path = None\n",
        "\n",
        "        # --- Create UI Widgets ---\n",
        "        self.uploader = widgets.FileUpload(\n",
        "            accept='image/*',\n",
        "            description='Upload Image'\n",
        "        )\n",
        "        self.text_prompt = widgets.Text(\n",
        "            value='a red cap',\n",
        "            placeholder='Enter object(s) to find, separated by commas',\n",
        "            description='Prompt:',\n",
        "            disabled=True # Disabled until an image is uploaded\n",
        "        )\n",
        "        self.run_button = widgets.Button(\n",
        "            description='Run Segmentation',\n",
        "            disabled=True,\n",
        "            button_style='success',\n",
        "            icon='check'\n",
        "        )\n",
        "        self.output = widgets.Output()\n",
        "\n",
        "        # --- Define Widget Actions ---\n",
        "        self.uploader.observe(self._handle_upload, names='value')\n",
        "        self.run_button.on_click(self._run_pipeline)\n",
        "\n",
        "    def _handle_upload(self, change):\n",
        "        \"\"\"Called when a file is uploaded.\"\"\"\n",
        "        with self.output:\n",
        "            clear_output() # Clear previous image/results\n",
        "            uploaded_files = change['new']\n",
        "\n",
        "            if not change['new']:\n",
        "                print(\"Upload cancelled.\")\n",
        "                return\n",
        "\n",
        "            # Get the uploaded file\n",
        "            uploaded_file = list(uploaded_files.values())[0]\n",
        "            filename = uploaded_file['metadata']['name']\n",
        "            content = uploaded_file['content']\n",
        "\n",
        "            # Define a path to save the image in the Colab runtime\n",
        "            self.image_path = f\"/content/{filename}\"\n",
        "\n",
        "            # Save the file\n",
        "            with open(self.image_path, 'wb') as f:\n",
        "                f.write(content)\n",
        "\n",
        "            print(f\"Image '{filename}' uploaded successfully.\")\n",
        "\n",
        "            # Display the uploaded image\n",
        "            img = PIL.Image.open(self.image_path)\n",
        "            display(img)\n",
        "\n",
        "            # Enable the other widgets\n",
        "            self.text_prompt.disabled = False\n",
        "            self.run_button.disabled = False\n",
        "\n",
        "    def _run_pipeline(self, b):\n",
        "        \"\"\"Called when the 'Run Segmentation' button is clicked.\"\"\"\n",
        "        with self.output:\n",
        "            # Clear previous results but keep the uploaded image\n",
        "            clear_output(wait=True)\n",
        "            if self.image_path:\n",
        "                img_display = PIL.Image.open(self.image_path)\n",
        "                display(img_display)\n",
        "\n",
        "            prompt_text = self.text_prompt.value\n",
        "            if not prompt_text:\n",
        "                print(\"Error: Please enter a text prompt.\")\n",
        "                return\n",
        "\n",
        "            print(\"Processing... This may take a moment.\")\n",
        "\n",
        "            # --- DINO-SAM Pipeline ---\n",
        "            try:\n",
        "                image_pil = PIL.Image.open(self.image_path).convert(\"RGB\")\n",
        "\n",
        "                # 1. Get bounding boxes from DINO\n",
        "                bounding_boxes, box_labels = self.dino._get_bounding_box(image_pil, prompt_text)\n",
        "\n",
        "                # 2. Get masks from SAM\n",
        "                if len(bounding_boxes) > 0:\n",
        "                    seg_masks = self.sam._segment(image_pil, bounding_boxes)\n",
        "                else:\n",
        "                    seg_masks = None\n",
        "\n",
        "                # 3. Visualize\n",
        "                Visualize._show_segmentation(image_pil, prompt_text, seg_masks, bounding_boxes, box_labels)\n",
        "            except Exception as e:\n",
        "                print(f\"An error occurred: {e}\")\n",
        "\n",
        "    def display_ui(self):\n",
        "        \"\"\"Displays the full user interface.\"\"\"\n",
        "        print(\"Please upload an image to begin.\")\n",
        "        display(self.uploader, self.text_prompt, self.run_button, self.output)\n",
        "\n",
        "\n",
        "\n",
        "# --- Usage ---\n",
        "dino_instance = DINO(mparams=ModelParameters())\n",
        "sam_instance = SAM(mparams=ModelParameters())\n",
        "ui = UI_Handler(dino_model=dino_instance, sam_model=sam_instance)\n",
        "ui.display_ui()"
      ]
    },
    {
      "cell_type": "code",
      "execution_count": null,
      "metadata": {
        "id": "FHHmZDsqz8Ip"
      },
      "outputs": [],
      "source": []
    }
  ],
  "metadata": {
    "colab": {
      "provenance": []
    },
    "kernelspec": {
      "display_name": "Python 3",
      "name": "python3"
    },
    "language_info": {
      "name": "python"
    },
"nbformat": 4,
"nbformat_minor": 0
}
