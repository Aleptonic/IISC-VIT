{
  "nbformat": 4,
  "nbformat_minor": 0,
  "metadata": {
    "colab": {
      "provenance": [],
      "gpuType": "T4",
      "include_colab_link": true
    },
    "kernelspec": {
      "name": "python3",
      "display_name": "Python 3"
    },
    "language_info": {
      "name": "python"
    },
    "accelerator": "GPU"
  },
  "cells": [
    {
      "cell_type": "markdown",
      "metadata": {
        "id": "view-in-github",
        "colab_type": "text"
      },
      "source": [
        "<a href=\"https://colab.research.google.com/github/Aleptonic/IISC-VIT/blob/main/q1.ipynb\" target=\"_parent\"><img src=\"https://colab.research.google.com/assets/colab-badge.svg\" alt=\"Open In Colab\"/></a>"
      ]
    },
    {
      "cell_type": "markdown",
      "source": [
        "# Training a ViT on CIFAR-10\n",
        "Training a Vision Transformer from scratch on a small dataset like CIFAR-10 is a known challenge. The original ViT paper demonstrated that these models require massive datasets to outperform CNNs. This project's core challenge was to overcome this limitation by building a robust pipeline that incorporates a suite of modern, data-efficient training techniques.\n",
        "\n",
        "The following sections detail the step-by-step implementation, highlighting the key decisions and optimizations made at each stage.\n",
        "Table of contents\n",
        "1. Dependencies\n",
        "2. Configurations\n",
        "3. Model\n",
        "4. DataLoader\n",
        "5. Evaluator\n",
        "6. Training\n",
        "7. Experiments\n",
        "8. Evaluate Best Trained ViT Model"
      ],
      "metadata": {
        "id": "HCHAEL-Nvpvn"
      }
    },
    {
      "cell_type": "markdown",
      "source": [
        "# Dependencies"
      ],
      "metadata": {
        "id": "dMVEMrlsv54Z"
      }
    },
    {
      "cell_type": "code",
      "source": [
        "import random\n",
        "import numpy as np\n",
        "import os\n",
        "import json\n",
        "import matplotlib.pyplot as plt\n",
        "import seaborn as sns\n",
        "from sklearn.metrics import accuracy_score, classification_report, confusion_matrix\n",
        "\n",
        "import torch\n",
        "import torch.nn as nn\n",
        "from torch.nn import Softmax, GELU\n",
        "from dataclasses import dataclass\n",
        "from torch.utils.data import DataLoader, Subset\n",
        "from torchvision import datasets, transforms\n",
        "import collections\n",
        "from torchvision.transforms.v2 import MixUp, CutMix\n",
        "\n",
        "import torch.optim as optim\n",
        "from torch.optim.lr_scheduler import OneCycleLR\n",
        "\n",
        "from einops import rearrange, repeat\n",
        "from tqdm import tqdm\n",
        "import pandas as pd\n"
      ],
      "metadata": {
        "id": "NAPsjSH8v4y0"
      },
      "execution_count": 1,
      "outputs": []
    },
    {
      "cell_type": "code",
      "source": [
        "# --- to save the model without losing it. ---\n",
        "from google.colab import drive\n",
        "drive.mount('/content/drive')"
      ],
      "metadata": {
        "colab": {
          "base_uri": "https://localhost:8080/"
        },
        "id": "ui9g5bX6-may",
        "outputId": "b32c878c-8bf0-462a-d88a-03507dbbb3ed"
      },
      "execution_count": 2,
      "outputs": [
        {
          "output_type": "stream",
          "name": "stdout",
          "text": [
            "Mounted at /content/drive\n"
          ]
        }
      ]
    },
    {
      "cell_type": "markdown",
      "source": [
        "# Configurations"
      ],
      "metadata": {
        "id": "la0rhI9GwbLq"
      }
    },
    {
      "cell_type": "code",
      "source": [
        "@dataclass\n",
        "class ImageParams:\n",
        "    width: int\n",
        "    height: int\n",
        "    in_channel: int\n",
        "@dataclass\n",
        "class ModelParameters:\n",
        "    patch_size: int\n",
        "    inner_dim: int\n",
        "    transformer_layers: int\n",
        "    num_head: int\n",
        "    embed_dropout: float\n",
        "    attn_dropout: float\n",
        "    mlp_dropout: float\n",
        "@dataclass\n",
        "class Hyperparameters:\n",
        "    batch_size: int\n",
        "    out_classes: int\n",
        "    epochs: int\n",
        "    learning_rate: float\n",
        "    weight_decay: float\n"
      ],
      "metadata": {
        "id": "B8uG874gwddB"
      },
      "execution_count": 3,
      "outputs": []
    },
    {
      "cell_type": "markdown",
      "source": [
        "# Model\n",
        "* **Core Components:** The architecture is broken down into logical `nn.Module` classes: `PatchEmbedding`, `MultiHeadAttention`, `MLP`, and `TransformerEncoderBlock`.\n",
        "\n",
        "* **Efficient Patching:** Instead of manually slicing and embedding image patches, a more efficient method was used: a single `nn.Conv2d` layer. With a `kernel_size` and `stride` equal to the `patch_size`, this layer performs both the *non-overlapped* patching and the linear projection into the embedding dimension in one highly optimized operation.\n",
        "\n",
        "* **Stable Architecture (Pre-Norm):** While the original Transformer used a \"Post-Norm\" structure (LayerNorm *after* the residual connection), we have adopted the more stable **\"Pre-Norm\"** configuration. Applying `LayerNorm` *before* the Multi-Head Attention and MLP blocks leads to smoother gradients and more stable training.\n",
        "\n",
        "* **Model Sizing:** Recognizing the risk of overfitting on CIFAR-10, a smaller model variant was chosen. The architecture follows the **DeiT-Ti (Tiny)** specification (`dim=192`, `depth=12`, `heads=3`), providing a better capacity-to-data ratio.\n"
      ],
      "metadata": {
        "id": "Jc1Y6IkcwgBi"
      }
    },
    {
      "cell_type": "code",
      "source": [
        "class PatchEmbedding(nn.Module):\n",
        "    def __init__(self, mparams, hparams, img_info):\n",
        "        super(PatchEmbedding, self).__init__()\n",
        "        self.patch_size = mparams.patch_size\n",
        "        self.img_size = img_info.width\n",
        "        self.num_patches = (self.img_size//self.patch_size) * (self.img_size//self.patch_size)\n",
        "        self.D = mparams.inner_dim\n",
        "        self.patch_embed = nn.Conv2d(\n",
        "            in_channels=img_info.in_channel,\n",
        "            out_channels=self.D,\n",
        "            kernel_size=self.patch_size,\n",
        "            stride=self.patch_size\n",
        "        )\n",
        "        self.cls_token = nn.Parameter(torch.rand(1,1,self.D))\n",
        "\n",
        "    def forward(self, x):\n",
        "        # Input: [B, C, H, W]\n",
        "        # Output: [B, N, D] here N is selected num_patches(from image) + 1 (cls token)\n",
        "        b = x.shape[0]\n",
        "        cls_token = repeat(self.cls_token, '1 1 d -> b 1 d', b=b)\n",
        "        x = self.patch_embed(x)\n",
        "        x = rearrange(x, 'b d h w -> b (h w) d')\n",
        "        x = torch.cat((cls_token, x), dim=1)\n",
        "        return x\n",
        "class MHA(nn.Module):\n",
        "    def __init__(self, mparams, hparams):\n",
        "        super(MHA, self).__init__()\n",
        "        self.D = mparams.inner_dim\n",
        "        self.num_head = mparams.num_head\n",
        "        assert self.D % self.num_head == 0 , 'Inner dimensions and number of attention head need to be perfectly divisible'\n",
        "        self.head_size = self.D // self.num_head\n",
        "        self.all_head_size = self.head_size * self.num_head\n",
        "        # Set up QKV\n",
        "        self.query = nn.Linear(in_features=self.D, out_features=self.all_head_size)\n",
        "        self.key = nn.Linear(in_features=self.D, out_features=self.all_head_size)\n",
        "        self.value = nn.Linear(in_features=self.D, out_features=self.all_head_size)\n",
        "        self.output = nn.Linear(in_features=self.D, out_features=self.D)\n",
        "        self.attn_dropout = nn.Dropout(mparams.attn_dropout)\n",
        "        self.proj_dropout = nn.Dropout(mparams.attn_dropout)\n",
        "        self.softmax = Softmax(dim=-1)\n",
        "    def forward(self, x, mask= None):\n",
        "        # Input: [B, N, D]\n",
        "        # For atten: [B, num_head, num_patches, head_size]\n",
        "        # Output: [B, N, D]\n",
        "        q = self.query(x)\n",
        "        k = self.key(x)\n",
        "        v = self.value(x)\n",
        "        # For atten: [B, num_head, num_patches, head_size]\n",
        "        q = rearrange(q, 'b n (h d) -> b h n d', h=self.num_head)\n",
        "        k = rearrange(k, 'b n (h d) -> b h n d', h=self.num_head)\n",
        "        v = rearrange(v, 'b n (h d) -> b h n d', h=self.num_head)\n",
        "        attn_score = torch.matmul(q, k.transpose(-1, -2))/ self.head_size**0.5\n",
        "        if mask is not None:\n",
        "            attn_score = attn_score.masked_fill(mask == 0, -1e9)\n",
        "        attn_probs = self.softmax(attn_score)\n",
        "        attn_probs = self.attn_dropout(attn_probs)\n",
        "         # sum with V\n",
        "        context = torch.matmul(attn_probs,v) #[B,h,n,d]\n",
        "        # combine all heads\n",
        "        context = rearrange(context, 'b h n d -> b n (h d) ')\n",
        "        output = self.output(context)\n",
        "        output = self.proj_dropout(output)\n",
        "        return output\n",
        "class MLP(nn.Module):\n",
        "    def __init__(self, mparams, hparams):\n",
        "        super().__init__()\n",
        "        self.D = mparams.inner_dim\n",
        "        self.hidden_dim = 4* self.D\n",
        "        self.net = nn.Sequential(\n",
        "            nn.Linear(self.D, self.hidden_dim),\n",
        "            nn.GELU(),\n",
        "            nn.Dropout(mparams.mlp_dropout),\n",
        "            nn.Linear(self.hidden_dim, self.D),\n",
        "            nn.Dropout(mparams.mlp_dropout)\n",
        "        )\n",
        "    def forward(self, x):\n",
        "        return self.net(x)\n",
        "class EncoderBlock(nn.Module):\n",
        "    def __init__(self, mparams, hparams):\n",
        "        super().__init__()\n",
        "        self.norm1 = nn.LayerNorm(mparams.inner_dim)\n",
        "        self.attn = MHA(mparams=mparams, hparams=hparams)\n",
        "        self.norm2 = nn.LayerNorm(mparams.inner_dim)\n",
        "        self.ffn = MLP(mparams=mparams, hparams=hparams)\n",
        "    def forward(self, x):\n",
        "        residual = x\n",
        "        x = self.norm1(x)\n",
        "        x = self.attn(x) + residual\n",
        "\n",
        "        residual = x\n",
        "        x = self.norm2(x)\n",
        "        x = self.ffn(x) + residual\n",
        "        return x\n",
        "class Transformer(nn.Module):\n",
        "    def __init__(self, mparams, hparams):\n",
        "        super().__init__()\n",
        "        self.depth = mparams.transformer_layers\n",
        "        self.layers = nn.ModuleList([\n",
        "            EncoderBlock(mparams=mparams, hparams=hparams) for _ in range(self.depth)\n",
        "        ])\n",
        "    def forward(self, x):\n",
        "        for layer in self.layers:\n",
        "            x = layer(x)\n",
        "        return x\n",
        "class ViT(nn.Module):\n",
        "    def __init__(self, mparams, hparams, img_info):\n",
        "        super().__init__()\n",
        "        image_width = img_info.width\n",
        "        patch_size = mparams.patch_size\n",
        "        num_patches = (image_width//patch_size)**2\n",
        "        self.pos_embed = nn.Parameter(torch.rand(1, num_patches+1, mparams.inner_dim))\n",
        "        self.patch_embed = PatchEmbedding(mparams=mparams, hparams=hparams, img_info=img_info)\n",
        "        self.transformer = Transformer(mparams=mparams, hparams=hparams)\n",
        "        self.mlp_head = nn.Sequential(\n",
        "            nn.LayerNorm(mparams.inner_dim),\n",
        "            nn.Linear(mparams.inner_dim, hparams.out_classes)\n",
        "        )\n",
        "        self.embed_dropout = nn.Dropout(mparams.embed_dropout)\n",
        "    def forward(self, x):\n",
        "        x = self.patch_embed(x)\n",
        "        x = x + self.pos_embed\n",
        "        x = self.embed_dropout(x)\n",
        "        x = self.transformer(x)\n",
        "        cls_token_ouput = x[:,0] # or u can do x.mean(dim=1) if we do a mean pooling for the final cls token\n",
        "        return self.mlp_head(cls_token_ouput)\n"
      ],
      "metadata": {
        "id": "vKovHunxwgpM"
      },
      "execution_count": 4,
      "outputs": []
    },
    {
      "cell_type": "markdown",
      "source": [
        "# DataLoader\n",
        "* **Initial Approach:** A standard data loader with basic transformations (`ToTensor`, `Normalize`).\n",
        "* **Key Improvement:** To make the model generalize better, a sophisticated augmentation strategy inspired by the DeiT paper was implemented.\n",
        "    * **In-Transform Augmentations:** `RandomHorizontalFlip` and `RandomResizedCrop` were added to provide basic geometric variance.\n",
        "    * **Batch-Level Augmentations:** Standard transforms are applied per-image. To further regularize the model, **`Mixup` and `CutMix`** are used."
      ],
      "metadata": {
        "id": "-WcY0SNzw3eD"
      }
    },
    {
      "cell_type": "code",
      "source": [
        "# for cutmix, mixup\n",
        "if not hasattr(collections.abc, 'Sequence'):\n",
        "    collections.abc.Sequence = collections.Sequence\n",
        "\n",
        "class DataHandler:\n",
        "    def __init__(self, image_information, batch_size):\n",
        "        self.img_info = image_information\n",
        "        self.batch_size = batch_size\n",
        "\n",
        "    def _train_transform(self):\n",
        "        return transforms.Compose([\n",
        "            transforms.RandomHorizontalFlip(p=0.5),\n",
        "            transforms.RandomResizedCrop((self.img_info.width, self.img_info.height), scale=(0.8, 1.0)),\n",
        "            # num_ops = number of augmentations to apply\n",
        "            # magnitude = strength of augmentations\n",
        "            transforms.RandAugment(num_ops=2, magnitude=9), # can be tweaked after checking how similar the images are\n",
        "            transforms.ToTensor(),\n",
        "            transforms.Normalize(mean=[0.5, 0.5, 0.5], std=[0.5, 0.5, 0.5]),\n",
        "        ])\n",
        "\n",
        "    def _val_test_transform(self):\n",
        "        return transforms.Compose([\n",
        "            transforms.ToTensor(),\n",
        "            transforms.Normalize(mean=[0.5, 0.5, 0.5], std=[0.5, 0.5, 0.5]),\n",
        "        ])\n",
        "\n",
        "    def get_dataloaders(self):\n",
        "        train_dataset = datasets.CIFAR10(root='./data', train=True,\n",
        "                                         download=True, transform=self._train_transform())\n",
        "\n",
        "        val_dataset = datasets.CIFAR10(root='./data', train=True,\n",
        "                                       download=True, transform=self._val_test_transform())\n",
        "\n",
        "        # crave validation from train\n",
        "        num_train = len(train_dataset)\n",
        "        indices = list(range(num_train))\n",
        "\n",
        "        torch.utils.data.sampler.SubsetRandomSampler(indices)\n",
        "        split = int(0.9 * num_train)\n",
        "        train_indices, val_indices = indices[:split], indices[split:]\n",
        "\n",
        "        # Create subsets based on the indices\n",
        "        train_subset = Subset(train_dataset, train_indices)\n",
        "        val_subset = Subset(val_dataset, val_indices)\n",
        "\n",
        "\n",
        "        test_dataset = datasets.CIFAR10(root='./data', train=False,\n",
        "                                        download=True, transform=self._val_test_transform())\n",
        "\n",
        "        # cutmix and mixup need to be used directly on batch, not working with transforms (ofc)\n",
        "        mixup_cutmix = [\n",
        "            MixUp(alpha=1.0, num_classes=10),\n",
        "            CutMix(alpha=1.0, num_classes=10)\n",
        "        ]\n",
        "        combine_fn = lambda batch: mixup_cutmix[torch.randint(0,2,(1,)).item()](*torch.utils.data.default_collate(batch))\n",
        "\n",
        "\n",
        "        # dataloaders\n",
        "        train_loader = DataLoader(train_subset, batch_size=self.batch_size,\n",
        "                                  shuffle=True, num_workers=2, collate_fn=combine_fn)\n",
        "\n",
        "        val_loader = DataLoader(val_subset, batch_size=self.batch_size,\n",
        "                                shuffle=False, num_workers=2)\n",
        "\n",
        "        test_loader = DataLoader(test_dataset, batch_size=self.batch_size,\n",
        "                                 shuffle=False, num_workers=2)\n",
        "\n",
        "        print(\"DataLoaders created successfully.\")\n",
        "        print(f\"Training samples: {len(train_subset)}\")\n",
        "        print(f\"Validation samples: {len(val_subset)}\")\n",
        "        print(f\"Test samples: {len(test_dataset)}\")\n",
        "\n",
        "        return train_loader, val_loader, test_loader"
      ],
      "metadata": {
        "id": "U-LUuQRmw5E5"
      },
      "execution_count": 14,
      "outputs": []
    },
    {
      "cell_type": "markdown",
      "source": [
        "# Evaluator"
      ],
      "metadata": {
        "id": "VA802iUlxSw0"
      }
    },
    {
      "cell_type": "code",
      "source": [
        "class Evaluator:\n",
        "    def __init__(self, model, test_loader, device, output_dir):\n",
        "        self.model = model\n",
        "        self.test_loader = test_loader\n",
        "        self.device = device\n",
        "        self.output_dir = output_dir\n",
        "        # Get class names from the dataset object\n",
        "        self.class_names = self.test_loader.dataset.dataset.classes if isinstance(self.test_loader.dataset, Subset) else self.test_loader.dataset.classes\n",
        "\n",
        "    def plot_confusion_matrix(self, cm, file_path):\n",
        "        plt.figure(figsize=(12, 10))\n",
        "        sns.heatmap(cm, annot=True, fmt='d', cmap='Blues',\n",
        "                    xticklabels=self.class_names, yticklabels=self.class_names)\n",
        "        plt.xlabel('Predicted Label', fontsize=12)\n",
        "        plt.ylabel('True Label', fontsize=12)\n",
        "        plt.title('Confusion Matrix', fontsize=15)\n",
        "        plt.savefig(file_path)\n",
        "        plt.show()\n",
        "\n",
        "    def evaluate(self, model_path):\n",
        "        print(f\"\\n--- Starting Final Evaluation ---\")\n",
        "        # Load model state dictionary with map_location\n",
        "        self.model.load_state_dict(torch.load(model_path, map_location=torch.device(self.device)))\n",
        "        #self.model.to(self.device) # check this later if needed or not\n",
        "        self.model.eval()\n",
        "\n",
        "        all_preds, all_labels = [], []\n",
        "        with torch.no_grad():\n",
        "            for images, labels in tqdm(self.test_loader, desc=\"Testing\"):\n",
        "                images, labels = images.to(self.device), labels.to(self.device)\n",
        "                outputs = self.model(images)\n",
        "                _, predicted = torch.max(outputs.data, 1)\n",
        "                all_preds.extend(predicted.cpu().numpy())\n",
        "                all_labels.extend(labels.cpu().numpy())\n",
        "\n",
        "        # --- Calculate Metrics ---\n",
        "        report_dict = classification_report(all_labels, all_preds,\n",
        "                                            target_names=self.class_names, output_dict=True)\n",
        "        cm = confusion_matrix(all_labels, all_preds)\n",
        "\n",
        "        # Calculate class-wise accuracy from the confusion matrix\n",
        "        class_accuracies = cm.diagonal() / cm.sum(axis=1)\n",
        "        for i, class_name in enumerate(self.class_names):\n",
        "            report_dict[class_name]['accuracy'] = class_accuracies[i]\n",
        "\n",
        "        # Add overall accuracy to the report\n",
        "        report_dict['overall_accuracy'] = accuracy_score(all_labels, all_preds)\n",
        "\n",
        "        # --- Save & Display Results ---\n",
        "        print(f\"\\nOverall Test Accuracy: {report_dict['overall_accuracy'] * 100:.2f}%\")\n",
        "\n",
        "        # Display results in a clean table using pandas\n",
        "        report_df = pd.DataFrame(report_dict).transpose()\n",
        "        print(\"\\nClassification Report:\")\n",
        "        print(report_df.to_string())\n",
        "\n",
        "        # Save report to JSON\n",
        "        report_path = os.path.join(self.output_dir, \"classification_report.json\")\n",
        "        report_df.to_json(report_path, indent=4)\n",
        "        print(f\"\\nFull report saved to {report_path}\")\n",
        "\n",
        "        # Plot and save confusion matrix\n",
        "        cm_path = os.path.join(self.output_dir, \"confusion_matrix.png\")\n",
        "        self.plot_confusion_matrix(cm, cm_path)\n",
        "        print(f\"Confusion matrix plot saved to {cm_path}\")\n",
        "\n",
        "        return report_dict"
      ],
      "metadata": {
        "id": "ihUT0887xULi"
      },
      "execution_count": 6,
      "outputs": []
    },
    {
      "cell_type": "markdown",
      "source": [
        "# Training\n",
        "* **Optimizer:** The **`AdamW`** optimizer was chosen over vanilla `Adam`. AdamW decouples the weight decay from the gradient updates, providing more effective regularization, which is a standard practice for training Transformers.\n",
        "\n",
        "* **Learning Rate Scheduling:** A fixed learning rate is suboptimal for complex models. The **`OneCycleLR`** scheduler was implemented. This powerful scheduler automatically manages a two-phase cycle:\n",
        "    1.  A **warmup phase**, where the learning rate gradually increases. This prevents large, destabilizing updates at the start.\n",
        "\n",
        "    2.  An **annealing phase (cosine anealing)**, where the learning rate smoothly decays. This allows the model to settle into a deep and stable minimum in the loss landscape.\n",
        "\n"
      ],
      "metadata": {
        "id": "3ObJm0EYwru3"
      }
    },
    {
      "cell_type": "code",
      "source": [
        "from tqdm import tqdm\n",
        "import torch.optim as optim\n",
        "from torch.optim.lr_scheduler import OneCycleLR\n",
        "import random\n",
        "import numpy as np\n",
        "class Trainer:\n",
        "    def __init__(self, model, train_loader, val_loader, optimizer, scaler, lr_scheduler, epochs):\n",
        "        self.device = 'cuda' if torch.cuda.is_available() else ('mps' if torch.mps.is_available() else 'cpu')\n",
        "        self.model = model\n",
        "        self.train_loader = train_loader\n",
        "        self.val_loader = val_loader\n",
        "        self.criterion = nn.CrossEntropyLoss()\n",
        "        self.optim = optimizer\n",
        "        self.scaler = scaler\n",
        "        self.lr_sch = lr_scheduler\n",
        "        self.epochs = epochs\n",
        "    def _train_one_epoch(self):\n",
        "        model = self.model\n",
        "        model.train()\n",
        "        total_loss = 0.0\n",
        "        total_correct = 0\n",
        "        total_samples = 0\n",
        "        for image, label in tqdm(self.train_loader, desc='Training'):\n",
        "            img, label = image.to(self.device), label.to(self.device)\n",
        "            # Trying automatic mixed precision (AMP)\n",
        "            if self.device =='cuda':\n",
        "                with torch.amp.autocast(device_type=self.device):\n",
        "                    logits = model(img)\n",
        "                    loss = self.criterion(logits, label)\n",
        "            # Backpropagation\n",
        "            self.optim.zero_grad()\n",
        "            self.scaler.scale(loss).backward()\n",
        "            self.scaler.step(self.optim)\n",
        "            self.scaler.update()\n",
        "            # Update lr\n",
        "            self.lr_sch.step()\n",
        "            # Metrics\n",
        "            total_loss += loss.item()\n",
        "            _, predicted = torch.max(logits.data, 1)\n",
        "            # Check if labels are one-hot/soft (multi-dimensional) or hard integers (1D)\n",
        "            if label.dim() > 1: # This means it's one-hot or soft labels from Mixup/CutMix\n",
        "                _, true_labels = torch.max(label, 1) # Convert soft labels back to hard labels\n",
        "            else: # This means it's hard integer labels\n",
        "                true_labels = label # Labels are already the class IDs\n",
        "            total_samples += label.size(0)\n",
        "            total_correct += (predicted == true_labels).sum().item()\n",
        "\n",
        "        avg_loss = total_loss / len(self.train_loader)\n",
        "        accuracy = 100 * total_correct / total_samples\n",
        "        return avg_loss, accuracy\n",
        "    def _validate(self):\n",
        "        model = self.model\n",
        "        model.eval()\n",
        "        total_loss = 0.0\n",
        "        total_correct = 0\n",
        "        total_samples = 0\n",
        "\n",
        "        with torch.no_grad():\n",
        "            for images, labels in tqdm(self.val_loader, desc=\"Validating\"):\n",
        "                images, labels = images.to(self.device), labels.to(self.device)\n",
        "\n",
        "                # Note: No need for AMP here, but it's fine if used\n",
        "                outputs = model(images)\n",
        "                loss = self.criterion(outputs, labels)\n",
        "\n",
        "                # Metrics\n",
        "                total_loss += loss.item()\n",
        "                _, predicted = torch.max(outputs.data, 1)\n",
        "                total_samples += labels.size(0)\n",
        "                total_correct += (predicted == labels).sum().item()\n",
        "\n",
        "        avg_loss = total_loss / len(self.val_loader)\n",
        "        accuracy = 100 * total_correct / total_samples\n",
        "        return avg_loss, accuracy\n",
        "    def _run_trainer(self, model_path):\n",
        "        model = self.model\n",
        "        model.to(self.device)\n",
        "        best_val_accuracy = 0.0\n",
        "        history = []\n",
        "        print(\"Starting Training...\")\n",
        "        for epoch in range(self.epochs):\n",
        "            print(f\"--- Epoch {epoch+1}/{self.epochs} ---\")\n",
        "\n",
        "            train_loss, train_acc = self._train_one_epoch()\n",
        "            val_loss, val_acc = self._validate()\n",
        "\n",
        "            print(f\"Epoch {epoch+1} Summary:\")\n",
        "            print(f\"  Train Loss: {train_loss:.4f} | Train Acc: {train_acc:.2f}%\")\n",
        "            print(f\"  Val Loss:   {val_loss:.4f} | Val Acc:   {val_acc:.2f}%\")\n",
        "            print(f\"  Current Learning Rate: {self.optim.param_groups[0]['lr']:.6f}\")\n",
        "\n",
        "\n",
        "            history.append({\n",
        "            'epoch': epoch + 1,\n",
        "            'train_loss': train_loss,\n",
        "            'train_acc': train_acc,\n",
        "            'val_loss': val_loss,\n",
        "            'val_acc': val_acc,\n",
        "            'lr': f\"{self.optim.param_groups[0]['lr']:.6f}\"\n",
        "            })\n",
        "\n",
        "            # Save the model if it has the best validation accuracy so far\n",
        "            if val_acc > best_val_accuracy:\n",
        "                best_val_accuracy = val_acc\n",
        "                torch.save(model.state_dict(), model_path)\n",
        "                print(f\"✅ New best model saved with accuracy: {best_val_accuracy:.2f}%\")\n",
        "\n",
        "        print(\"--- Training Finished ---\")\n",
        "        print(f\"Best Validation Accuracy: {best_val_accuracy:.2f}%\")\n",
        "        return history\n",
        "    @staticmethod\n",
        "    def set_seed(seed: int):\n",
        "      \"\"\"\n",
        "      Sets the seed for reproducibility. We will avoid the strictest settings\n",
        "      to prevent runtime errors on the GPU.\n",
        "      \"\"\"\n",
        "      random.seed(seed)\n",
        "      np.random.seed(seed)\n",
        "      torch.manual_seed(seed)\n",
        "\n",
        "      if torch.cuda.is_available():\n",
        "          torch.cuda.manual_seed(seed)\n",
        "          torch.cuda.manual_seed_all(seed) # if you are using multi-GPU.\n",
        "\n",
        "      torch.backends.cudnn.deterministic = False\n",
        "      torch.backends.cudnn.benchmark = True # Set to True for speed"
      ],
      "metadata": {
        "id": "fa8BiD5Pwsv9"
      },
      "execution_count": 12,
      "outputs": []
    },
    {
      "cell_type": "code",
      "source": [
        "def main(num_runs, master_seed, test_name, image_information, model_parameters, hyperparameters):\n",
        "    NUM_RUNS = num_runs\n",
        "    \"\"\" Checking MASTER_SEED\n",
        "    1. MASTER_SEED = 42  --> used for trial runs (T0)\n",
        "    2. MASTER_SEED = 100 --> used for base testing (F0)\n",
        "    \"\"\"\n",
        "    MASTER_SEED = master_seed\n",
        "    for i in range(NUM_RUNS):\n",
        "        run_seed = i+MASTER_SEED\n",
        "        Trainer.set_seed(seed=run_seed)\n",
        "        print(f\"\\n--- Starting Run {i+1}/{NUM_RUNS} (Seed: {run_seed}) ---\")\n",
        "\n",
        "        run_name = test_name+ f'_{i+1}'\n",
        "        #run_output_dir = f\"run_outputs/{run_name}\"\n",
        "        run_output_dir = f\"/content/drive/MyDrive/IISc_Submission/{run_name}\" # SAVING TO DRIVE\n",
        "        local_model_path = os.path.join(run_output_dir, \"best_model.pth\")\n",
        "        eval_results_dir = os.path.join(run_output_dir, \"evaluation_results\")\n",
        "        history_path = os.path.join(run_output_dir, \"training_history.csv\")\n",
        "        os.makedirs(run_output_dir, exist_ok=True)\n",
        "        os.makedirs(eval_results_dir, exist_ok=True)\n",
        "\n",
        "        img_info = image_information\n",
        "        mparams = model_parameters\n",
        "        hparams = hyperparameters\n",
        "\n",
        "        data_handler = DataHandler(image_information=img_info, batch_size=hparams.batch_size)\n",
        "        train_loader, val_loader, test_loader = data_handler.get_dataloaders()\n",
        "\n",
        "        base_model = ViT(mparams=mparams, hparams=hparams, img_info=img_info)\n",
        "        base_optimizer = optim.AdamW(params=base_model.parameters(), lr=hparams.learning_rate, weight_decay=hparams.weight_decay)\n",
        "        base_scaler = torch.amp.GradScaler(device='cuda')\n",
        "        base_scheduler = OneCycleLR(optimizer=base_optimizer, max_lr=hparams.learning_rate, steps_per_epoch=len(train_loader), epochs=hparams.epochs)\n",
        "\n",
        "        trainer = Trainer(model=base_model, train_loader=train_loader, val_loader=val_loader, optimizer=base_optimizer, scaler=base_scaler, lr_scheduler=base_scheduler, epochs=hparams.epochs)\n",
        "        training_history = trainer._run_trainer(model_path=local_model_path)\n",
        "        history_df = pd.DataFrame(training_history)\n",
        "        history_df.to_csv(history_path, index=False)\n",
        "        print(f\"Training history saved to {history_path}\")\n",
        "        print(\"\\n--- Training complete. Starting final evaluation on test set. ---\")\n",
        "        evaluator = Evaluator(\n",
        "        model=base_model,\n",
        "        test_loader=test_loader,\n",
        "        device=trainer.device,\n",
        "        output_dir=eval_results_dir)\n",
        "        final_metrics = evaluator.evaluate(model_path=local_model_path)\n",
        "\n",
        "\n"
      ],
      "metadata": {
        "id": "DPk946j7xaPk"
      },
      "execution_count": 8,
      "outputs": []
    },
    {
      "cell_type": "markdown",
      "source": [
        "# Experiments"
      ],
      "metadata": {
        "id": "xpiLDJ5fxcOI"
      }
    },
    {
      "cell_type": "code",
      "source": [
        "# -- checking dimension error __\n",
        "test_tensor = torch.rand(2,3,32,32)\n",
        "print(f'test tensor shape: {test_tensor.shape}')\n",
        "vit = ViT(mparams=ModelParameters(patch_size=4, inner_dim=192, transformer_layers=12, num_head=3, embed_dropout=0.1, attn_dropout=0.0, mlp_dropout=0.1), hparams=Hyperparameters(batch_size=1024, out_classes=10, epochs=10, learning_rate=5e-4*(1024/512), weight_decay=0.05), img_info=ImageParams(width=32, height=32, in_channel=3))\n",
        "output = vit.forward(test_tensor)\n",
        "print(f'Output Shape: {output.shape}')"
      ],
      "metadata": {
        "colab": {
          "base_uri": "https://localhost:8080/"
        },
        "id": "Kt55R4VU2Ha7",
        "outputId": "92c61321-b4fc-4e03-e865-cf292ffcd586"
      },
      "execution_count": 9,
      "outputs": [
        {
          "output_type": "stream",
          "name": "stdout",
          "text": [
            "test tensor shape: torch.Size([2, 3, 32, 32])\n",
            "Output Shape: torch.Size([2, 10])\n"
          ]
        }
      ]
    },
    {
      "cell_type": "code",
      "source": [
        "# --- base testing ---\n",
        "main(\n",
        "    num_runs=1,\n",
        "    master_seed=100,\n",
        "    test_name=f'base_testing_F0',\n",
        "    image_information=ImageParams(width=32, height=32, in_channel=3),\n",
        "    model_parameters=ModelParameters(patch_size=4, inner_dim=192, transformer_layers=12, num_head=3, embed_dropout=0.1, attn_dropout=0.0, mlp_dropout=0.1),\n",
        "    hyperparameters=Hyperparameters(batch_size=1024, out_classes=10, epochs=100, learning_rate=5e-4*(1024/512), weight_decay=0.05)\n",
        ")"
      ],
      "metadata": {
        "colab": {
          "base_uri": "https://localhost:8080/",
          "height": 1000
        },
        "collapsed": true,
        "id": "nbWgSF7RxoZ9",
        "outputId": "acaadb00-f8f2-4729-cded-4211e35bc444"
      },
      "execution_count": null,
      "outputs": [
        {
          "output_type": "stream",
          "name": "stdout",
          "text": [
            "\n",
            "--- Starting Run 1/1 (Seed: 100) ---\n",
            "DataLoaders created successfully.\n",
            "Training samples: 45000\n",
            "Validation samples: 5000\n",
            "Test samples: 10000\n",
            "\n",
            "--- Training complete. Starting final evaluation on test set. ---\n",
            "\n",
            "--- Starting Final Evaluation ---\n"
          ]
        },
        {
          "output_type": "stream",
          "name": "stderr",
          "text": [
            "Testing: 100%|██████████| 10/10 [00:04<00:00,  2.17it/s]\n"
          ]
        },
        {
          "output_type": "stream",
          "name": "stdout",
          "text": [
            "\n",
            "Overall Test Accuracy: 79.29%\n",
            "\n",
            "Classification Report:\n",
            "                  precision  recall  f1-score     support  accuracy\n",
            "airplane           0.727425  0.8700  0.792350   1000.0000    0.8700\n",
            "automobile         0.883284  0.8930  0.888115   1000.0000    0.8930\n",
            "bird               0.775306  0.6970  0.734071   1000.0000    0.6970\n",
            "cat                0.712468  0.5600  0.627100   1000.0000    0.5600\n",
            "deer               0.799542  0.6980  0.745328   1000.0000    0.6980\n",
            "dog                0.720120  0.7230  0.721557   1000.0000    0.7230\n",
            "frog               0.777193  0.8860  0.828037   1000.0000    0.8860\n",
            "horse              0.787659  0.8680  0.825880   1000.0000    0.8680\n",
            "ship               0.895984  0.8700  0.882801   1000.0000    0.8700\n",
            "truck              0.848723  0.8640  0.856293   1000.0000    0.8640\n",
            "accuracy           0.792900  0.7929  0.792900      0.7929    0.7929\n",
            "macro avg          0.792770  0.7929  0.790153  10000.0000       NaN\n",
            "weighted avg       0.792770  0.7929  0.790153  10000.0000       NaN\n",
            "overall_accuracy   0.792900  0.7929  0.792900      0.7929    0.7929\n",
            "\n",
            "Full report saved to /content/drive/MyDrive/IISc_Submission/base_testing_F0_1/evaluation_results/classification_report.json\n"
          ]
        },
        {
          "output_type": "display_data",
          "data": {
            "text/plain": [
              "<Figure size 1200x1000 with 2 Axes>"
            ],
            "image/png": "[encoded data removed]"
          },
          "metadata": {}
        },
        {
          "output_type": "stream",
          "name": "stdout",
          "text": [
            "Confusion matrix plot saved to /content/drive/MyDrive/IISc_Submission/base_testing_F0_1/evaluation_results/confusion_matrix.png\n"
          ]
        }
      ]
    },
    {
      "cell_type": "code",
      "source": [
        "# --- trying to run for 300 epochs like DeiT paper\n",
        "main(\n",
        "    num_runs=1,\n",
        "    master_seed=200,\n",
        "    test_name=f'deit_trial_F1',\n",
        "    image_information=ImageParams(width=32, height=32, in_channel=3),\n",
        "    model_parameters=ModelParameters(patch_size=4, inner_dim=192, transformer_layers=12, num_head=3, embed_dropout=0.1, attn_dropout=0.0, mlp_dropout=0.1),\n",
        "    hyperparameters=Hyperparameters(batch_size=1024, out_classes=10, epochs=300, learning_rate=5e-4*(1024/512), weight_decay=0.05)\n",
        ")\n"
      ],
      "metadata": {
        "colab": {
          "base_uri": "https://localhost:8080/"
        },
        "id": "RSUIiZoYOyaw",
        "outputId": "fb9afa14-01f7-4c3c-8fc6-7760f3bbd1af",
        "collapsed": true
      },
      "execution_count": null,
      "outputs": [
        {
          "output_type": "stream",
          "name": "stdout",
          "text": [
            "\n",
            "--- Starting Run 1/1 (Seed: 200) ---\n",
            "DataLoaders created successfully.\n",
            "Training samples: 45000\n",
            "Validation samples: 5000\n",
            "Test samples: 10000\n",
            "Starting Training...\n",
            "--- Epoch 1/300 ---\n"
          ]
        },
        {
          "output_type": "stream",
          "name": "stderr",
          "text": [
            "Training: 100%|██████████| 44/44 [00:42<00:00,  1.03it/s]\n",
            "Validating: 100%|██████████| 5/5 [00:02<00:00,  2.18it/s]\n"
          ]
        },
        {
          "output_type": "stream",
          "name": "stdout",
          "text": [
            "Epoch 1 Summary:\n",
            "  Train Loss: 2.2618 | Train Acc: 15.43%\n",
            "  Val Loss:   2.0639 | Val Acc:   22.18%\n",
            "  Current Learning Rate: 0.000040\n",
            "✅ New best model saved with accuracy: 22.18%\n",
            "--- Epoch 2/300 ---\n"
          ]
        },
        {
          "output_type": "stream",
          "name": "stderr",
          "text": [
            "Training: 100%|██████████| 44/44 [00:42<00:00,  1.04it/s]\n",
            "Validating: 100%|██████████| 5/5 [00:02<00:00,  2.11it/s]\n"
          ]
        },
        {
          "output_type": "stream",
          "name": "stdout",
          "text": [
            "Epoch 2 Summary:\n",
            "  Train Loss: 2.2046 | Train Acc: 18.23%\n",
            "  Val Loss:   2.0113 | Val Acc:   25.84%\n",
            "  Current Learning Rate: 0.000041\n",
            "✅ New best model saved with accuracy: 25.84%\n",
            "--- Epoch 3/300 ---\n"
          ]
        },
        {
          "output_type": "stream",
          "name": "stderr",
          "text": [
            "Training: 100%|██████████| 44/44 [00:42<00:00,  1.05it/s]\n",
            "Validating: 100%|██████████| 5/5 [00:02<00:00,  1.88it/s]\n"
          ]
        },
        {
          "output_type": "stream",
          "name": "stdout",
          "text": [
            "Epoch 3 Summary:\n",
            "  Train Loss: 2.1813 | Train Acc: 19.92%\n",
            "  Val Loss:   1.9828 | Val Acc:   27.16%\n",
            "  Current Learning Rate: 0.000043\n",
            "✅ New best model saved with accuracy: 27.16%\n",
            "--- Epoch 4/300 ---\n"
          ]
        },
        {
          "output_type": "stream",
          "name": "stderr",
          "text": [
            "Training: 100%|██████████| 44/44 [00:42<00:00,  1.04it/s]\n",
            "Validating: 100%|██████████| 5/5 [00:02<00:00,  2.12it/s]\n"
          ]
        },
        {
          "output_type": "stream",
          "name": "stdout",
          "text": [
            "Epoch 4 Summary:\n",
            "  Train Loss: 2.1649 | Train Acc: 20.98%\n",
            "  Val Loss:   1.9550 | Val Acc:   28.00%\n",
            "  Current Learning Rate: 0.000045\n",
            "✅ New best model saved with accuracy: 28.00%\n",
            "--- Epoch 5/300 ---\n"
          ]
        },
        {
          "output_type": "stream",
          "name": "stderr",
          "text": [
            "Training: 100%|██████████| 44/44 [00:42<00:00,  1.03it/s]\n",
            "Validating: 100%|██████████| 5/5 [00:02<00:00,  2.10it/s]\n"
          ]
        },
        {
          "output_type": "stream",
          "name": "stdout",
          "text": [
            "Epoch 5 Summary:\n",
            "  Train Loss: 2.1651 | Train Acc: 20.82%\n",
            "  Val Loss:   1.9334 | Val Acc:   27.94%\n",
            "  Current Learning Rate: 0.000047\n",
            "--- Epoch 6/300 ---\n"
          ]
        },
        {
          "output_type": "stream",
          "name": "stderr",
          "text": [
            "Training: 100%|██████████| 44/44 [00:42<00:00,  1.03it/s]\n",
            "Validating: 100%|██████████| 5/5 [00:02<00:00,  2.09it/s]\n"
          ]
        },
        {
          "output_type": "stream",
          "name": "stdout",
          "text": [
            "Epoch 6 Summary:\n",
            "  Train Loss: 2.1441 | Train Acc: 22.54%\n",
            "  Val Loss:   1.8741 | Val Acc:   32.30%\n",
            "  Current Learning Rate: 0.000050\n",
            "✅ New best model saved with accuracy: 32.30%\n",
            "--- Epoch 7/300 ---\n"
          ]
        },
        {
          "output_type": "stream",
          "name": "stderr",
          "text": [
            "Training: 100%|██████████| 44/44 [00:42<00:00,  1.04it/s]\n",
            "Validating: 100%|██████████| 5/5 [00:02<00:00,  2.10it/s]\n"
          ]
        },
        {
          "output_type": "stream",
          "name": "stdout",
          "text": [
            "Epoch 7 Summary:\n",
            "  Train Loss: 2.1353 | Train Acc: 22.84%\n",
            "  Val Loss:   1.8361 | Val Acc:   34.10%\n",
            "  Current Learning Rate: 0.000054\n",
            "✅ New best model saved with accuracy: 34.10%\n",
            "--- Epoch 8/300 ---\n"
          ]
        },
        {
          "output_type": "stream",
          "name": "stderr",
          "text": [
            "Training: 100%|██████████| 44/44 [00:42<00:00,  1.04it/s]\n",
            "Validating: 100%|██████████| 5/5 [00:02<00:00,  1.75it/s]\n"
          ]
        },
        {
          "output_type": "stream",
          "name": "stdout",
          "text": [
            "Epoch 8 Summary:\n",
            "  Train Loss: 2.1397 | Train Acc: 22.87%\n",
            "  Val Loss:   1.8048 | Val Acc:   35.06%\n",
            "  Current Learning Rate: 0.000059\n",
            "✅ New best model saved with accuracy: 35.06%\n",
            "--- Epoch 9/300 ---\n"
          ]
        },
        {
          "output_type": "stream",
          "name": "stderr",
          "text": [
            "Training: 100%|██████████| 44/44 [00:42<00:00,  1.04it/s]\n",
            "Validating: 100%|██████████| 5/5 [00:02<00:00,  2.07it/s]\n"
          ]
        },
        {
          "output_type": "stream",
          "name": "stdout",
          "text": [
            "Epoch 9 Summary:\n",
            "  Train Loss: 2.1173 | Train Acc: 23.76%\n",
            "  Val Loss:   1.7984 | Val Acc:   35.40%\n",
            "  Current Learning Rate: 0.000064\n",
            "✅ New best model saved with accuracy: 35.40%\n",
            "--- Epoch 10/300 ---\n"
          ]
        },
        {
          "output_type": "stream",
          "name": "stderr",
          "text": [
            "Training: 100%|██████████| 44/44 [00:42<00:00,  1.03it/s]\n",
            "Validating: 100%|██████████| 5/5 [00:02<00:00,  2.08it/s]\n"
          ]
        },
        {
          "output_type": "stream",
          "name": "stdout",
          "text": [
            "Epoch 10 Summary:\n",
            "  Train Loss: 2.1183 | Train Acc: 24.16%\n",
            "  Val Loss:   1.7811 | Val Acc:   36.48%\n",
            "  Current Learning Rate: 0.000069\n",
            "✅ New best model saved with accuracy: 36.48%\n",
            "--- Epoch 11/300 ---\n"
          ]
        },
        {
          "output_type": "stream",
          "name": "stderr",
          "text": [
            "Training: 100%|██████████| 44/44 [00:42<00:00,  1.04it/s]\n",
            "Validating: 100%|██████████| 5/5 [00:02<00:00,  2.05it/s]\n"
          ]
        },
        {
          "output_type": "stream",
          "name": "stdout",
          "text": [
            "Epoch 11 Summary:\n",
            "  Train Loss: 2.0997 | Train Acc: 25.14%\n",
            "  Val Loss:   1.7385 | Val Acc:   37.96%\n",
            "  Current Learning Rate: 0.000075\n",
            "✅ New best model saved with accuracy: 37.96%\n",
            "--- Epoch 12/300 ---\n"
          ]
        },
        {
          "output_type": "stream",
          "name": "stderr",
          "text": [
            "Training: 100%|██████████| 44/44 [00:42<00:00,  1.03it/s]\n",
            "Validating: 100%|██████████| 5/5 [00:02<00:00,  2.03it/s]\n"
          ]
        },
        {
          "output_type": "stream",
          "name": "stdout",
          "text": [
            "Epoch 12 Summary:\n",
            "  Train Loss: 2.0469 | Train Acc: 27.57%\n",
            "  Val Loss:   1.6963 | Val Acc:   38.64%\n",
            "  Current Learning Rate: 0.000082\n",
            "✅ New best model saved with accuracy: 38.64%\n",
            "--- Epoch 13/300 ---\n"
          ]
        },
        {
          "output_type": "stream",
          "name": "stderr",
          "text": [
            "Training: 100%|██████████| 44/44 [00:42<00:00,  1.03it/s]\n",
            "Validating: 100%|██████████| 5/5 [00:02<00:00,  1.78it/s]\n"
          ]
        },
        {
          "output_type": "stream",
          "name": "stdout",
          "text": [
            "Epoch 13 Summary:\n",
            "  Train Loss: 2.0192 | Train Acc: 29.40%\n",
            "  Val Loss:   1.6364 | Val Acc:   41.50%\n",
            "  Current Learning Rate: 0.000089\n",
            "✅ New best model saved with accuracy: 41.50%\n",
            "--- Epoch 14/300 ---\n"
          ]
        },
        {
          "output_type": "stream",
          "name": "stderr",
          "text": [
            "Training: 100%|██████████| 44/44 [00:42<00:00,  1.04it/s]\n",
            "Validating: 100%|██████████| 5/5 [00:02<00:00,  2.03it/s]\n"
          ]
        },
        {
          "output_type": "stream",
          "name": "stdout",
          "text": [
            "Epoch 14 Summary:\n",
            "  Train Loss: 2.0614 | Train Acc: 27.73%\n",
            "  Val Loss:   1.6251 | Val Acc:   41.40%\n",
            "  Current Learning Rate: 0.000096\n",
            "--- Epoch 15/300 ---\n"
          ]
        },
        {
          "output_type": "stream",
          "name": "stderr",
          "text": [
            "Training: 100%|██████████| 44/44 [00:42<00:00,  1.04it/s]\n",
            "Validating: 100%|██████████| 5/5 [00:02<00:00,  2.04it/s]\n"
          ]
        },
        {
          "output_type": "stream",
          "name": "stdout",
          "text": [
            "Epoch 15 Summary:\n",
            "  Train Loss: 2.0187 | Train Acc: 30.35%\n",
            "  Val Loss:   1.5941 | Val Acc:   42.82%\n",
            "  Current Learning Rate: 0.000104\n",
            "✅ New best model saved with accuracy: 42.82%\n",
            "--- Epoch 16/300 ---\n"
          ]
        },
        {
          "output_type": "stream",
          "name": "stderr",
          "text": [
            "Training: 100%|██████████| 44/44 [00:42<00:00,  1.03it/s]\n",
            "Validating: 100%|██████████| 5/5 [00:02<00:00,  2.06it/s]\n"
          ]
        },
        {
          "output_type": "stream",
          "name": "stdout",
          "text": [
            "Epoch 16 Summary:\n",
            "  Train Loss: 2.0177 | Train Acc: 30.80%\n",
            "  Val Loss:   1.5194 | Val Acc:   45.80%\n",
            "  Current Learning Rate: 0.000113\n",
            "✅ New best model saved with accuracy: 45.80%\n",
            "--- Epoch 17/300 ---\n"
          ]
        },
        {
          "output_type": "stream",
          "name": "stderr",
          "text": [
            "Training: 100%|██████████| 44/44 [00:42<00:00,  1.03it/s]\n",
            "Validating: 100%|██████████| 5/5 [00:02<00:00,  2.05it/s]\n"
          ]
        },
        {
          "output_type": "stream",
          "name": "stdout",
          "text": [
            "Epoch 17 Summary:\n",
            "  Train Loss: 1.9646 | Train Acc: 32.66%\n",
            "  Val Loss:   1.5059 | Val Acc:   46.32%\n",
            "  Current Learning Rate: 0.000122\n",
            "✅ New best model saved with accuracy: 46.32%\n",
            "--- Epoch 18/300 ---\n"
          ]
        },
        {
          "output_type": "stream",
          "name": "stderr",
          "text": [
            "Training: 100%|██████████| 44/44 [00:42<00:00,  1.03it/s]\n",
            "Validating: 100%|██████████| 5/5 [00:02<00:00,  1.80it/s]\n"
          ]
        },
        {
          "output_type": "stream",
          "name": "stdout",
          "text": [
            "Epoch 18 Summary:\n",
            "  Train Loss: 1.9902 | Train Acc: 31.60%\n",
            "  Val Loss:   1.5393 | Val Acc:   44.80%\n",
            "  Current Learning Rate: 0.000132\n",
            "--- Epoch 19/300 ---\n"
          ]
        },
        {
          "output_type": "stream",
          "name": "stderr",
          "text": [
            "Training: 100%|██████████| 44/44 [00:42<00:00,  1.03it/s]\n",
            "Validating: 100%|██████████| 5/5 [00:02<00:00,  2.06it/s]\n"
          ]
        },
        {
          "output_type": "stream",
          "name": "stdout",
          "text": [
            "Epoch 19 Summary:\n",
            "  Train Loss: 1.9563 | Train Acc: 33.34%\n",
            "  Val Loss:   1.5273 | Val Acc:   44.68%\n",
            "  Current Learning Rate: 0.000142\n",
            "--- Epoch 20/300 ---\n"
          ]
        },
        {
          "output_type": "stream",
          "name": "stderr",
          "text": [
            "Training: 100%|██████████| 44/44 [00:43<00:00,  1.01it/s]\n",
            "Validating: 100%|██████████| 5/5 [00:02<00:00,  2.05it/s]\n"
          ]
        },
        {
          "output_type": "stream",
          "name": "stdout",
          "text": [
            "Epoch 20 Summary:\n",
            "  Train Loss: 1.9840 | Train Acc: 32.74%\n",
            "  Val Loss:   1.4664 | Val Acc:   47.68%\n",
            "  Current Learning Rate: 0.000152\n",
            "✅ New best model saved with accuracy: 47.68%\n",
            "--- Epoch 21/300 ---\n"
          ]
        },
        {
          "output_type": "stream",
          "name": "stderr",
          "text": [
            "Training: 100%|██████████| 44/44 [00:43<00:00,  1.02it/s]\n",
            "Validating: 100%|██████████| 5/5 [00:02<00:00,  2.01it/s]\n"
          ]
        },
        {
          "output_type": "stream",
          "name": "stdout",
          "text": [
            "Epoch 21 Summary:\n",
            "  Train Loss: 1.9756 | Train Acc: 33.32%\n",
            "  Val Loss:   1.4542 | Val Acc:   48.78%\n",
            "  Current Learning Rate: 0.000163\n",
            "✅ New best model saved with accuracy: 48.78%\n",
            "--- Epoch 22/300 ---\n"
          ]
        },
        {
          "output_type": "stream",
          "name": "stderr",
          "text": [
            "Training: 100%|██████████| 44/44 [00:43<00:00,  1.02it/s]\n",
            "Validating: 100%|██████████| 5/5 [00:02<00:00,  1.74it/s]\n"
          ]
        },
        {
          "output_type": "stream",
          "name": "stdout",
          "text": [
            "Epoch 22 Summary:\n",
            "  Train Loss: 1.9822 | Train Acc: 32.61%\n",
            "  Val Loss:   1.4401 | Val Acc:   48.22%\n",
            "  Current Learning Rate: 0.000175\n",
            "--- Epoch 23/300 ---\n"
          ]
        },
        {
          "output_type": "stream",
          "name": "stderr",
          "text": [
            "Training: 100%|██████████| 44/44 [00:41<00:00,  1.05it/s]\n",
            "Validating: 100%|██████████| 5/5 [00:02<00:00,  1.85it/s]\n"
          ]
        },
        {
          "output_type": "stream",
          "name": "stdout",
          "text": [
            "Epoch 23 Summary:\n",
            "  Train Loss: 1.9620 | Train Acc: 33.46%\n",
            "  Val Loss:   1.4225 | Val Acc:   50.38%\n",
            "  Current Learning Rate: 0.000187\n",
            "✅ New best model saved with accuracy: 50.38%\n",
            "--- Epoch 24/300 ---\n"
          ]
        },
        {
          "output_type": "stream",
          "name": "stderr",
          "text": [
            "Training: 100%|██████████| 44/44 [00:43<00:00,  1.02it/s]\n",
            "Validating: 100%|██████████| 5/5 [00:02<00:00,  2.06it/s]\n"
          ]
        },
        {
          "output_type": "stream",
          "name": "stdout",
          "text": [
            "Epoch 24 Summary:\n",
            "  Train Loss: 1.9289 | Train Acc: 35.34%\n",
            "  Val Loss:   1.3851 | Val Acc:   50.78%\n",
            "  Current Learning Rate: 0.000199\n",
            "✅ New best model saved with accuracy: 50.78%\n",
            "--- Epoch 25/300 ---\n"
          ]
        },
        {
          "output_type": "stream",
          "name": "stderr",
          "text": [
            "Training: 100%|██████████| 44/44 [00:43<00:00,  1.02it/s]\n",
            "Validating: 100%|██████████| 5/5 [00:02<00:00,  2.05it/s]\n"
          ]
        },
        {
          "output_type": "stream",
          "name": "stdout",
          "text": [
            "Epoch 25 Summary:\n",
            "  Train Loss: 1.9342 | Train Acc: 35.53%\n",
            "  Val Loss:   1.3506 | Val Acc:   51.46%\n",
            "  Current Learning Rate: 0.000212\n",
            "✅ New best model saved with accuracy: 51.46%\n",
            "--- Epoch 26/300 ---\n"
          ]
        },
        {
          "output_type": "stream",
          "name": "stderr",
          "text": [
            "Training: 100%|██████████| 44/44 [00:43<00:00,  1.02it/s]\n",
            "Validating: 100%|██████████| 5/5 [00:02<00:00,  1.99it/s]\n"
          ]
        },
        {
          "output_type": "stream",
          "name": "stdout",
          "text": [
            "Epoch 26 Summary:\n",
            "  Train Loss: 1.9117 | Train Acc: 36.41%\n",
            "  Val Loss:   1.3480 | Val Acc:   53.52%\n",
            "  Current Learning Rate: 0.000225\n",
            "✅ New best model saved with accuracy: 53.52%\n",
            "--- Epoch 27/300 ---\n"
          ]
        },
        {
          "output_type": "stream",
          "name": "stderr",
          "text": [
            "Training: 100%|██████████| 44/44 [00:42<00:00,  1.03it/s]\n",
            "Validating: 100%|██████████| 5/5 [00:02<00:00,  1.88it/s]\n"
          ]
        },
        {
          "output_type": "stream",
          "name": "stdout",
          "text": [
            "Epoch 27 Summary:\n",
            "  Train Loss: 1.9044 | Train Acc: 37.57%\n",
            "  Val Loss:   1.3584 | Val Acc:   54.22%\n",
            "  Current Learning Rate: 0.000238\n",
            "✅ New best model saved with accuracy: 54.22%\n",
            "--- Epoch 28/300 ---\n"
          ]
        },
        {
          "output_type": "stream",
          "name": "stderr",
          "text": [
            "Training: 100%|██████████| 44/44 [00:42<00:00,  1.03it/s]\n",
            "Validating: 100%|██████████| 5/5 [00:02<00:00,  2.08it/s]\n"
          ]
        },
        {
          "output_type": "stream",
          "name": "stdout",
          "text": [
            "Epoch 28 Summary:\n",
            "  Train Loss: 1.8952 | Train Acc: 37.17%\n",
            "  Val Loss:   1.4233 | Val Acc:   52.08%\n",
            "  Current Learning Rate: 0.000252\n",
            "--- Epoch 29/300 ---\n"
          ]
        },
        {
          "output_type": "stream",
          "name": "stderr",
          "text": [
            "Training: 100%|██████████| 44/44 [00:42<00:00,  1.03it/s]\n",
            "Validating: 100%|██████████| 5/5 [00:02<00:00,  2.05it/s]\n"
          ]
        },
        {
          "output_type": "stream",
          "name": "stdout",
          "text": [
            "Epoch 29 Summary:\n",
            "  Train Loss: 1.9295 | Train Acc: 35.62%\n",
            "  Val Loss:   1.3290 | Val Acc:   54.94%\n",
            "  Current Learning Rate: 0.000266\n",
            "✅ New best model saved with accuracy: 54.94%\n",
            "--- Epoch 30/300 ---\n"
          ]
        },
        {
          "output_type": "stream",
          "name": "stderr",
          "text": [
            "Training: 100%|██████████| 44/44 [00:42<00:00,  1.03it/s]\n",
            "Validating: 100%|██████████| 5/5 [00:02<00:00,  2.06it/s]\n"
          ]
        },
        {
          "output_type": "stream",
          "name": "stdout",
          "text": [
            "Epoch 30 Summary:\n",
            "  Train Loss: 1.8348 | Train Acc: 40.03%\n",
            "  Val Loss:   1.3385 | Val Acc:   54.60%\n",
            "  Current Learning Rate: 0.000280\n",
            "--- Epoch 31/300 ---\n"
          ]
        },
        {
          "output_type": "stream",
          "name": "stderr",
          "text": [
            "Training: 100%|██████████| 44/44 [00:42<00:00,  1.03it/s]\n",
            "Validating: 100%|██████████| 5/5 [00:02<00:00,  1.98it/s]\n"
          ]
        },
        {
          "output_type": "stream",
          "name": "stdout",
          "text": [
            "Epoch 31 Summary:\n",
            "  Train Loss: 1.9337 | Train Acc: 35.74%\n",
            "  Val Loss:   1.3062 | Val Acc:   55.40%\n",
            "  Current Learning Rate: 0.000295\n",
            "✅ New best model saved with accuracy: 55.40%\n",
            "--- Epoch 32/300 ---\n"
          ]
        },
        {
          "output_type": "stream",
          "name": "stderr",
          "text": [
            "Training: 100%|██████████| 44/44 [00:42<00:00,  1.02it/s]\n",
            "Validating: 100%|██████████| 5/5 [00:02<00:00,  1.83it/s]\n"
          ]
        },
        {
          "output_type": "stream",
          "name": "stdout",
          "text": [
            "Epoch 32 Summary:\n",
            "  Train Loss: 1.8892 | Train Acc: 38.40%\n",
            "  Val Loss:   1.2644 | Val Acc:   57.10%\n",
            "  Current Learning Rate: 0.000310\n",
            "✅ New best model saved with accuracy: 57.10%\n",
            "--- Epoch 33/300 ---\n"
          ]
        },
        {
          "output_type": "stream",
          "name": "stderr",
          "text": [
            "Training: 100%|██████████| 44/44 [00:42<00:00,  1.03it/s]\n",
            "Validating: 100%|██████████| 5/5 [00:02<00:00,  2.03it/s]\n"
          ]
        },
        {
          "output_type": "stream",
          "name": "stdout",
          "text": [
            "Epoch 33 Summary:\n",
            "  Train Loss: 1.8602 | Train Acc: 39.70%\n",
            "  Val Loss:   1.2610 | Val Acc:   57.16%\n",
            "  Current Learning Rate: 0.000325\n",
            "✅ New best model saved with accuracy: 57.16%\n",
            "--- Epoch 34/300 ---\n"
          ]
        },
        {
          "output_type": "stream",
          "name": "stderr",
          "text": [
            "Training: 100%|██████████| 44/44 [00:42<00:00,  1.04it/s]\n",
            "Validating: 100%|██████████| 5/5 [00:02<00:00,  2.06it/s]\n"
          ]
        },
        {
          "output_type": "stream",
          "name": "stdout",
          "text": [
            "Epoch 34 Summary:\n",
            "  Train Loss: 1.8186 | Train Acc: 40.91%\n",
            "  Val Loss:   1.2276 | Val Acc:   57.64%\n",
            "  Current Learning Rate: 0.000340\n",
            "✅ New best model saved with accuracy: 57.64%\n",
            "--- Epoch 35/300 ---\n"
          ]
        },
        {
          "output_type": "stream",
          "name": "stderr",
          "text": [
            "Training: 100%|██████████| 44/44 [00:43<00:00,  1.01it/s]\n",
            "Validating: 100%|██████████| 5/5 [00:02<00:00,  2.02it/s]\n"
          ]
        },
        {
          "output_type": "stream",
          "name": "stdout",
          "text": [
            "Epoch 35 Summary:\n",
            "  Train Loss: 1.9069 | Train Acc: 38.12%\n",
            "  Val Loss:   1.2450 | Val Acc:   58.98%\n",
            "  Current Learning Rate: 0.000356\n",
            "✅ New best model saved with accuracy: 58.98%\n",
            "--- Epoch 36/300 ---\n"
          ]
        },
        {
          "output_type": "stream",
          "name": "stderr",
          "text": [
            "Training: 100%|██████████| 44/44 [00:42<00:00,  1.02it/s]\n",
            "Validating: 100%|██████████| 5/5 [00:02<00:00,  1.72it/s]\n"
          ]
        },
        {
          "output_type": "stream",
          "name": "stdout",
          "text": [
            "Epoch 36 Summary:\n",
            "  Train Loss: 1.8769 | Train Acc: 39.28%\n",
            "  Val Loss:   1.2612 | Val Acc:   57.92%\n",
            "  Current Learning Rate: 0.000372\n",
            "--- Epoch 37/300 ---\n"
          ]
        },
        {
          "output_type": "stream",
          "name": "stderr",
          "text": [
            "Training: 100%|██████████| 44/44 [00:41<00:00,  1.06it/s]\n",
            "Validating: 100%|██████████| 5/5 [00:02<00:00,  1.95it/s]\n"
          ]
        },
        {
          "output_type": "stream",
          "name": "stdout",
          "text": [
            "Epoch 37 Summary:\n",
            "  Train Loss: 1.8406 | Train Acc: 41.12%\n",
            "  Val Loss:   1.1942 | Val Acc:   60.36%\n",
            "  Current Learning Rate: 0.000388\n",
            "✅ New best model saved with accuracy: 60.36%\n",
            "--- Epoch 38/300 ---\n"
          ]
        },
        {
          "output_type": "stream",
          "name": "stderr",
          "text": [
            "Training: 100%|██████████| 44/44 [00:44<00:00,  1.00s/it]\n",
            "Validating: 100%|██████████| 5/5 [00:02<00:00,  1.97it/s]\n"
          ]
        },
        {
          "output_type": "stream",
          "name": "stdout",
          "text": [
            "Epoch 38 Summary:\n",
            "  Train Loss: 1.7909 | Train Acc: 42.52%\n",
            "  Val Loss:   1.2464 | Val Acc:   58.00%\n",
            "  Current Learning Rate: 0.000404\n",
            "--- Epoch 39/300 ---\n"
          ]
        },
        {
          "output_type": "stream",
          "name": "stderr",
          "text": [
            "Training: 100%|██████████| 44/44 [00:44<00:00,  1.01s/it]\n",
            "Validating: 100%|██████████| 5/5 [00:02<00:00,  1.96it/s]\n"
          ]
        },
        {
          "output_type": "stream",
          "name": "stdout",
          "text": [
            "Epoch 39 Summary:\n",
            "  Train Loss: 1.8469 | Train Acc: 41.26%\n",
            "  Val Loss:   1.1943 | Val Acc:   60.32%\n",
            "  Current Learning Rate: 0.000420\n",
            "--- Epoch 40/300 ---\n"
          ]
        },
        {
          "output_type": "stream",
          "name": "stderr",
          "text": [
            "Training: 100%|██████████| 44/44 [00:46<00:00,  1.07s/it]\n",
            "Validating: 100%|██████████| 5/5 [00:02<00:00,  1.99it/s]\n"
          ]
        },
        {
          "output_type": "stream",
          "name": "stdout",
          "text": [
            "Epoch 40 Summary:\n",
            "  Train Loss: 1.8547 | Train Acc: 39.83%\n",
            "  Val Loss:   1.2152 | Val Acc:   59.76%\n",
            "  Current Learning Rate: 0.000437\n",
            "--- Epoch 41/300 ---\n"
          ]
        },
        {
          "output_type": "stream",
          "name": "stderr",
          "text": [
            "Training: 100%|██████████| 44/44 [00:45<00:00,  1.03s/it]\n",
            "Validating: 100%|██████████| 5/5 [00:02<00:00,  1.96it/s]\n"
          ]
        },
        {
          "output_type": "stream",
          "name": "stdout",
          "text": [
            "Epoch 41 Summary:\n",
            "  Train Loss: 1.8347 | Train Acc: 41.44%\n",
            "  Val Loss:   1.1576 | Val Acc:   60.38%\n",
            "  Current Learning Rate: 0.000453\n",
            "✅ New best model saved with accuracy: 60.38%\n",
            "--- Epoch 42/300 ---\n"
          ]
        },
        {
          "output_type": "stream",
          "name": "stderr",
          "text": [
            "Training: 100%|██████████| 44/44 [00:46<00:00,  1.06s/it]\n",
            "Validating: 100%|██████████| 5/5 [00:02<00:00,  1.77it/s]\n"
          ]
        },
        {
          "output_type": "stream",
          "name": "stdout",
          "text": [
            "Epoch 42 Summary:\n",
            "  Train Loss: 1.7668 | Train Acc: 44.44%\n",
            "  Val Loss:   1.1448 | Val Acc:   62.58%\n",
            "  Current Learning Rate: 0.000470\n",
            "✅ New best model saved with accuracy: 62.58%\n",
            "--- Epoch 43/300 ---\n"
          ]
        },
        {
          "output_type": "stream",
          "name": "stderr",
          "text": [
            "Training: 100%|██████████| 44/44 [00:45<00:00,  1.04s/it]\n",
            "Validating: 100%|██████████| 5/5 [00:02<00:00,  1.99it/s]\n"
          ]
        },
        {
          "output_type": "stream",
          "name": "stdout",
          "text": [
            "Epoch 43 Summary:\n",
            "  Train Loss: 1.8181 | Train Acc: 42.14%\n",
            "  Val Loss:   1.1828 | Val Acc:   59.46%\n",
            "  Current Learning Rate: 0.000487\n",
            "--- Epoch 44/300 ---\n"
          ]
        },
        {
          "output_type": "stream",
          "name": "stderr",
          "text": [
            "Training: 100%|██████████| 44/44 [00:45<00:00,  1.03s/it]\n",
            "Validating: 100%|██████████| 5/5 [00:02<00:00,  1.95it/s]\n"
          ]
        },
        {
          "output_type": "stream",
          "name": "stdout",
          "text": [
            "Epoch 44 Summary:\n",
            "  Train Loss: 1.7543 | Train Acc: 45.39%\n",
            "  Val Loss:   1.1839 | Val Acc:   60.08%\n",
            "  Current Learning Rate: 0.000503\n",
            "--- Epoch 45/300 ---\n"
          ]
        },
        {
          "output_type": "stream",
          "name": "stderr",
          "text": [
            "Training: 100%|██████████| 44/44 [00:44<00:00,  1.02s/it]\n",
            "Validating: 100%|██████████| 5/5 [00:02<00:00,  1.73it/s]\n"
          ]
        },
        {
          "output_type": "stream",
          "name": "stdout",
          "text": [
            "Epoch 45 Summary:\n",
            "  Train Loss: 1.7927 | Train Acc: 43.46%\n",
            "  Val Loss:   1.1474 | Val Acc:   61.10%\n",
            "  Current Learning Rate: 0.000520\n",
            "--- Epoch 46/300 ---\n"
          ]
        },
        {
          "output_type": "stream",
          "name": "stderr",
          "text": [
            "Training: 100%|██████████| 44/44 [00:45<00:00,  1.03s/it]\n",
            "Validating: 100%|██████████| 5/5 [00:02<00:00,  1.98it/s]\n"
          ]
        },
        {
          "output_type": "stream",
          "name": "stdout",
          "text": [
            "Epoch 46 Summary:\n",
            "  Train Loss: 1.8135 | Train Acc: 42.60%\n",
            "  Val Loss:   1.1942 | Val Acc:   59.20%\n",
            "  Current Learning Rate: 0.000537\n",
            "--- Epoch 47/300 ---\n"
          ]
        },
        {
          "output_type": "stream",
          "name": "stderr",
          "text": [
            "Training: 100%|██████████| 44/44 [00:45<00:00,  1.03s/it]\n",
            "Validating: 100%|██████████| 5/5 [00:02<00:00,  1.98it/s]\n"
          ]
        },
        {
          "output_type": "stream",
          "name": "stdout",
          "text": [
            "Epoch 47 Summary:\n",
            "  Train Loss: 1.7754 | Train Acc: 44.10%\n",
            "  Val Loss:   1.1686 | Val Acc:   61.20%\n",
            "  Current Learning Rate: 0.000554\n",
            "--- Epoch 48/300 ---\n"
          ]
        },
        {
          "output_type": "stream",
          "name": "stderr",
          "text": [
            "Training: 100%|██████████| 44/44 [00:44<00:00,  1.01s/it]\n",
            "Validating: 100%|██████████| 5/5 [00:02<00:00,  1.92it/s]\n"
          ]
        },
        {
          "output_type": "stream",
          "name": "stdout",
          "text": [
            "Epoch 48 Summary:\n",
            "  Train Loss: 1.7728 | Train Acc: 44.56%\n",
            "  Val Loss:   1.0502 | Val Acc:   64.76%\n",
            "  Current Learning Rate: 0.000570\n",
            "✅ New best model saved with accuracy: 64.76%\n",
            "--- Epoch 49/300 ---\n"
          ]
        },
        {
          "output_type": "stream",
          "name": "stderr",
          "text": [
            "Training: 100%|██████████| 44/44 [00:46<00:00,  1.05s/it]\n",
            "Validating: 100%|██████████| 5/5 [00:02<00:00,  2.00it/s]\n"
          ]
        },
        {
          "output_type": "stream",
          "name": "stdout",
          "text": [
            "Epoch 49 Summary:\n",
            "  Train Loss: 1.7544 | Train Acc: 44.93%\n",
            "  Val Loss:   1.0961 | Val Acc:   63.70%\n",
            "  Current Learning Rate: 0.000587\n",
            "--- Epoch 50/300 ---\n"
          ]
        },
        {
          "output_type": "stream",
          "name": "stderr",
          "text": [
            "Training: 100%|██████████| 44/44 [00:45<00:00,  1.02s/it]\n",
            "Validating: 100%|██████████| 5/5 [00:02<00:00,  1.98it/s]\n"
          ]
        },
        {
          "output_type": "stream",
          "name": "stdout",
          "text": [
            "Epoch 50 Summary:\n",
            "  Train Loss: 1.7351 | Train Acc: 46.13%\n",
            "  Val Loss:   1.0698 | Val Acc:   64.72%\n",
            "  Current Learning Rate: 0.000604\n",
            "--- Epoch 51/300 ---\n"
          ]
        },
        {
          "output_type": "stream",
          "name": "stderr",
          "text": [
            "Training: 100%|██████████| 44/44 [00:44<00:00,  1.02s/it]\n",
            "Validating: 100%|██████████| 5/5 [00:02<00:00,  1.96it/s]\n"
          ]
        },
        {
          "output_type": "stream",
          "name": "stdout",
          "text": [
            "Epoch 51 Summary:\n",
            "  Train Loss: 1.7144 | Train Acc: 46.86%\n",
            "  Val Loss:   1.0710 | Val Acc:   63.50%\n",
            "  Current Learning Rate: 0.000620\n",
            "--- Epoch 52/300 ---\n"
          ]
        },
        {
          "output_type": "stream",
          "name": "stderr",
          "text": [
            "Training: 100%|██████████| 44/44 [00:45<00:00,  1.03s/it]\n",
            "Validating: 100%|██████████| 5/5 [00:02<00:00,  1.81it/s]\n"
          ]
        },
        {
          "output_type": "stream",
          "name": "stdout",
          "text": [
            "Epoch 52 Summary:\n",
            "  Train Loss: 1.7493 | Train Acc: 46.88%\n",
            "  Val Loss:   1.0340 | Val Acc:   66.16%\n",
            "  Current Learning Rate: 0.000636\n",
            "✅ New best model saved with accuracy: 66.16%\n",
            "--- Epoch 53/300 ---\n"
          ]
        },
        {
          "output_type": "stream",
          "name": "stderr",
          "text": [
            "Training: 100%|██████████| 44/44 [00:46<00:00,  1.05s/it]\n",
            "Validating: 100%|██████████| 5/5 [00:02<00:00,  1.98it/s]\n"
          ]
        },
        {
          "output_type": "stream",
          "name": "stdout",
          "text": [
            "Epoch 53 Summary:\n",
            "  Train Loss: 1.7539 | Train Acc: 46.00%\n",
            "  Val Loss:   1.0682 | Val Acc:   63.68%\n",
            "  Current Learning Rate: 0.000653\n",
            "--- Epoch 54/300 ---\n"
          ]
        },
        {
          "output_type": "stream",
          "name": "stderr",
          "text": [
            "Training: 100%|██████████| 44/44 [00:44<00:00,  1.02s/it]\n",
            "Validating: 100%|██████████| 5/5 [00:02<00:00,  1.97it/s]\n"
          ]
        },
        {
          "output_type": "stream",
          "name": "stdout",
          "text": [
            "Epoch 54 Summary:\n",
            "  Train Loss: 1.6700 | Train Acc: 48.27%\n",
            "  Val Loss:   1.0133 | Val Acc:   65.26%\n",
            "  Current Learning Rate: 0.000669\n",
            "--- Epoch 55/300 ---\n"
          ]
        },
        {
          "output_type": "stream",
          "name": "stderr",
          "text": [
            "Training: 100%|██████████| 44/44 [00:45<00:00,  1.04s/it]\n",
            "Validating: 100%|██████████| 5/5 [00:02<00:00,  1.92it/s]\n"
          ]
        },
        {
          "output_type": "stream",
          "name": "stdout",
          "text": [
            "Epoch 55 Summary:\n",
            "  Train Loss: 1.7663 | Train Acc: 45.75%\n",
            "  Val Loss:   1.0673 | Val Acc:   64.88%\n",
            "  Current Learning Rate: 0.000684\n",
            "--- Epoch 56/300 ---\n"
          ]
        },
        {
          "output_type": "stream",
          "name": "stderr",
          "text": [
            "Training: 100%|██████████| 44/44 [00:45<00:00,  1.02s/it]\n",
            "Validating: 100%|██████████| 5/5 [00:02<00:00,  1.99it/s]\n"
          ]
        },
        {
          "output_type": "stream",
          "name": "stdout",
          "text": [
            "Epoch 56 Summary:\n",
            "  Train Loss: 1.7747 | Train Acc: 45.03%\n",
            "  Val Loss:   1.0513 | Val Acc:   66.16%\n",
            "  Current Learning Rate: 0.000700\n",
            "--- Epoch 57/300 ---\n"
          ]
        },
        {
          "output_type": "stream",
          "name": "stderr",
          "text": [
            "Training: 100%|██████████| 44/44 [00:45<00:00,  1.03s/it]\n",
            "Validating: 100%|██████████| 5/5 [00:02<00:00,  1.94it/s]\n"
          ]
        },
        {
          "output_type": "stream",
          "name": "stdout",
          "text": [
            "Epoch 57 Summary:\n",
            "  Train Loss: 1.7136 | Train Acc: 47.91%\n",
            "  Val Loss:   1.0122 | Val Acc:   66.48%\n",
            "  Current Learning Rate: 0.000715\n",
            "✅ New best model saved with accuracy: 66.48%\n",
            "--- Epoch 58/300 ---\n"
          ]
        },
        {
          "output_type": "stream",
          "name": "stderr",
          "text": [
            "Training: 100%|██████████| 44/44 [00:46<00:00,  1.06s/it]\n",
            "Validating: 100%|██████████| 5/5 [00:02<00:00,  1.99it/s]\n"
          ]
        },
        {
          "output_type": "stream",
          "name": "stdout",
          "text": [
            "Epoch 58 Summary:\n",
            "  Train Loss: 1.6948 | Train Acc: 48.69%\n",
            "  Val Loss:   1.1536 | Val Acc:   62.26%\n",
            "  Current Learning Rate: 0.000731\n",
            "--- Epoch 59/300 ---\n"
          ]
        },
        {
          "output_type": "stream",
          "name": "stderr",
          "text": [
            "Training: 100%|██████████| 44/44 [00:45<00:00,  1.03s/it]\n",
            "Validating: 100%|██████████| 5/5 [00:02<00:00,  1.97it/s]\n"
          ]
        },
        {
          "output_type": "stream",
          "name": "stdout",
          "text": [
            "Epoch 59 Summary:\n",
            "  Train Loss: 1.7291 | Train Acc: 47.13%\n",
            "  Val Loss:   0.9783 | Val Acc:   68.86%\n",
            "  Current Learning Rate: 0.000746\n",
            "✅ New best model saved with accuracy: 68.86%\n",
            "--- Epoch 60/300 ---\n"
          ]
        },
        {
          "output_type": "stream",
          "name": "stderr",
          "text": [
            "Training: 100%|██████████| 44/44 [00:45<00:00,  1.02s/it]\n",
            "Validating: 100%|██████████| 5/5 [00:02<00:00,  1.97it/s]\n"
          ]
        },
        {
          "output_type": "stream",
          "name": "stdout",
          "text": [
            "Epoch 60 Summary:\n",
            "  Train Loss: 1.7450 | Train Acc: 47.08%\n",
            "  Val Loss:   0.9886 | Val Acc:   67.36%\n",
            "  Current Learning Rate: 0.000760\n",
            "--- Epoch 61/300 ---\n"
          ]
        },
        {
          "output_type": "stream",
          "name": "stderr",
          "text": [
            "Training: 100%|██████████| 44/44 [00:45<00:00,  1.04s/it]\n",
            "Validating: 100%|██████████| 5/5 [00:02<00:00,  1.86it/s]\n"
          ]
        },
        {
          "output_type": "stream",
          "name": "stdout",
          "text": [
            "Epoch 61 Summary:\n",
            "  Train Loss: 1.7555 | Train Acc: 45.48%\n",
            "  Val Loss:   1.0450 | Val Acc:   66.58%\n",
            "  Current Learning Rate: 0.000775\n",
            "--- Epoch 62/300 ---\n"
          ]
        },
        {
          "output_type": "stream",
          "name": "stderr",
          "text": [
            "Training: 100%|██████████| 44/44 [00:45<00:00,  1.02s/it]\n",
            "Validating: 100%|██████████| 5/5 [00:02<00:00,  2.02it/s]\n"
          ]
        },
        {
          "output_type": "stream",
          "name": "stdout",
          "text": [
            "Epoch 62 Summary:\n",
            "  Train Loss: 1.6364 | Train Acc: 51.20%\n",
            "  Val Loss:   0.9214 | Val Acc:   69.80%\n",
            "  Current Learning Rate: 0.000789\n",
            "✅ New best model saved with accuracy: 69.80%\n",
            "--- Epoch 63/300 ---\n"
          ]
        },
        {
          "output_type": "stream",
          "name": "stderr",
          "text": [
            "Training: 100%|██████████| 44/44 [00:44<00:00,  1.01s/it]\n",
            "Validating: 100%|██████████| 5/5 [00:02<00:00,  2.00it/s]\n"
          ]
        },
        {
          "output_type": "stream",
          "name": "stdout",
          "text": [
            "Epoch 63 Summary:\n",
            "  Train Loss: 1.7549 | Train Acc: 46.77%\n",
            "  Val Loss:   1.0207 | Val Acc:   67.30%\n",
            "  Current Learning Rate: 0.000802\n",
            "--- Epoch 64/300 ---\n"
          ]
        },
        {
          "output_type": "stream",
          "name": "stderr",
          "text": [
            "Training: 100%|██████████| 44/44 [00:44<00:00,  1.02s/it]\n",
            "Validating: 100%|██████████| 5/5 [00:02<00:00,  1.72it/s]\n"
          ]
        },
        {
          "output_type": "stream",
          "name": "stdout",
          "text": [
            "Epoch 64 Summary:\n",
            "  Train Loss: 1.6969 | Train Acc: 48.56%\n",
            "  Val Loss:   1.0256 | Val Acc:   67.66%\n",
            "  Current Learning Rate: 0.000816\n",
            "--- Epoch 65/300 ---\n"
          ]
        },
        {
          "output_type": "stream",
          "name": "stderr",
          "text": [
            "Training: 100%|██████████| 44/44 [00:44<00:00,  1.00s/it]\n",
            "Validating: 100%|██████████| 5/5 [00:02<00:00,  2.05it/s]\n"
          ]
        },
        {
          "output_type": "stream",
          "name": "stdout",
          "text": [
            "Epoch 65 Summary:\n",
            "  Train Loss: 1.6821 | Train Acc: 49.70%\n",
            "  Val Loss:   0.9614 | Val Acc:   68.50%\n",
            "  Current Learning Rate: 0.000829\n",
            "--- Epoch 66/300 ---\n"
          ]
        },
        {
          "output_type": "stream",
          "name": "stderr",
          "text": [
            "Training: 100%|██████████| 44/44 [00:44<00:00,  1.01s/it]\n",
            "Validating: 100%|██████████| 5/5 [00:02<00:00,  2.06it/s]\n"
          ]
        },
        {
          "output_type": "stream",
          "name": "stdout",
          "text": [
            "Epoch 66 Summary:\n",
            "  Train Loss: 1.7069 | Train Acc: 48.13%\n",
            "  Val Loss:   0.9950 | Val Acc:   67.22%\n",
            "  Current Learning Rate: 0.000841\n",
            "--- Epoch 67/300 ---\n"
          ]
        },
        {
          "output_type": "stream",
          "name": "stderr",
          "text": [
            "Training: 100%|██████████| 44/44 [00:44<00:00,  1.01s/it]\n",
            "Validating: 100%|██████████| 5/5 [00:02<00:00,  2.04it/s]\n"
          ]
        },
        {
          "output_type": "stream",
          "name": "stdout",
          "text": [
            "Epoch 67 Summary:\n",
            "  Train Loss: 1.6633 | Train Acc: 50.03%\n",
            "  Val Loss:   1.0054 | Val Acc:   66.76%\n",
            "  Current Learning Rate: 0.000854\n",
            "--- Epoch 68/300 ---\n"
          ]
        },
        {
          "output_type": "stream",
          "name": "stderr",
          "text": [
            "Training: 100%|██████████| 44/44 [00:44<00:00,  1.01s/it]\n",
            "Validating: 100%|██████████| 5/5 [00:02<00:00,  1.85it/s]\n"
          ]
        },
        {
          "output_type": "stream",
          "name": "stdout",
          "text": [
            "Epoch 68 Summary:\n",
            "  Train Loss: 1.6796 | Train Acc: 49.75%\n",
            "  Val Loss:   0.9325 | Val Acc:   69.98%\n",
            "  Current Learning Rate: 0.000865\n",
            "✅ New best model saved with accuracy: 69.98%\n",
            "--- Epoch 69/300 ---\n"
          ]
        },
        {
          "output_type": "stream",
          "name": "stderr",
          "text": [
            "Training: 100%|██████████| 44/44 [00:44<00:00,  1.01s/it]\n",
            "Validating: 100%|██████████| 5/5 [00:02<00:00,  2.08it/s]\n"
          ]
        },
        {
          "output_type": "stream",
          "name": "stdout",
          "text": [
            "Epoch 69 Summary:\n",
            "  Train Loss: 1.7608 | Train Acc: 45.87%\n",
            "  Val Loss:   0.9529 | Val Acc:   67.52%\n",
            "  Current Learning Rate: 0.000877\n",
            "--- Epoch 70/300 ---\n"
          ]
        },
        {
          "output_type": "stream",
          "name": "stderr",
          "text": [
            "Training: 100%|██████████| 44/44 [00:44<00:00,  1.01s/it]\n",
            "Validating: 100%|██████████| 5/5 [00:02<00:00,  2.08it/s]\n"
          ]
        },
        {
          "output_type": "stream",
          "name": "stdout",
          "text": [
            "Epoch 70 Summary:\n",
            "  Train Loss: 1.6387 | Train Acc: 50.57%\n",
            "  Val Loss:   0.9360 | Val Acc:   69.10%\n",
            "  Current Learning Rate: 0.000888\n",
            "--- Epoch 71/300 ---\n"
          ]
        },
        {
          "output_type": "stream",
          "name": "stderr",
          "text": [
            "Training: 100%|██████████| 44/44 [00:43<00:00,  1.01it/s]\n",
            "Validating: 100%|██████████| 5/5 [00:02<00:00,  2.02it/s]\n"
          ]
        },
        {
          "output_type": "stream",
          "name": "stdout",
          "text": [
            "Epoch 71 Summary:\n",
            "  Train Loss: 1.6669 | Train Acc: 50.54%\n",
            "  Val Loss:   0.8935 | Val Acc:   70.92%\n",
            "  Current Learning Rate: 0.000898\n",
            "✅ New best model saved with accuracy: 70.92%\n",
            "--- Epoch 72/300 ---\n"
          ]
        },
        {
          "output_type": "stream",
          "name": "stderr",
          "text": [
            "Training: 100%|██████████| 44/44 [00:44<00:00,  1.01s/it]\n",
            "Validating: 100%|██████████| 5/5 [00:02<00:00,  1.85it/s]\n"
          ]
        },
        {
          "output_type": "stream",
          "name": "stdout",
          "text": [
            "Epoch 72 Summary:\n",
            "  Train Loss: 1.6370 | Train Acc: 51.38%\n",
            "  Val Loss:   0.9385 | Val Acc:   67.98%\n",
            "  Current Learning Rate: 0.000909\n",
            "--- Epoch 73/300 ---\n"
          ]
        },
        {
          "output_type": "stream",
          "name": "stderr",
          "text": [
            "Training: 100%|██████████| 44/44 [00:43<00:00,  1.00it/s]\n",
            "Validating: 100%|██████████| 5/5 [00:02<00:00,  2.05it/s]\n"
          ]
        },
        {
          "output_type": "stream",
          "name": "stdout",
          "text": [
            "Epoch 73 Summary:\n",
            "  Train Loss: 1.5769 | Train Acc: 53.91%\n",
            "  Val Loss:   0.9095 | Val Acc:   69.76%\n",
            "  Current Learning Rate: 0.000918\n",
            "--- Epoch 74/300 ---\n"
          ]
        },
        {
          "output_type": "stream",
          "name": "stderr",
          "text": [
            "Training: 100%|██████████| 44/44 [00:43<00:00,  1.00it/s]\n",
            "Validating: 100%|██████████| 5/5 [00:02<00:00,  2.06it/s]\n"
          ]
        },
        {
          "output_type": "stream",
          "name": "stdout",
          "text": [
            "Epoch 74 Summary:\n",
            "  Train Loss: 1.6297 | Train Acc: 50.82%\n",
            "  Val Loss:   0.8720 | Val Acc:   70.92%\n",
            "  Current Learning Rate: 0.000927\n",
            "--- Epoch 75/300 ---\n"
          ]
        },
        {
          "output_type": "stream",
          "name": "stderr",
          "text": [
            "Training: 100%|██████████| 44/44 [00:44<00:00,  1.00s/it]\n",
            "Validating: 100%|██████████| 5/5 [00:02<00:00,  2.01it/s]\n"
          ]
        },
        {
          "output_type": "stream",
          "name": "stdout",
          "text": [
            "Epoch 75 Summary:\n",
            "  Train Loss: 1.7257 | Train Acc: 47.57%\n",
            "  Val Loss:   0.9919 | Val Acc:   68.24%\n",
            "  Current Learning Rate: 0.000936\n",
            "--- Epoch 76/300 ---\n"
          ]
        },
        {
          "output_type": "stream",
          "name": "stderr",
          "text": [
            "Training: 100%|██████████| 44/44 [00:43<00:00,  1.02it/s]\n",
            "Validating: 100%|██████████| 5/5 [00:02<00:00,  1.80it/s]\n"
          ]
        },
        {
          "output_type": "stream",
          "name": "stdout",
          "text": [
            "Epoch 76 Summary:\n",
            "  Train Loss: 1.6024 | Train Acc: 51.96%\n",
            "  Val Loss:   0.8210 | Val Acc:   72.68%\n",
            "  Current Learning Rate: 0.000944\n",
            "✅ New best model saved with accuracy: 72.68%\n",
            "--- Epoch 77/300 ---\n"
          ]
        },
        {
          "output_type": "stream",
          "name": "stderr",
          "text": [
            "Training: 100%|██████████| 44/44 [00:44<00:00,  1.00s/it]\n",
            "Validating: 100%|██████████| 5/5 [00:02<00:00,  2.06it/s]\n"
          ]
        },
        {
          "output_type": "stream",
          "name": "stdout",
          "text": [
            "Epoch 77 Summary:\n",
            "  Train Loss: 1.7003 | Train Acc: 50.56%\n",
            "  Val Loss:   1.0121 | Val Acc:   67.02%\n",
            "  Current Learning Rate: 0.000952\n",
            "--- Epoch 78/300 ---\n"
          ]
        },
        {
          "output_type": "stream",
          "name": "stderr",
          "text": [
            "Training: 100%|██████████| 44/44 [00:44<00:00,  1.01s/it]\n",
            "Validating: 100%|██████████| 5/5 [00:02<00:00,  2.07it/s]\n"
          ]
        },
        {
          "output_type": "stream",
          "name": "stdout",
          "text": [
            "Epoch 78 Summary:\n",
            "  Train Loss: 1.6916 | Train Acc: 50.49%\n",
            "  Val Loss:   0.9148 | Val Acc:   71.72%\n",
            "  Current Learning Rate: 0.000959\n",
            "--- Epoch 79/300 ---\n"
          ]
        },
        {
          "output_type": "stream",
          "name": "stderr",
          "text": [
            "Training: 100%|██████████| 44/44 [00:44<00:00,  1.02s/it]\n",
            "Validating: 100%|██████████| 5/5 [00:02<00:00,  2.08it/s]\n"
          ]
        },
        {
          "output_type": "stream",
          "name": "stdout",
          "text": [
            "Epoch 79 Summary:\n",
            "  Train Loss: 1.7164 | Train Acc: 48.97%\n",
            "  Val Loss:   0.8939 | Val Acc:   71.48%\n",
            "  Current Learning Rate: 0.000965\n",
            "--- Epoch 80/300 ---\n"
          ]
        },
        {
          "output_type": "stream",
          "name": "stderr",
          "text": [
            "Training: 100%|██████████| 44/44 [00:44<00:00,  1.00s/it]\n",
            "Validating: 100%|██████████| 5/5 [00:02<00:00,  2.04it/s]\n"
          ]
        },
        {
          "output_type": "stream",
          "name": "stdout",
          "text": [
            "Epoch 80 Summary:\n",
            "  Train Loss: 1.6369 | Train Acc: 51.58%\n",
            "  Val Loss:   0.9090 | Val Acc:   70.88%\n",
            "  Current Learning Rate: 0.000971\n",
            "--- Epoch 81/300 ---\n"
          ]
        },
        {
          "output_type": "stream",
          "name": "stderr",
          "text": [
            "Training: 100%|██████████| 44/44 [00:44<00:00,  1.00s/it]\n",
            "Validating: 100%|██████████| 5/5 [00:02<00:00,  1.79it/s]\n"
          ]
        },
        {
          "output_type": "stream",
          "name": "stdout",
          "text": [
            "Epoch 81 Summary:\n",
            "  Train Loss: 1.6175 | Train Acc: 54.13%\n",
            "  Val Loss:   0.8578 | Val Acc:   71.82%\n",
            "  Current Learning Rate: 0.000977\n",
            "--- Epoch 82/300 ---\n"
          ]
        },
        {
          "output_type": "stream",
          "name": "stderr",
          "text": [
            "Training: 100%|██████████| 44/44 [00:44<00:00,  1.01s/it]\n",
            "Validating: 100%|██████████| 5/5 [00:02<00:00,  2.06it/s]\n"
          ]
        },
        {
          "output_type": "stream",
          "name": "stdout",
          "text": [
            "Epoch 82 Summary:\n",
            "  Train Loss: 1.6217 | Train Acc: 51.56%\n",
            "  Val Loss:   0.9157 | Val Acc:   71.92%\n",
            "  Current Learning Rate: 0.000982\n",
            "--- Epoch 83/300 ---\n"
          ]
        },
        {
          "output_type": "stream",
          "name": "stderr",
          "text": [
            "Training: 100%|██████████| 44/44 [00:44<00:00,  1.01s/it]\n",
            "Validating: 100%|██████████| 5/5 [00:02<00:00,  2.06it/s]\n"
          ]
        },
        {
          "output_type": "stream",
          "name": "stdout",
          "text": [
            "Epoch 83 Summary:\n",
            "  Train Loss: 1.6903 | Train Acc: 49.40%\n",
            "  Val Loss:   0.9480 | Val Acc:   68.70%\n",
            "  Current Learning Rate: 0.000986\n",
            "--- Epoch 84/300 ---\n"
          ]
        },
        {
          "output_type": "stream",
          "name": "stderr",
          "text": [
            "Training: 100%|██████████| 44/44 [00:43<00:00,  1.00it/s]\n",
            "Validating: 100%|██████████| 5/5 [00:02<00:00,  2.03it/s]\n"
          ]
        },
        {
          "output_type": "stream",
          "name": "stdout",
          "text": [
            "Epoch 84 Summary:\n",
            "  Train Loss: 1.6590 | Train Acc: 51.05%\n",
            "  Val Loss:   0.8885 | Val Acc:   71.90%\n",
            "  Current Learning Rate: 0.000990\n",
            "--- Epoch 85/300 ---\n"
          ]
        },
        {
          "output_type": "stream",
          "name": "stderr",
          "text": [
            "Training: 100%|██████████| 44/44 [00:44<00:00,  1.00s/it]\n",
            "Validating: 100%|██████████| 5/5 [00:02<00:00,  1.79it/s]\n"
          ]
        },
        {
          "output_type": "stream",
          "name": "stdout",
          "text": [
            "Epoch 85 Summary:\n",
            "  Train Loss: 1.6252 | Train Acc: 52.22%\n",
            "  Val Loss:   0.8632 | Val Acc:   72.80%\n",
            "  Current Learning Rate: 0.000993\n",
            "✅ New best model saved with accuracy: 72.80%\n",
            "--- Epoch 86/300 ---\n"
          ]
        },
        {
          "output_type": "stream",
          "name": "stderr",
          "text": [
            "Training: 100%|██████████| 44/44 [00:44<00:00,  1.01s/it]\n",
            "Validating: 100%|██████████| 5/5 [00:02<00:00,  2.08it/s]\n"
          ]
        },
        {
          "output_type": "stream",
          "name": "stdout",
          "text": [
            "Epoch 86 Summary:\n",
            "  Train Loss: 1.6579 | Train Acc: 52.89%\n",
            "  Val Loss:   0.8526 | Val Acc:   74.10%\n",
            "  Current Learning Rate: 0.000995\n",
            "✅ New best model saved with accuracy: 74.10%\n",
            "--- Epoch 87/300 ---\n"
          ]
        },
        {
          "output_type": "stream",
          "name": "stderr",
          "text": [
            "Training: 100%|██████████| 44/44 [00:44<00:00,  1.00s/it]\n",
            "Validating: 100%|██████████| 5/5 [00:02<00:00,  2.07it/s]\n"
          ]
        },
        {
          "output_type": "stream",
          "name": "stdout",
          "text": [
            "Epoch 87 Summary:\n",
            "  Train Loss: 1.5670 | Train Acc: 55.37%\n",
            "  Val Loss:   0.8394 | Val Acc:   72.22%\n",
            "  Current Learning Rate: 0.000997\n",
            "--- Epoch 88/300 ---\n"
          ]
        },
        {
          "output_type": "stream",
          "name": "stderr",
          "text": [
            "Training: 100%|██████████| 44/44 [00:43<00:00,  1.01it/s]\n",
            "Validating: 100%|██████████| 5/5 [00:02<00:00,  2.04it/s]\n"
          ]
        },
        {
          "output_type": "stream",
          "name": "stdout",
          "text": [
            "Epoch 88 Summary:\n",
            "  Train Loss: 1.5142 | Train Acc: 56.55%\n",
            "  Val Loss:   0.8255 | Val Acc:   72.50%\n",
            "  Current Learning Rate: 0.000999\n",
            "--- Epoch 89/300 ---\n"
          ]
        },
        {
          "output_type": "stream",
          "name": "stderr",
          "text": [
            "Training: 100%|██████████| 44/44 [00:44<00:00,  1.00s/it]\n",
            "Validating: 100%|██████████| 5/5 [00:02<00:00,  1.80it/s]\n"
          ]
        },
        {
          "output_type": "stream",
          "name": "stdout",
          "text": [
            "Epoch 89 Summary:\n",
            "  Train Loss: 1.5489 | Train Acc: 56.04%\n",
            "  Val Loss:   0.7978 | Val Acc:   75.14%\n",
            "  Current Learning Rate: 0.001000\n",
            "✅ New best model saved with accuracy: 75.14%\n",
            "--- Epoch 90/300 ---\n"
          ]
        },
        {
          "output_type": "stream",
          "name": "stderr",
          "text": [
            "Training: 100%|██████████| 44/44 [00:44<00:00,  1.02s/it]\n",
            "Validating: 100%|██████████| 5/5 [00:02<00:00,  2.05it/s]\n"
          ]
        },
        {
          "output_type": "stream",
          "name": "stdout",
          "text": [
            "Epoch 90 Summary:\n",
            "  Train Loss: 1.6840 | Train Acc: 49.95%\n",
            "  Val Loss:   0.9333 | Val Acc:   73.52%\n",
            "  Current Learning Rate: 0.001000\n",
            "--- Epoch 91/300 ---\n"
          ]
        },
        {
          "output_type": "stream",
          "name": "stderr",
          "text": [
            "Training: 100%|██████████| 44/44 [00:44<00:00,  1.01s/it]\n",
            "Validating: 100%|██████████| 5/5 [00:02<00:00,  2.08it/s]\n"
          ]
        },
        {
          "output_type": "stream",
          "name": "stdout",
          "text": [
            "Epoch 91 Summary:\n",
            "  Train Loss: 1.5801 | Train Acc: 53.79%\n",
            "  Val Loss:   0.8320 | Val Acc:   73.02%\n",
            "  Current Learning Rate: 0.001000\n",
            "--- Epoch 92/300 ---\n"
          ]
        },
        {
          "output_type": "stream",
          "name": "stderr",
          "text": [
            "Training: 100%|██████████| 44/44 [00:44<00:00,  1.01s/it]\n",
            "Validating: 100%|██████████| 5/5 [00:02<00:00,  2.04it/s]\n"
          ]
        },
        {
          "output_type": "stream",
          "name": "stdout",
          "text": [
            "Epoch 92 Summary:\n",
            "  Train Loss: 1.5323 | Train Acc: 56.74%\n",
            "  Val Loss:   0.7653 | Val Acc:   75.40%\n",
            "  Current Learning Rate: 0.001000\n",
            "✅ New best model saved with accuracy: 75.40%\n",
            "--- Epoch 93/300 ---\n"
          ]
        },
        {
          "output_type": "stream",
          "name": "stderr",
          "text": [
            "Training: 100%|██████████| 44/44 [00:44<00:00,  1.01s/it]\n",
            "Validating: 100%|██████████| 5/5 [00:02<00:00,  1.87it/s]\n"
          ]
        },
        {
          "output_type": "stream",
          "name": "stdout",
          "text": [
            "Epoch 93 Summary:\n",
            "  Train Loss: 1.5477 | Train Acc: 56.48%\n",
            "  Val Loss:   0.7544 | Val Acc:   75.56%\n",
            "  Current Learning Rate: 0.000999\n",
            "✅ New best model saved with accuracy: 75.56%\n",
            "--- Epoch 94/300 ---\n"
          ]
        },
        {
          "output_type": "stream",
          "name": "stderr",
          "text": [
            "Training: 100%|██████████| 44/44 [00:44<00:00,  1.01s/it]\n",
            "Validating: 100%|██████████| 5/5 [00:02<00:00,  2.06it/s]\n"
          ]
        },
        {
          "output_type": "stream",
          "name": "stdout",
          "text": [
            "Epoch 94 Summary:\n",
            "  Train Loss: 1.5444 | Train Acc: 55.46%\n",
            "  Val Loss:   0.7893 | Val Acc:   75.86%\n",
            "  Current Learning Rate: 0.000999\n",
            "✅ New best model saved with accuracy: 75.86%\n",
            "--- Epoch 95/300 ---\n"
          ]
        },
        {
          "output_type": "stream",
          "name": "stderr",
          "text": [
            "Training: 100%|██████████| 44/44 [00:44<00:00,  1.00s/it]\n",
            "Validating: 100%|██████████| 5/5 [00:02<00:00,  2.03it/s]\n"
          ]
        },
        {
          "output_type": "stream",
          "name": "stdout",
          "text": [
            "Epoch 95 Summary:\n",
            "  Train Loss: 1.5390 | Train Acc: 55.76%\n",
            "  Val Loss:   0.8567 | Val Acc:   73.68%\n",
            "  Current Learning Rate: 0.000999\n",
            "--- Epoch 96/300 ---\n"
          ]
        },
        {
          "output_type": "stream",
          "name": "stderr",
          "text": [
            "Training: 100%|██████████| 44/44 [00:43<00:00,  1.00it/s]\n",
            "Validating: 100%|██████████| 5/5 [00:02<00:00,  2.00it/s]\n"
          ]
        },
        {
          "output_type": "stream",
          "name": "stdout",
          "text": [
            "Epoch 96 Summary:\n",
            "  Train Loss: 1.5226 | Train Acc: 57.83%\n",
            "  Val Loss:   0.8045 | Val Acc:   76.00%\n",
            "  Current Learning Rate: 0.000998\n",
            "✅ New best model saved with accuracy: 76.00%\n",
            "--- Epoch 97/300 ---\n"
          ]
        },
        {
          "output_type": "stream",
          "name": "stderr",
          "text": [
            "Training: 100%|██████████| 44/44 [00:44<00:00,  1.01s/it]\n",
            "Validating: 100%|██████████| 5/5 [00:02<00:00,  2.02it/s]\n"
          ]
        },
        {
          "output_type": "stream",
          "name": "stdout",
          "text": [
            "Epoch 97 Summary:\n",
            "  Train Loss: 1.5417 | Train Acc: 55.88%\n",
            "  Val Loss:   0.7981 | Val Acc:   75.74%\n",
            "  Current Learning Rate: 0.000997\n",
            "--- Epoch 98/300 ---\n"
          ]
        },
        {
          "output_type": "stream",
          "name": "stderr",
          "text": [
            "Training: 100%|██████████| 44/44 [00:44<00:00,  1.00s/it]\n",
            "Validating: 100%|██████████| 5/5 [00:02<00:00,  2.07it/s]\n"
          ]
        },
        {
          "output_type": "stream",
          "name": "stdout",
          "text": [
            "Epoch 98 Summary:\n",
            "  Train Loss: 1.5228 | Train Acc: 56.73%\n",
            "  Val Loss:   0.7660 | Val Acc:   76.00%\n",
            "  Current Learning Rate: 0.000996\n",
            "--- Epoch 99/300 ---\n"
          ]
        },
        {
          "output_type": "stream",
          "name": "stderr",
          "text": [
            "Training: 100%|██████████| 44/44 [00:44<00:00,  1.00s/it]\n",
            "Validating: 100%|██████████| 5/5 [00:02<00:00,  2.07it/s]\n"
          ]
        },
        {
          "output_type": "stream",
          "name": "stdout",
          "text": [
            "Epoch 99 Summary:\n",
            "  Train Loss: 1.6042 | Train Acc: 53.66%\n",
            "  Val Loss:   0.7897 | Val Acc:   74.94%\n",
            "  Current Learning Rate: 0.000995\n",
            "--- Epoch 100/300 ---\n"
          ]
        },
        {
          "output_type": "stream",
          "name": "stderr",
          "text": [
            "Training: 100%|██████████| 44/44 [00:43<00:00,  1.02it/s]\n",
            "Validating: 100%|██████████| 5/5 [00:02<00:00,  2.07it/s]\n"
          ]
        },
        {
          "output_type": "stream",
          "name": "stdout",
          "text": [
            "Epoch 100 Summary:\n",
            "  Train Loss: 1.5854 | Train Acc: 55.33%\n",
            "  Val Loss:   0.8467 | Val Acc:   74.36%\n",
            "  Current Learning Rate: 0.000994\n",
            "--- Epoch 101/300 ---\n"
          ]
        },
        {
          "output_type": "stream",
          "name": "stderr",
          "text": [
            "Training: 100%|██████████| 44/44 [00:43<00:00,  1.01it/s]\n",
            "Validating: 100%|██████████| 5/5 [00:02<00:00,  1.87it/s]\n"
          ]
        },
        {
          "output_type": "stream",
          "name": "stdout",
          "text": [
            "Epoch 101 Summary:\n",
            "  Train Loss: 1.4829 | Train Acc: 58.87%\n",
            "  Val Loss:   0.7491 | Val Acc:   75.78%\n",
            "  Current Learning Rate: 0.000993\n",
            "--- Epoch 102/300 ---\n"
          ]
        },
        {
          "output_type": "stream",
          "name": "stderr",
          "text": [
            "Training: 100%|██████████| 44/44 [00:43<00:00,  1.01it/s]\n",
            "Validating: 100%|██████████| 5/5 [00:02<00:00,  2.04it/s]\n"
          ]
        },
        {
          "output_type": "stream",
          "name": "stdout",
          "text": [
            "Epoch 102 Summary:\n",
            "  Train Loss: 1.4311 | Train Acc: 60.80%\n",
            "  Val Loss:   0.6906 | Val Acc:   78.00%\n",
            "  Current Learning Rate: 0.000992\n",
            "✅ New best model saved with accuracy: 78.00%\n",
            "--- Epoch 103/300 ---\n"
          ]
        },
        {
          "output_type": "stream",
          "name": "stderr",
          "text": [
            "Training: 100%|██████████| 44/44 [00:44<00:00,  1.01s/it]\n",
            "Validating: 100%|██████████| 5/5 [00:02<00:00,  2.07it/s]\n"
          ]
        },
        {
          "output_type": "stream",
          "name": "stdout",
          "text": [
            "Epoch 103 Summary:\n",
            "  Train Loss: 1.5017 | Train Acc: 58.18%\n",
            "  Val Loss:   0.7785 | Val Acc:   76.48%\n",
            "  Current Learning Rate: 0.000991\n",
            "--- Epoch 104/300 ---\n"
          ]
        },
        {
          "output_type": "stream",
          "name": "stderr",
          "text": [
            "Training: 100%|██████████| 44/44 [00:43<00:00,  1.00it/s]\n",
            "Validating: 100%|██████████| 5/5 [00:02<00:00,  2.05it/s]\n"
          ]
        },
        {
          "output_type": "stream",
          "name": "stdout",
          "text": [
            "Epoch 104 Summary:\n",
            "  Train Loss: 1.4915 | Train Acc: 58.71%\n",
            "  Val Loss:   0.7030 | Val Acc:   78.26%\n",
            "  Current Learning Rate: 0.000989\n",
            "✅ New best model saved with accuracy: 78.26%\n",
            "--- Epoch 105/300 ---\n"
          ]
        },
        {
          "output_type": "stream",
          "name": "stderr",
          "text": [
            "Training: 100%|██████████| 44/44 [00:44<00:00,  1.00s/it]\n",
            "Validating: 100%|██████████| 5/5 [00:02<00:00,  1.73it/s]\n"
          ]
        },
        {
          "output_type": "stream",
          "name": "stdout",
          "text": [
            "Epoch 105 Summary:\n",
            "  Train Loss: 1.5529 | Train Acc: 57.48%\n",
            "  Val Loss:   0.7055 | Val Acc:   78.40%\n",
            "  Current Learning Rate: 0.000987\n",
            "✅ New best model saved with accuracy: 78.40%\n",
            "--- Epoch 106/300 ---\n"
          ]
        },
        {
          "output_type": "stream",
          "name": "stderr",
          "text": [
            "Training: 100%|██████████| 44/44 [00:44<00:00,  1.00s/it]\n",
            "Validating: 100%|██████████| 5/5 [00:02<00:00,  2.07it/s]\n"
          ]
        },
        {
          "output_type": "stream",
          "name": "stdout",
          "text": [
            "Epoch 106 Summary:\n",
            "  Train Loss: 1.4809 | Train Acc: 60.88%\n",
            "  Val Loss:   0.6911 | Val Acc:   78.46%\n",
            "  Current Learning Rate: 0.000986\n",
            "✅ New best model saved with accuracy: 78.46%\n",
            "--- Epoch 107/300 ---\n"
          ]
        },
        {
          "output_type": "stream",
          "name": "stderr",
          "text": [
            "Training: 100%|██████████| 44/44 [00:43<00:00,  1.01it/s]\n",
            "Validating: 100%|██████████| 5/5 [00:02<00:00,  2.05it/s]\n"
          ]
        },
        {
          "output_type": "stream",
          "name": "stdout",
          "text": [
            "Epoch 107 Summary:\n",
            "  Train Loss: 1.5008 | Train Acc: 58.85%\n",
            "  Val Loss:   0.8251 | Val Acc:   75.60%\n",
            "  Current Learning Rate: 0.000984\n",
            "--- Epoch 108/300 ---\n"
          ]
        },
        {
          "output_type": "stream",
          "name": "stderr",
          "text": [
            "Training: 100%|██████████| 44/44 [00:43<00:00,  1.00it/s]\n",
            "Validating: 100%|██████████| 5/5 [00:02<00:00,  2.06it/s]\n"
          ]
        },
        {
          "output_type": "stream",
          "name": "stdout",
          "text": [
            "Epoch 108 Summary:\n",
            "  Train Loss: 1.5209 | Train Acc: 59.34%\n",
            "  Val Loss:   0.6856 | Val Acc:   80.14%\n",
            "  Current Learning Rate: 0.000982\n",
            "✅ New best model saved with accuracy: 80.14%\n",
            "--- Epoch 109/300 ---\n"
          ]
        },
        {
          "output_type": "stream",
          "name": "stderr",
          "text": [
            "Training: 100%|██████████| 44/44 [00:44<00:00,  1.01s/it]\n",
            "Validating: 100%|██████████| 5/5 [00:02<00:00,  1.82it/s]\n"
          ]
        },
        {
          "output_type": "stream",
          "name": "stdout",
          "text": [
            "Epoch 109 Summary:\n",
            "  Train Loss: 1.4937 | Train Acc: 60.95%\n",
            "  Val Loss:   0.6695 | Val Acc:   80.36%\n",
            "  Current Learning Rate: 0.000980\n",
            "✅ New best model saved with accuracy: 80.36%\n",
            "--- Epoch 110/300 ---\n"
          ]
        },
        {
          "output_type": "stream",
          "name": "stderr",
          "text": [
            "Training: 100%|██████████| 44/44 [00:44<00:00,  1.01s/it]\n",
            "Validating: 100%|██████████| 5/5 [00:02<00:00,  2.06it/s]\n"
          ]
        },
        {
          "output_type": "stream",
          "name": "stdout",
          "text": [
            "Epoch 110 Summary:\n",
            "  Train Loss: 1.4614 | Train Acc: 59.80%\n",
            "  Val Loss:   0.7247 | Val Acc:   77.98%\n",
            "  Current Learning Rate: 0.000978\n",
            "--- Epoch 111/300 ---\n"
          ]
        },
        {
          "output_type": "stream",
          "name": "stderr",
          "text": [
            "Training: 100%|██████████| 44/44 [00:43<00:00,  1.01it/s]\n",
            "Validating: 100%|██████████| 5/5 [00:02<00:00,  2.04it/s]\n"
          ]
        },
        {
          "output_type": "stream",
          "name": "stdout",
          "text": [
            "Epoch 111 Summary:\n",
            "  Train Loss: 1.4734 | Train Acc: 60.27%\n",
            "  Val Loss:   0.7051 | Val Acc:   78.98%\n",
            "  Current Learning Rate: 0.000975\n",
            "--- Epoch 112/300 ---\n"
          ]
        },
        {
          "output_type": "stream",
          "name": "stderr",
          "text": [
            "Training: 100%|██████████| 44/44 [00:43<00:00,  1.01it/s]\n",
            "Validating: 100%|██████████| 5/5 [00:02<00:00,  2.06it/s]\n"
          ]
        },
        {
          "output_type": "stream",
          "name": "stdout",
          "text": [
            "Epoch 112 Summary:\n",
            "  Train Loss: 1.5116 | Train Acc: 59.36%\n",
            "  Val Loss:   0.7587 | Val Acc:   77.92%\n",
            "  Current Learning Rate: 0.000973\n",
            "--- Epoch 113/300 ---\n"
          ]
        },
        {
          "output_type": "stream",
          "name": "stderr",
          "text": [
            "Training: 100%|██████████| 44/44 [00:44<00:00,  1.00s/it]\n",
            "Validating: 100%|██████████| 5/5 [00:02<00:00,  2.01it/s]\n"
          ]
        },
        {
          "output_type": "stream",
          "name": "stdout",
          "text": [
            "Epoch 113 Summary:\n",
            "  Train Loss: 1.5073 | Train Acc: 58.56%\n",
            "  Val Loss:   0.6829 | Val Acc:   80.16%\n",
            "  Current Learning Rate: 0.000971\n",
            "--- Epoch 114/300 ---\n"
          ]
        },
        {
          "output_type": "stream",
          "name": "stderr",
          "text": [
            "Training: 100%|██████████| 44/44 [00:43<00:00,  1.02it/s]\n",
            "Validating: 100%|██████████| 5/5 [00:02<00:00,  1.79it/s]\n"
          ]
        },
        {
          "output_type": "stream",
          "name": "stdout",
          "text": [
            "Epoch 114 Summary:\n",
            "  Train Loss: 1.4589 | Train Acc: 60.74%\n",
            "  Val Loss:   0.6216 | Val Acc:   81.42%\n",
            "  Current Learning Rate: 0.000968\n",
            "✅ New best model saved with accuracy: 81.42%\n",
            "--- Epoch 115/300 ---\n"
          ]
        },
        {
          "output_type": "stream",
          "name": "stderr",
          "text": [
            "Training: 100%|██████████| 44/44 [00:43<00:00,  1.01it/s]\n",
            "Validating: 100%|██████████| 5/5 [00:02<00:00,  2.07it/s]\n"
          ]
        },
        {
          "output_type": "stream",
          "name": "stdout",
          "text": [
            "Epoch 115 Summary:\n",
            "  Train Loss: 1.4631 | Train Acc: 61.02%\n",
            "  Val Loss:   0.6842 | Val Acc:   79.96%\n",
            "  Current Learning Rate: 0.000965\n",
            "--- Epoch 116/300 ---\n"
          ]
        },
        {
          "output_type": "stream",
          "name": "stderr",
          "text": [
            "Training: 100%|██████████| 44/44 [00:43<00:00,  1.02it/s]\n",
            "Validating: 100%|██████████| 5/5 [00:02<00:00,  2.07it/s]\n"
          ]
        },
        {
          "output_type": "stream",
          "name": "stdout",
          "text": [
            "Epoch 116 Summary:\n",
            "  Train Loss: 1.5224 | Train Acc: 59.46%\n",
            "  Val Loss:   0.7242 | Val Acc:   79.76%\n",
            "  Current Learning Rate: 0.000963\n",
            "--- Epoch 117/300 ---\n"
          ]
        },
        {
          "output_type": "stream",
          "name": "stderr",
          "text": [
            "Training: 100%|██████████| 44/44 [00:43<00:00,  1.02it/s]\n",
            "Validating: 100%|██████████| 5/5 [00:02<00:00,  2.08it/s]\n"
          ]
        },
        {
          "output_type": "stream",
          "name": "stdout",
          "text": [
            "Epoch 117 Summary:\n",
            "  Train Loss: 1.5641 | Train Acc: 56.66%\n",
            "  Val Loss:   0.7799 | Val Acc:   77.50%\n",
            "  Current Learning Rate: 0.000960\n",
            "--- Epoch 118/300 ---\n"
          ]
        },
        {
          "output_type": "stream",
          "name": "stderr",
          "text": [
            "Training: 100%|██████████| 44/44 [00:43<00:00,  1.02it/s]\n",
            "Validating: 100%|██████████| 5/5 [00:02<00:00,  1.99it/s]\n"
          ]
        },
        {
          "output_type": "stream",
          "name": "stdout",
          "text": [
            "Epoch 118 Summary:\n",
            "  Train Loss: 1.5954 | Train Acc: 55.88%\n",
            "  Val Loss:   0.6794 | Val Acc:   81.02%\n",
            "  Current Learning Rate: 0.000957\n",
            "--- Epoch 119/300 ---\n"
          ]
        },
        {
          "output_type": "stream",
          "name": "stderr",
          "text": [
            "Training: 100%|██████████| 44/44 [00:42<00:00,  1.02it/s]\n",
            "Validating: 100%|██████████| 5/5 [00:02<00:00,  1.87it/s]\n"
          ]
        },
        {
          "output_type": "stream",
          "name": "stdout",
          "text": [
            "Epoch 119 Summary:\n",
            "  Train Loss: 1.4595 | Train Acc: 60.78%\n",
            "  Val Loss:   0.6645 | Val Acc:   81.00%\n",
            "  Current Learning Rate: 0.000954\n",
            "--- Epoch 120/300 ---\n"
          ]
        },
        {
          "output_type": "stream",
          "name": "stderr",
          "text": [
            "Training: 100%|██████████| 44/44 [00:42<00:00,  1.03it/s]\n",
            "Validating: 100%|██████████| 5/5 [00:02<00:00,  2.07it/s]\n"
          ]
        },
        {
          "output_type": "stream",
          "name": "stdout",
          "text": [
            "Epoch 120 Summary:\n",
            "  Train Loss: 1.4824 | Train Acc: 60.70%\n",
            "  Val Loss:   0.6252 | Val Acc:   81.72%\n",
            "  Current Learning Rate: 0.000950\n",
            "✅ New best model saved with accuracy: 81.72%\n",
            "--- Epoch 121/300 ---\n"
          ]
        },
        {
          "output_type": "stream",
          "name": "stderr",
          "text": [
            "Training: 100%|██████████| 44/44 [00:43<00:00,  1.01it/s]\n",
            "Validating: 100%|██████████| 5/5 [00:02<00:00,  1.93it/s]\n"
          ]
        },
        {
          "output_type": "stream",
          "name": "stdout",
          "text": [
            "Epoch 121 Summary:\n",
            "  Train Loss: 1.4382 | Train Acc: 61.72%\n",
            "  Val Loss:   0.6670 | Val Acc:   81.52%\n",
            "  Current Learning Rate: 0.000947\n",
            "--- Epoch 122/300 ---\n"
          ]
        },
        {
          "output_type": "stream",
          "name": "stderr",
          "text": [
            "Training: 100%|██████████| 44/44 [00:43<00:00,  1.02it/s]\n",
            "Validating: 100%|██████████| 5/5 [00:02<00:00,  2.04it/s]\n"
          ]
        },
        {
          "output_type": "stream",
          "name": "stdout",
          "text": [
            "Epoch 122 Summary:\n",
            "  Train Loss: 1.5319 | Train Acc: 58.01%\n",
            "  Val Loss:   0.7178 | Val Acc:   78.76%\n",
            "  Current Learning Rate: 0.000944\n",
            "--- Epoch 123/300 ---\n"
          ]
        },
        {
          "output_type": "stream",
          "name": "stderr",
          "text": [
            "Training: 100%|██████████| 44/44 [00:44<00:00,  1.02s/it]\n",
            "Validating: 100%|██████████| 5/5 [00:02<00:00,  1.93it/s]\n"
          ]
        },
        {
          "output_type": "stream",
          "name": "stdout",
          "text": [
            "Epoch 123 Summary:\n",
            "  Train Loss: 1.5166 | Train Acc: 59.51%\n",
            "  Val Loss:   0.6171 | Val Acc:   83.12%\n",
            "  Current Learning Rate: 0.000940\n",
            "✅ New best model saved with accuracy: 83.12%\n",
            "--- Epoch 124/300 ---\n"
          ]
        },
        {
          "output_type": "stream",
          "name": "stderr",
          "text": [
            "Training: 100%|██████████| 44/44 [00:45<00:00,  1.04s/it]\n",
            "Validating: 100%|██████████| 5/5 [00:02<00:00,  1.97it/s]\n"
          ]
        },
        {
          "output_type": "stream",
          "name": "stdout",
          "text": [
            "Epoch 124 Summary:\n",
            "  Train Loss: 1.4768 | Train Acc: 62.00%\n",
            "  Val Loss:   0.6484 | Val Acc:   81.40%\n",
            "  Current Learning Rate: 0.000937\n",
            "--- Epoch 125/300 ---\n"
          ]
        },
        {
          "output_type": "stream",
          "name": "stderr",
          "text": [
            "Training: 100%|██████████| 44/44 [00:44<00:00,  1.00s/it]\n",
            "Validating: 100%|██████████| 5/5 [00:02<00:00,  1.99it/s]\n"
          ]
        },
        {
          "output_type": "stream",
          "name": "stdout",
          "text": [
            "Epoch 125 Summary:\n",
            "  Train Loss: 1.5255 | Train Acc: 59.32%\n",
            "  Val Loss:   0.6095 | Val Acc:   81.84%\n",
            "  Current Learning Rate: 0.000933\n",
            "--- Epoch 126/300 ---\n"
          ]
        },
        {
          "output_type": "stream",
          "name": "stderr",
          "text": [
            "Training: 100%|██████████| 44/44 [00:43<00:00,  1.01it/s]\n",
            "Validating: 100%|██████████| 5/5 [00:02<00:00,  1.97it/s]\n"
          ]
        },
        {
          "output_type": "stream",
          "name": "stdout",
          "text": [
            "Epoch 126 Summary:\n",
            "  Train Loss: 1.4545 | Train Acc: 63.16%\n",
            "  Val Loss:   0.6201 | Val Acc:   81.82%\n",
            "  Current Learning Rate: 0.000929\n",
            "--- Epoch 127/300 ---\n"
          ]
        },
        {
          "output_type": "stream",
          "name": "stderr",
          "text": [
            "Training: 100%|██████████| 44/44 [00:43<00:00,  1.02it/s]\n",
            "Validating: 100%|██████████| 5/5 [00:02<00:00,  1.96it/s]\n"
          ]
        },
        {
          "output_type": "stream",
          "name": "stdout",
          "text": [
            "Epoch 127 Summary:\n",
            "  Train Loss: 1.4295 | Train Acc: 63.18%\n",
            "  Val Loss:   0.6525 | Val Acc:   80.60%\n",
            "  Current Learning Rate: 0.000925\n",
            "--- Epoch 128/300 ---\n"
          ]
        },
        {
          "output_type": "stream",
          "name": "stderr",
          "text": [
            "Training: 100%|██████████| 44/44 [00:43<00:00,  1.01it/s]\n",
            "Validating: 100%|██████████| 5/5 [00:02<00:00,  1.82it/s]\n"
          ]
        },
        {
          "output_type": "stream",
          "name": "stdout",
          "text": [
            "Epoch 128 Summary:\n",
            "  Train Loss: 1.3510 | Train Acc: 64.85%\n",
            "  Val Loss:   0.6127 | Val Acc:   81.96%\n",
            "  Current Learning Rate: 0.000921\n",
            "--- Epoch 129/300 ---\n"
          ]
        },
        {
          "output_type": "stream",
          "name": "stderr",
          "text": [
            "Training: 100%|██████████| 44/44 [00:43<00:00,  1.00it/s]\n",
            "Validating: 100%|██████████| 5/5 [00:02<00:00,  1.93it/s]\n"
          ]
        },
        {
          "output_type": "stream",
          "name": "stdout",
          "text": [
            "Epoch 129 Summary:\n",
            "  Train Loss: 1.4778 | Train Acc: 60.31%\n",
            "  Val Loss:   0.6031 | Val Acc:   82.46%\n",
            "  Current Learning Rate: 0.000917\n",
            "--- Epoch 130/300 ---\n"
          ]
        },
        {
          "output_type": "stream",
          "name": "stderr",
          "text": [
            "Training: 100%|██████████| 44/44 [00:45<00:00,  1.04s/it]\n",
            "Validating: 100%|██████████| 5/5 [00:02<00:00,  1.99it/s]\n"
          ]
        },
        {
          "output_type": "stream",
          "name": "stdout",
          "text": [
            "Epoch 130 Summary:\n",
            "  Train Loss: 1.4825 | Train Acc: 59.22%\n",
            "  Val Loss:   0.6571 | Val Acc:   80.90%\n",
            "  Current Learning Rate: 0.000913\n",
            "--- Epoch 131/300 ---\n"
          ]
        },
        {
          "output_type": "stream",
          "name": "stderr",
          "text": [
            "Training: 100%|██████████| 44/44 [00:43<00:00,  1.01it/s]\n",
            "Validating: 100%|██████████| 5/5 [00:02<00:00,  1.94it/s]\n"
          ]
        },
        {
          "output_type": "stream",
          "name": "stdout",
          "text": [
            "Epoch 131 Summary:\n",
            "  Train Loss: 1.4286 | Train Acc: 63.19%\n",
            "  Val Loss:   0.5855 | Val Acc:   82.38%\n",
            "  Current Learning Rate: 0.000909\n",
            "--- Epoch 132/300 ---\n"
          ]
        },
        {
          "output_type": "stream",
          "name": "stderr",
          "text": [
            "Training: 100%|██████████| 44/44 [00:43<00:00,  1.02it/s]\n",
            "Validating: 100%|██████████| 5/5 [00:02<00:00,  1.81it/s]\n"
          ]
        },
        {
          "output_type": "stream",
          "name": "stdout",
          "text": [
            "Epoch 132 Summary:\n",
            "  Train Loss: 1.3652 | Train Acc: 64.76%\n",
            "  Val Loss:   0.5789 | Val Acc:   83.08%\n",
            "  Current Learning Rate: 0.000904\n",
            "--- Epoch 133/300 ---\n"
          ]
        },
        {
          "output_type": "stream",
          "name": "stderr",
          "text": [
            "Training: 100%|██████████| 44/44 [00:43<00:00,  1.00it/s]\n",
            "Validating: 100%|██████████| 5/5 [00:02<00:00,  1.97it/s]\n"
          ]
        },
        {
          "output_type": "stream",
          "name": "stdout",
          "text": [
            "Epoch 133 Summary:\n",
            "  Train Loss: 1.4007 | Train Acc: 64.61%\n",
            "  Val Loss:   0.6107 | Val Acc:   83.40%\n",
            "  Current Learning Rate: 0.000900\n",
            "✅ New best model saved with accuracy: 83.40%\n",
            "--- Epoch 134/300 ---\n"
          ]
        },
        {
          "output_type": "stream",
          "name": "stderr",
          "text": [
            "Training: 100%|██████████| 44/44 [00:43<00:00,  1.01it/s]\n",
            "Validating: 100%|██████████| 5/5 [00:02<00:00,  1.99it/s]\n"
          ]
        },
        {
          "output_type": "stream",
          "name": "stdout",
          "text": [
            "Epoch 134 Summary:\n",
            "  Train Loss: 1.4959 | Train Acc: 60.42%\n",
            "  Val Loss:   0.6522 | Val Acc:   80.92%\n",
            "  Current Learning Rate: 0.000895\n",
            "--- Epoch 135/300 ---\n"
          ]
        },
        {
          "output_type": "stream",
          "name": "stderr",
          "text": [
            "Training: 100%|██████████| 44/44 [00:43<00:00,  1.01it/s]\n",
            "Validating: 100%|██████████| 5/5 [00:02<00:00,  1.97it/s]\n"
          ]
        },
        {
          "output_type": "stream",
          "name": "stdout",
          "text": [
            "Epoch 135 Summary:\n",
            "  Train Loss: 1.4461 | Train Acc: 61.99%\n",
            "  Val Loss:   0.6199 | Val Acc:   81.86%\n",
            "  Current Learning Rate: 0.000891\n",
            "--- Epoch 136/300 ---\n"
          ]
        },
        {
          "output_type": "stream",
          "name": "stderr",
          "text": [
            "Training: 100%|██████████| 44/44 [00:45<00:00,  1.04s/it]\n",
            "Validating: 100%|██████████| 5/5 [00:02<00:00,  1.74it/s]\n"
          ]
        },
        {
          "output_type": "stream",
          "name": "stdout",
          "text": [
            "Epoch 136 Summary:\n",
            "  Train Loss: 1.4500 | Train Acc: 62.28%\n",
            "  Val Loss:   0.6209 | Val Acc:   82.42%\n",
            "  Current Learning Rate: 0.000886\n",
            "--- Epoch 137/300 ---\n"
          ]
        },
        {
          "output_type": "stream",
          "name": "stderr",
          "text": [
            "Training: 100%|██████████| 44/44 [00:43<00:00,  1.00it/s]\n",
            "Validating: 100%|██████████| 5/5 [00:02<00:00,  1.98it/s]\n"
          ]
        },
        {
          "output_type": "stream",
          "name": "stdout",
          "text": [
            "Epoch 137 Summary:\n",
            "  Train Loss: 1.4322 | Train Acc: 63.17%\n",
            "  Val Loss:   0.5963 | Val Acc:   82.98%\n",
            "  Current Learning Rate: 0.000881\n",
            "--- Epoch 138/300 ---\n"
          ]
        },
        {
          "output_type": "stream",
          "name": "stderr",
          "text": [
            "Training: 100%|██████████| 44/44 [00:43<00:00,  1.01it/s]\n",
            "Validating: 100%|██████████| 5/5 [00:02<00:00,  2.00it/s]\n"
          ]
        },
        {
          "output_type": "stream",
          "name": "stdout",
          "text": [
            "Epoch 138 Summary:\n",
            "  Train Loss: 1.3978 | Train Acc: 64.81%\n",
            "  Val Loss:   0.6186 | Val Acc:   82.60%\n",
            "  Current Learning Rate: 0.000876\n",
            "--- Epoch 139/300 ---\n"
          ]
        },
        {
          "output_type": "stream",
          "name": "stderr",
          "text": [
            "Training: 100%|██████████| 44/44 [00:43<00:00,  1.01it/s]\n",
            "Validating: 100%|██████████| 5/5 [00:02<00:00,  1.98it/s]\n"
          ]
        },
        {
          "output_type": "stream",
          "name": "stdout",
          "text": [
            "Epoch 139 Summary:\n",
            "  Train Loss: 1.4393 | Train Acc: 61.62%\n",
            "  Val Loss:   0.6439 | Val Acc:   81.60%\n",
            "  Current Learning Rate: 0.000871\n",
            "--- Epoch 140/300 ---\n"
          ]
        },
        {
          "output_type": "stream",
          "name": "stderr",
          "text": [
            "Training: 100%|██████████| 44/44 [00:43<00:00,  1.00it/s]\n",
            "Validating: 100%|██████████| 5/5 [00:02<00:00,  1.77it/s]\n"
          ]
        },
        {
          "output_type": "stream",
          "name": "stdout",
          "text": [
            "Epoch 140 Summary:\n",
            "  Train Loss: 1.4401 | Train Acc: 63.16%\n",
            "  Val Loss:   0.6286 | Val Acc:   81.80%\n",
            "  Current Learning Rate: 0.000866\n",
            "--- Epoch 141/300 ---\n"
          ]
        },
        {
          "output_type": "stream",
          "name": "stderr",
          "text": [
            "Training: 100%|██████████| 44/44 [00:43<00:00,  1.02it/s]\n",
            "Validating: 100%|██████████| 5/5 [00:02<00:00,  2.01it/s]\n"
          ]
        },
        {
          "output_type": "stream",
          "name": "stdout",
          "text": [
            "Epoch 141 Summary:\n",
            "  Train Loss: 1.4006 | Train Acc: 64.34%\n",
            "  Val Loss:   0.5858 | Val Acc:   83.46%\n",
            "  Current Learning Rate: 0.000861\n",
            "✅ New best model saved with accuracy: 83.46%\n",
            "--- Epoch 142/300 ---\n"
          ]
        },
        {
          "output_type": "stream",
          "name": "stderr",
          "text": [
            "Training: 100%|██████████| 44/44 [00:43<00:00,  1.01it/s]\n",
            "Validating: 100%|██████████| 5/5 [00:02<00:00,  1.81it/s]\n"
          ]
        },
        {
          "output_type": "stream",
          "name": "stdout",
          "text": [
            "Epoch 142 Summary:\n",
            "  Train Loss: 1.4044 | Train Acc: 63.10%\n",
            "  Val Loss:   0.5714 | Val Acc:   83.06%\n",
            "  Current Learning Rate: 0.000856\n",
            "--- Epoch 143/300 ---\n"
          ]
        },
        {
          "output_type": "stream",
          "name": "stderr",
          "text": [
            "Training: 100%|██████████| 44/44 [00:44<00:00,  1.00s/it]\n",
            "Validating: 100%|██████████| 5/5 [00:02<00:00,  2.01it/s]\n"
          ]
        },
        {
          "output_type": "stream",
          "name": "stdout",
          "text": [
            "Epoch 143 Summary:\n",
            "  Train Loss: 1.3916 | Train Acc: 63.92%\n",
            "  Val Loss:   0.5543 | Val Acc:   83.94%\n",
            "  Current Learning Rate: 0.000851\n",
            "✅ New best model saved with accuracy: 83.94%\n",
            "--- Epoch 144/300 ---\n"
          ]
        },
        {
          "output_type": "stream",
          "name": "stderr",
          "text": [
            "Training: 100%|██████████| 44/44 [00:43<00:00,  1.00it/s]\n",
            "Validating: 100%|██████████| 5/5 [00:02<00:00,  1.78it/s]\n"
          ]
        },
        {
          "output_type": "stream",
          "name": "stdout",
          "text": [
            "Epoch 144 Summary:\n",
            "  Train Loss: 1.4210 | Train Acc: 63.62%\n",
            "  Val Loss:   0.5771 | Val Acc:   84.42%\n",
            "  Current Learning Rate: 0.000845\n",
            "✅ New best model saved with accuracy: 84.42%\n",
            "--- Epoch 145/300 ---\n"
          ]
        },
        {
          "output_type": "stream",
          "name": "stderr",
          "text": [
            "Training: 100%|██████████| 44/44 [00:44<00:00,  1.00s/it]\n",
            "Validating: 100%|██████████| 5/5 [00:02<00:00,  2.01it/s]\n"
          ]
        },
        {
          "output_type": "stream",
          "name": "stdout",
          "text": [
            "Epoch 145 Summary:\n",
            "  Train Loss: 1.4003 | Train Acc: 66.12%\n",
            "  Val Loss:   0.5663 | Val Acc:   83.48%\n",
            "  Current Learning Rate: 0.000840\n",
            "--- Epoch 146/300 ---\n"
          ]
        },
        {
          "output_type": "stream",
          "name": "stderr",
          "text": [
            "Training: 100%|██████████| 44/44 [00:43<00:00,  1.01it/s]\n",
            "Validating: 100%|██████████| 5/5 [00:02<00:00,  2.00it/s]\n"
          ]
        },
        {
          "output_type": "stream",
          "name": "stdout",
          "text": [
            "Epoch 146 Summary:\n",
            "  Train Loss: 1.3392 | Train Acc: 67.92%\n",
            "  Val Loss:   0.6043 | Val Acc:   83.74%\n",
            "  Current Learning Rate: 0.000834\n",
            "--- Epoch 147/300 ---\n"
          ]
        },
        {
          "output_type": "stream",
          "name": "stderr",
          "text": [
            "Training: 100%|██████████| 44/44 [00:43<00:00,  1.01it/s]\n",
            "Validating: 100%|██████████| 5/5 [00:02<00:00,  2.02it/s]\n"
          ]
        },
        {
          "output_type": "stream",
          "name": "stdout",
          "text": [
            "Epoch 147 Summary:\n",
            "  Train Loss: 1.3364 | Train Acc: 68.56%\n",
            "  Val Loss:   0.5621 | Val Acc:   83.94%\n",
            "  Current Learning Rate: 0.000829\n",
            "--- Epoch 148/300 ---\n"
          ]
        },
        {
          "output_type": "stream",
          "name": "stderr",
          "text": [
            "Training: 100%|██████████| 44/44 [00:43<00:00,  1.02it/s]\n",
            "Validating: 100%|██████████| 5/5 [00:02<00:00,  1.94it/s]\n"
          ]
        },
        {
          "output_type": "stream",
          "name": "stdout",
          "text": [
            "Epoch 148 Summary:\n",
            "  Train Loss: 1.3251 | Train Acc: 67.71%\n",
            "  Val Loss:   0.5527 | Val Acc:   84.12%\n",
            "  Current Learning Rate: 0.000823\n",
            "--- Epoch 149/300 ---\n"
          ]
        },
        {
          "output_type": "stream",
          "name": "stderr",
          "text": [
            "Training: 100%|██████████| 44/44 [00:44<00:00,  1.02s/it]\n",
            "Validating: 100%|██████████| 5/5 [00:02<00:00,  1.75it/s]\n"
          ]
        },
        {
          "output_type": "stream",
          "name": "stdout",
          "text": [
            "Epoch 149 Summary:\n",
            "  Train Loss: 1.3990 | Train Acc: 64.97%\n",
            "  Val Loss:   0.5278 | Val Acc:   84.98%\n",
            "  Current Learning Rate: 0.000817\n",
            "✅ New best model saved with accuracy: 84.98%\n",
            "--- Epoch 150/300 ---\n"
          ]
        },
        {
          "output_type": "stream",
          "name": "stderr",
          "text": [
            "Training: 100%|██████████| 44/44 [00:43<00:00,  1.00it/s]\n",
            "Validating: 100%|██████████| 5/5 [00:02<00:00,  2.01it/s]\n"
          ]
        },
        {
          "output_type": "stream",
          "name": "stdout",
          "text": [
            "Epoch 150 Summary:\n",
            "  Train Loss: 1.3936 | Train Acc: 65.98%\n",
            "  Val Loss:   0.5454 | Val Acc:   84.88%\n",
            "  Current Learning Rate: 0.000812\n",
            "--- Epoch 151/300 ---\n"
          ]
        },
        {
          "output_type": "stream",
          "name": "stderr",
          "text": [
            "Training: 100%|██████████| 44/44 [00:42<00:00,  1.04it/s]\n",
            "Validating: 100%|██████████| 5/5 [00:02<00:00,  2.01it/s]\n"
          ]
        },
        {
          "output_type": "stream",
          "name": "stdout",
          "text": [
            "Epoch 151 Summary:\n",
            "  Train Loss: 1.4202 | Train Acc: 65.66%\n",
            "  Val Loss:   0.4941 | Val Acc:   85.74%\n",
            "  Current Learning Rate: 0.000806\n",
            "✅ New best model saved with accuracy: 85.74%\n",
            "--- Epoch 152/300 ---\n"
          ]
        },
        {
          "output_type": "stream",
          "name": "stderr",
          "text": [
            "Training: 100%|██████████| 44/44 [00:43<00:00,  1.02it/s]\n",
            "Validating: 100%|██████████| 5/5 [00:02<00:00,  1.99it/s]\n"
          ]
        },
        {
          "output_type": "stream",
          "name": "stdout",
          "text": [
            "Epoch 152 Summary:\n",
            "  Train Loss: 1.3855 | Train Acc: 65.34%\n",
            "  Val Loss:   0.5481 | Val Acc:   84.90%\n",
            "  Current Learning Rate: 0.000800\n",
            "--- Epoch 153/300 ---\n"
          ]
        },
        {
          "output_type": "stream",
          "name": "stderr",
          "text": [
            "Training: 100%|██████████| 44/44 [00:43<00:00,  1.02it/s]\n",
            "Validating: 100%|██████████| 5/5 [00:02<00:00,  1.81it/s]\n"
          ]
        },
        {
          "output_type": "stream",
          "name": "stdout",
          "text": [
            "Epoch 153 Summary:\n",
            "  Train Loss: 1.3782 | Train Acc: 64.75%\n",
            "  Val Loss:   0.4895 | Val Acc:   85.28%\n",
            "  Current Learning Rate: 0.000794\n",
            "--- Epoch 154/300 ---\n"
          ]
        },
        {
          "output_type": "stream",
          "name": "stderr",
          "text": [
            "Training: 100%|██████████| 44/44 [00:42<00:00,  1.04it/s]\n",
            "Validating: 100%|██████████| 5/5 [00:02<00:00,  1.83it/s]\n"
          ]
        },
        {
          "output_type": "stream",
          "name": "stdout",
          "text": [
            "Epoch 154 Summary:\n",
            "  Train Loss: 1.3666 | Train Acc: 65.94%\n",
            "  Val Loss:   0.5631 | Val Acc:   83.64%\n",
            "  Current Learning Rate: 0.000788\n",
            "--- Epoch 155/300 ---\n"
          ]
        },
        {
          "output_type": "stream",
          "name": "stderr",
          "text": [
            "Training: 100%|██████████| 44/44 [00:44<00:00,  1.01s/it]\n",
            "Validating: 100%|██████████| 5/5 [00:02<00:00,  2.00it/s]\n"
          ]
        },
        {
          "output_type": "stream",
          "name": "stdout",
          "text": [
            "Epoch 155 Summary:\n",
            "  Train Loss: 1.4130 | Train Acc: 64.90%\n",
            "  Val Loss:   0.5205 | Val Acc:   85.50%\n",
            "  Current Learning Rate: 0.000782\n",
            "--- Epoch 156/300 ---\n"
          ]
        },
        {
          "output_type": "stream",
          "name": "stderr",
          "text": [
            "Training: 100%|██████████| 44/44 [00:42<00:00,  1.03it/s]\n",
            "Validating: 100%|██████████| 5/5 [00:02<00:00,  2.00it/s]\n"
          ]
        },
        {
          "output_type": "stream",
          "name": "stdout",
          "text": [
            "Epoch 156 Summary:\n",
            "  Train Loss: 1.3636 | Train Acc: 65.23%\n",
            "  Val Loss:   0.5092 | Val Acc:   84.94%\n",
            "  Current Learning Rate: 0.000775\n",
            "--- Epoch 157/300 ---\n"
          ]
        },
        {
          "output_type": "stream",
          "name": "stderr",
          "text": [
            "Training: 100%|██████████| 44/44 [00:43<00:00,  1.02it/s]\n",
            "Validating: 100%|██████████| 5/5 [00:02<00:00,  1.99it/s]\n"
          ]
        },
        {
          "output_type": "stream",
          "name": "stdout",
          "text": [
            "Epoch 157 Summary:\n",
            "  Train Loss: 1.3423 | Train Acc: 65.74%\n",
            "  Val Loss:   0.5248 | Val Acc:   84.98%\n",
            "  Current Learning Rate: 0.000769\n",
            "--- Epoch 158/300 ---\n"
          ]
        },
        {
          "output_type": "stream",
          "name": "stderr",
          "text": [
            "Training: 100%|██████████| 44/44 [00:42<00:00,  1.03it/s]\n",
            "Validating: 100%|██████████| 5/5 [00:02<00:00,  1.97it/s]\n"
          ]
        },
        {
          "output_type": "stream",
          "name": "stdout",
          "text": [
            "Epoch 158 Summary:\n",
            "  Train Loss: 1.3628 | Train Acc: 67.80%\n",
            "  Val Loss:   0.5203 | Val Acc:   85.88%\n",
            "  Current Learning Rate: 0.000763\n",
            "✅ New best model saved with accuracy: 85.88%\n",
            "--- Epoch 159/300 ---\n"
          ]
        },
        {
          "output_type": "stream",
          "name": "stderr",
          "text": [
            "Training: 100%|██████████| 44/44 [00:42<00:00,  1.03it/s]\n",
            "Validating: 100%|██████████| 5/5 [00:02<00:00,  1.71it/s]\n"
          ]
        },
        {
          "output_type": "stream",
          "name": "stdout",
          "text": [
            "Epoch 159 Summary:\n",
            "  Train Loss: 1.3792 | Train Acc: 66.06%\n",
            "  Val Loss:   0.5506 | Val Acc:   85.22%\n",
            "  Current Learning Rate: 0.000756\n",
            "--- Epoch 160/300 ---\n"
          ]
        },
        {
          "output_type": "stream",
          "name": "stderr",
          "text": [
            "Training: 100%|██████████| 44/44 [00:43<00:00,  1.01it/s]\n",
            "Validating: 100%|██████████| 5/5 [00:02<00:00,  2.01it/s]\n"
          ]
        },
        {
          "output_type": "stream",
          "name": "stdout",
          "text": [
            "Epoch 160 Summary:\n",
            "  Train Loss: 1.2715 | Train Acc: 68.65%\n",
            "  Val Loss:   0.6226 | Val Acc:   82.92%\n",
            "  Current Learning Rate: 0.000750\n",
            "--- Epoch 161/300 ---\n"
          ]
        },
        {
          "output_type": "stream",
          "name": "stderr",
          "text": [
            "Training: 100%|██████████| 44/44 [00:42<00:00,  1.03it/s]\n",
            "Validating: 100%|██████████| 5/5 [00:02<00:00,  1.98it/s]\n"
          ]
        },
        {
          "output_type": "stream",
          "name": "stdout",
          "text": [
            "Epoch 161 Summary:\n",
            "  Train Loss: 1.2796 | Train Acc: 70.02%\n",
            "  Val Loss:   0.4830 | Val Acc:   85.52%\n",
            "  Current Learning Rate: 0.000743\n",
            "--- Epoch 162/300 ---\n"
          ]
        },
        {
          "output_type": "stream",
          "name": "stderr",
          "text": [
            "Training: 100%|██████████| 44/44 [00:44<00:00,  1.01s/it]\n",
            "Validating: 100%|██████████| 5/5 [00:02<00:00,  1.97it/s]\n"
          ]
        },
        {
          "output_type": "stream",
          "name": "stdout",
          "text": [
            "Epoch 162 Summary:\n",
            "  Train Loss: 1.2731 | Train Acc: 69.89%\n",
            "  Val Loss:   0.5294 | Val Acc:   84.62%\n",
            "  Current Learning Rate: 0.000737\n",
            "--- Epoch 163/300 ---\n"
          ]
        },
        {
          "output_type": "stream",
          "name": "stderr",
          "text": [
            "Training: 100%|██████████| 44/44 [00:42<00:00,  1.04it/s]\n",
            "Validating: 100%|██████████| 5/5 [00:02<00:00,  1.70it/s]\n"
          ]
        },
        {
          "output_type": "stream",
          "name": "stdout",
          "text": [
            "Epoch 163 Summary:\n",
            "  Train Loss: 1.3008 | Train Acc: 67.83%\n",
            "  Val Loss:   0.4932 | Val Acc:   86.10%\n",
            "  Current Learning Rate: 0.000730\n",
            "✅ New best model saved with accuracy: 86.10%\n",
            "--- Epoch 164/300 ---\n"
          ]
        },
        {
          "output_type": "stream",
          "name": "stderr",
          "text": [
            "Training: 100%|██████████| 44/44 [00:43<00:00,  1.01it/s]\n",
            "Validating: 100%|██████████| 5/5 [00:02<00:00,  2.00it/s]\n"
          ]
        },
        {
          "output_type": "stream",
          "name": "stdout",
          "text": [
            "Epoch 164 Summary:\n",
            "  Train Loss: 1.3312 | Train Acc: 67.47%\n",
            "  Val Loss:   0.5148 | Val Acc:   85.84%\n",
            "  Current Learning Rate: 0.000724\n",
            "--- Epoch 165/300 ---\n"
          ]
        },
        {
          "output_type": "stream",
          "name": "stderr",
          "text": [
            "Training: 100%|██████████| 44/44 [00:42<00:00,  1.03it/s]\n",
            "Validating: 100%|██████████| 5/5 [00:02<00:00,  1.99it/s]\n"
          ]
        },
        {
          "output_type": "stream",
          "name": "stdout",
          "text": [
            "Epoch 165 Summary:\n",
            "  Train Loss: 1.2384 | Train Acc: 71.69%\n",
            "  Val Loss:   0.5216 | Val Acc:   85.70%\n",
            "  Current Learning Rate: 0.000717\n",
            "--- Epoch 166/300 ---\n"
          ]
        },
        {
          "output_type": "stream",
          "name": "stderr",
          "text": [
            "Training: 100%|██████████| 44/44 [00:42<00:00,  1.03it/s]\n",
            "Validating: 100%|██████████| 5/5 [00:02<00:00,  2.01it/s]\n"
          ]
        },
        {
          "output_type": "stream",
          "name": "stdout",
          "text": [
            "Epoch 166 Summary:\n",
            "  Train Loss: 1.4099 | Train Acc: 65.52%\n",
            "  Val Loss:   0.5442 | Val Acc:   85.42%\n",
            "  Current Learning Rate: 0.000710\n",
            "--- Epoch 167/300 ---\n"
          ]
        },
        {
          "output_type": "stream",
          "name": "stderr",
          "text": [
            "Training: 100%|██████████| 44/44 [00:42<00:00,  1.03it/s]\n",
            "Validating: 100%|██████████| 5/5 [00:02<00:00,  1.96it/s]\n"
          ]
        },
        {
          "output_type": "stream",
          "name": "stdout",
          "text": [
            "Epoch 167 Summary:\n",
            "  Train Loss: 1.3755 | Train Acc: 64.60%\n",
            "  Val Loss:   0.4910 | Val Acc:   86.74%\n",
            "  Current Learning Rate: 0.000703\n",
            "✅ New best model saved with accuracy: 86.74%\n",
            "--- Epoch 168/300 ---\n"
          ]
        },
        {
          "output_type": "stream",
          "name": "stderr",
          "text": [
            "Training: 100%|██████████| 44/44 [00:44<00:00,  1.02s/it]\n",
            "Validating: 100%|██████████| 5/5 [00:02<00:00,  1.74it/s]\n"
          ]
        },
        {
          "output_type": "stream",
          "name": "stdout",
          "text": [
            "Epoch 168 Summary:\n",
            "  Train Loss: 1.3635 | Train Acc: 67.04%\n",
            "  Val Loss:   0.5457 | Val Acc:   85.18%\n",
            "  Current Learning Rate: 0.000696\n",
            "--- Epoch 169/300 ---\n"
          ]
        },
        {
          "output_type": "stream",
          "name": "stderr",
          "text": [
            "Training: 100%|██████████| 44/44 [00:43<00:00,  1.02it/s]\n",
            "Validating: 100%|██████████| 5/5 [00:02<00:00,  2.00it/s]\n"
          ]
        },
        {
          "output_type": "stream",
          "name": "stdout",
          "text": [
            "Epoch 169 Summary:\n",
            "  Train Loss: 1.2994 | Train Acc: 71.22%\n",
            "  Val Loss:   0.4764 | Val Acc:   86.30%\n",
            "  Current Learning Rate: 0.000689\n",
            "--- Epoch 170/300 ---\n"
          ]
        },
        {
          "output_type": "stream",
          "name": "stderr",
          "text": [
            "Training: 100%|██████████| 44/44 [00:42<00:00,  1.03it/s]\n",
            "Validating: 100%|██████████| 5/5 [00:02<00:00,  2.01it/s]\n"
          ]
        },
        {
          "output_type": "stream",
          "name": "stdout",
          "text": [
            "Epoch 170 Summary:\n",
            "  Train Loss: 1.2811 | Train Acc: 71.71%\n",
            "  Val Loss:   0.4598 | Val Acc:   87.14%\n",
            "  Current Learning Rate: 0.000683\n",
            "✅ New best model saved with accuracy: 87.14%\n",
            "--- Epoch 171/300 ---\n"
          ]
        },
        {
          "output_type": "stream",
          "name": "stderr",
          "text": [
            "Training: 100%|██████████| 44/44 [00:42<00:00,  1.04it/s]\n",
            "Validating: 100%|██████████| 5/5 [00:02<00:00,  2.00it/s]\n"
          ]
        },
        {
          "output_type": "stream",
          "name": "stdout",
          "text": [
            "Epoch 171 Summary:\n",
            "  Train Loss: 1.3022 | Train Acc: 68.83%\n",
            "  Val Loss:   0.4704 | Val Acc:   87.02%\n",
            "  Current Learning Rate: 0.000676\n",
            "--- Epoch 172/300 ---\n"
          ]
        },
        {
          "output_type": "stream",
          "name": "stderr",
          "text": [
            "Training: 100%|██████████| 44/44 [00:41<00:00,  1.06it/s]\n",
            "Validating: 100%|██████████| 5/5 [00:02<00:00,  2.02it/s]\n"
          ]
        },
        {
          "output_type": "stream",
          "name": "stdout",
          "text": [
            "Epoch 172 Summary:\n",
            "  Train Loss: 1.2324 | Train Acc: 71.25%\n",
            "  Val Loss:   0.4717 | Val Acc:   86.68%\n",
            "  Current Learning Rate: 0.000669\n",
            "--- Epoch 173/300 ---\n"
          ]
        },
        {
          "output_type": "stream",
          "name": "stderr",
          "text": [
            "Training: 100%|██████████| 44/44 [00:42<00:00,  1.04it/s]\n",
            "Validating: 100%|██████████| 5/5 [00:02<00:00,  2.00it/s]\n"
          ]
        },
        {
          "output_type": "stream",
          "name": "stdout",
          "text": [
            "Epoch 173 Summary:\n",
            "  Train Loss: 1.3281 | Train Acc: 70.35%\n",
            "  Val Loss:   0.4784 | Val Acc:   87.26%\n",
            "  Current Learning Rate: 0.000661\n",
            "✅ New best model saved with accuracy: 87.26%\n",
            "--- Epoch 174/300 ---\n"
          ]
        },
        {
          "output_type": "stream",
          "name": "stderr",
          "text": [
            "Training: 100%|██████████| 44/44 [00:42<00:00,  1.03it/s]\n",
            "Validating: 100%|██████████| 5/5 [00:02<00:00,  1.78it/s]\n"
          ]
        },
        {
          "output_type": "stream",
          "name": "stdout",
          "text": [
            "Epoch 174 Summary:\n",
            "  Train Loss: 1.2783 | Train Acc: 69.30%\n",
            "  Val Loss:   0.4317 | Val Acc:   87.48%\n",
            "  Current Learning Rate: 0.000654\n",
            "✅ New best model saved with accuracy: 87.48%\n",
            "--- Epoch 175/300 ---\n"
          ]
        },
        {
          "output_type": "stream",
          "name": "stderr",
          "text": [
            "Training: 100%|██████████| 44/44 [00:44<00:00,  1.01s/it]\n",
            "Validating: 100%|██████████| 5/5 [00:02<00:00,  2.00it/s]\n"
          ]
        },
        {
          "output_type": "stream",
          "name": "stdout",
          "text": [
            "Epoch 175 Summary:\n",
            "  Train Loss: 1.3069 | Train Acc: 68.38%\n",
            "  Val Loss:   0.4737 | Val Acc:   86.50%\n",
            "  Current Learning Rate: 0.000647\n",
            "--- Epoch 176/300 ---\n"
          ]
        },
        {
          "output_type": "stream",
          "name": "stderr",
          "text": [
            "Training: 100%|██████████| 44/44 [00:42<00:00,  1.04it/s]\n",
            "Validating: 100%|██████████| 5/5 [00:02<00:00,  1.99it/s]\n"
          ]
        },
        {
          "output_type": "stream",
          "name": "stdout",
          "text": [
            "Epoch 176 Summary:\n",
            "  Train Loss: 1.3079 | Train Acc: 69.16%\n",
            "  Val Loss:   0.4614 | Val Acc:   86.54%\n",
            "  Current Learning Rate: 0.000640\n",
            "--- Epoch 177/300 ---\n"
          ]
        },
        {
          "output_type": "stream",
          "name": "stderr",
          "text": [
            "Training: 100%|██████████| 44/44 [00:42<00:00,  1.03it/s]\n",
            "Validating: 100%|██████████| 5/5 [00:02<00:00,  2.00it/s]\n"
          ]
        },
        {
          "output_type": "stream",
          "name": "stdout",
          "text": [
            "Epoch 177 Summary:\n",
            "  Train Loss: 1.2519 | Train Acc: 73.25%\n",
            "  Val Loss:   0.4582 | Val Acc:   86.44%\n",
            "  Current Learning Rate: 0.000633\n",
            "--- Epoch 178/300 ---\n"
          ]
        },
        {
          "output_type": "stream",
          "name": "stderr",
          "text": [
            "Training: 100%|██████████| 44/44 [00:41<00:00,  1.05it/s]\n",
            "Validating: 100%|██████████| 5/5 [00:02<00:00,  1.99it/s]\n"
          ]
        },
        {
          "output_type": "stream",
          "name": "stdout",
          "text": [
            "Epoch 178 Summary:\n",
            "  Train Loss: 1.3009 | Train Acc: 70.24%\n",
            "  Val Loss:   0.4926 | Val Acc:   87.64%\n",
            "  Current Learning Rate: 0.000626\n",
            "✅ New best model saved with accuracy: 87.64%\n",
            "--- Epoch 179/300 ---\n"
          ]
        },
        {
          "output_type": "stream",
          "name": "stderr",
          "text": [
            "Training: 100%|██████████| 44/44 [00:42<00:00,  1.04it/s]\n",
            "Validating: 100%|██████████| 5/5 [00:02<00:00,  1.75it/s]\n"
          ]
        },
        {
          "output_type": "stream",
          "name": "stdout",
          "text": [
            "Epoch 179 Summary:\n",
            "  Train Loss: 1.3397 | Train Acc: 67.44%\n",
            "  Val Loss:   0.4946 | Val Acc:   86.44%\n",
            "  Current Learning Rate: 0.000618\n",
            "--- Epoch 180/300 ---\n"
          ]
        },
        {
          "output_type": "stream",
          "name": "stderr",
          "text": [
            "Training: 100%|██████████| 44/44 [00:41<00:00,  1.05it/s]\n",
            "Validating: 100%|██████████| 5/5 [00:02<00:00,  1.73it/s]\n"
          ]
        },
        {
          "output_type": "stream",
          "name": "stdout",
          "text": [
            "Epoch 180 Summary:\n",
            "  Train Loss: 1.2342 | Train Acc: 70.84%\n",
            "  Val Loss:   0.4603 | Val Acc:   87.30%\n",
            "  Current Learning Rate: 0.000611\n",
            "--- Epoch 181/300 ---\n"
          ]
        },
        {
          "output_type": "stream",
          "name": "stderr",
          "text": [
            "Training: 100%|██████████| 44/44 [00:43<00:00,  1.01it/s]\n",
            "Validating: 100%|██████████| 5/5 [00:02<00:00,  2.02it/s]\n"
          ]
        },
        {
          "output_type": "stream",
          "name": "stdout",
          "text": [
            "Epoch 181 Summary:\n",
            "  Train Loss: 1.2123 | Train Acc: 72.53%\n",
            "  Val Loss:   0.4883 | Val Acc:   86.96%\n",
            "  Current Learning Rate: 0.000604\n",
            "--- Epoch 182/300 ---\n"
          ]
        },
        {
          "output_type": "stream",
          "name": "stderr",
          "text": [
            "Training: 100%|██████████| 44/44 [00:43<00:00,  1.02it/s]\n",
            "Validating: 100%|██████████| 5/5 [00:02<00:00,  1.99it/s]\n"
          ]
        },
        {
          "output_type": "stream",
          "name": "stdout",
          "text": [
            "Epoch 182 Summary:\n",
            "  Train Loss: 1.3447 | Train Acc: 69.53%\n",
            "  Val Loss:   0.4739 | Val Acc:   86.94%\n",
            "  Current Learning Rate: 0.000596\n",
            "--- Epoch 183/300 ---\n"
          ]
        },
        {
          "output_type": "stream",
          "name": "stderr",
          "text": [
            "Training: 100%|██████████| 44/44 [00:42<00:00,  1.02it/s]\n",
            "Validating: 100%|██████████| 5/5 [00:02<00:00,  1.97it/s]\n"
          ]
        },
        {
          "output_type": "stream",
          "name": "stdout",
          "text": [
            "Epoch 183 Summary:\n",
            "  Train Loss: 1.2994 | Train Acc: 69.16%\n",
            "  Val Loss:   0.4670 | Val Acc:   87.42%\n",
            "  Current Learning Rate: 0.000589\n",
            "--- Epoch 184/300 ---\n"
          ]
        },
        {
          "output_type": "stream",
          "name": "stderr",
          "text": [
            "Training: 100%|██████████| 44/44 [00:42<00:00,  1.04it/s]\n",
            "Validating: 100%|██████████| 5/5 [00:02<00:00,  1.78it/s]\n"
          ]
        },
        {
          "output_type": "stream",
          "name": "stdout",
          "text": [
            "Epoch 184 Summary:\n",
            "  Train Loss: 1.2745 | Train Acc: 69.99%\n",
            "  Val Loss:   0.4713 | Val Acc:   87.26%\n",
            "  Current Learning Rate: 0.000582\n",
            "--- Epoch 185/300 ---\n"
          ]
        },
        {
          "output_type": "stream",
          "name": "stderr",
          "text": [
            "Training: 100%|██████████| 44/44 [00:42<00:00,  1.04it/s]\n",
            "Validating: 100%|██████████| 5/5 [00:02<00:00,  2.00it/s]\n"
          ]
        },
        {
          "output_type": "stream",
          "name": "stdout",
          "text": [
            "Epoch 185 Summary:\n",
            "  Train Loss: 1.2112 | Train Acc: 74.49%\n",
            "  Val Loss:   0.4542 | Val Acc:   87.24%\n",
            "  Current Learning Rate: 0.000574\n",
            "--- Epoch 186/300 ---\n"
          ]
        },
        {
          "output_type": "stream",
          "name": "stderr",
          "text": [
            "Training: 100%|██████████| 44/44 [00:42<00:00,  1.04it/s]\n",
            "Validating: 100%|██████████| 5/5 [00:02<00:00,  2.00it/s]\n"
          ]
        },
        {
          "output_type": "stream",
          "name": "stdout",
          "text": [
            "Epoch 186 Summary:\n",
            "  Train Loss: 1.2841 | Train Acc: 69.90%\n",
            "  Val Loss:   0.4494 | Val Acc:   87.62%\n",
            "  Current Learning Rate: 0.000567\n",
            "--- Epoch 187/300 ---\n"
          ]
        },
        {
          "output_type": "stream",
          "name": "stderr",
          "text": [
            "Training: 100%|██████████| 44/44 [00:42<00:00,  1.02it/s]\n",
            "Validating: 100%|██████████| 5/5 [00:02<00:00,  2.00it/s]\n"
          ]
        },
        {
          "output_type": "stream",
          "name": "stdout",
          "text": [
            "Epoch 187 Summary:\n",
            "  Train Loss: 1.2974 | Train Acc: 70.37%\n",
            "  Val Loss:   0.4470 | Val Acc:   87.76%\n",
            "  Current Learning Rate: 0.000560\n",
            "✅ New best model saved with accuracy: 87.76%\n",
            "--- Epoch 188/300 ---\n"
          ]
        },
        {
          "output_type": "stream",
          "name": "stderr",
          "text": [
            "Training: 100%|██████████| 44/44 [00:43<00:00,  1.01it/s]\n",
            "Validating: 100%|██████████| 5/5 [00:02<00:00,  2.02it/s]\n"
          ]
        },
        {
          "output_type": "stream",
          "name": "stdout",
          "text": [
            "Epoch 188 Summary:\n",
            "  Train Loss: 1.2450 | Train Acc: 69.93%\n",
            "  Val Loss:   0.4575 | Val Acc:   86.74%\n",
            "  Current Learning Rate: 0.000552\n",
            "--- Epoch 189/300 ---\n"
          ]
        },
        {
          "output_type": "stream",
          "name": "stderr",
          "text": [
            "Training: 100%|██████████| 44/44 [00:42<00:00,  1.04it/s]\n",
            "Validating: 100%|██████████| 5/5 [00:02<00:00,  1.96it/s]\n"
          ]
        },
        {
          "output_type": "stream",
          "name": "stdout",
          "text": [
            "Epoch 189 Summary:\n",
            "  Train Loss: 1.3385 | Train Acc: 69.53%\n",
            "  Val Loss:   0.4905 | Val Acc:   86.84%\n",
            "  Current Learning Rate: 0.000545\n",
            "--- Epoch 190/300 ---\n"
          ]
        },
        {
          "output_type": "stream",
          "name": "stderr",
          "text": [
            "Training: 100%|██████████| 44/44 [00:41<00:00,  1.05it/s]\n",
            "Validating: 100%|██████████| 5/5 [00:02<00:00,  1.78it/s]\n"
          ]
        },
        {
          "output_type": "stream",
          "name": "stdout",
          "text": [
            "Epoch 190 Summary:\n",
            "  Train Loss: 1.2772 | Train Acc: 71.71%\n",
            "  Val Loss:   0.4621 | Val Acc:   88.56%\n",
            "  Current Learning Rate: 0.000537\n",
            "✅ New best model saved with accuracy: 88.56%\n",
            "--- Epoch 191/300 ---\n"
          ]
        },
        {
          "output_type": "stream",
          "name": "stderr",
          "text": [
            "Training: 100%|██████████| 44/44 [00:41<00:00,  1.05it/s]\n",
            "Validating: 100%|██████████| 5/5 [00:02<00:00,  2.01it/s]\n"
          ]
        },
        {
          "output_type": "stream",
          "name": "stdout",
          "text": [
            "Epoch 191 Summary:\n",
            "  Train Loss: 1.1966 | Train Acc: 74.13%\n",
            "  Val Loss:   0.4216 | Val Acc:   88.38%\n",
            "  Current Learning Rate: 0.000530\n",
            "--- Epoch 192/300 ---\n"
          ]
        },
        {
          "output_type": "stream",
          "name": "stderr",
          "text": [
            "Training: 100%|██████████| 44/44 [00:42<00:00,  1.04it/s]\n",
            "Validating: 100%|██████████| 5/5 [00:02<00:00,  2.02it/s]\n"
          ]
        },
        {
          "output_type": "stream",
          "name": "stdout",
          "text": [
            "Epoch 192 Summary:\n",
            "  Train Loss: 1.2139 | Train Acc: 71.65%\n",
            "  Val Loss:   0.4264 | Val Acc:   87.90%\n",
            "  Current Learning Rate: 0.000522\n",
            "--- Epoch 193/300 ---\n"
          ]
        },
        {
          "output_type": "stream",
          "name": "stderr",
          "text": [
            "Training: 100%|██████████| 44/44 [00:42<00:00,  1.05it/s]\n",
            "Validating: 100%|██████████| 5/5 [00:02<00:00,  1.94it/s]\n"
          ]
        },
        {
          "output_type": "stream",
          "name": "stdout",
          "text": [
            "Epoch 193 Summary:\n",
            "  Train Loss: 1.2546 | Train Acc: 71.85%\n",
            "  Val Loss:   0.4249 | Val Acc:   88.50%\n",
            "  Current Learning Rate: 0.000515\n",
            "--- Epoch 194/300 ---\n"
          ]
        },
        {
          "output_type": "stream",
          "name": "stderr",
          "text": [
            "Training: 100%|██████████| 44/44 [00:45<00:00,  1.03s/it]\n",
            "Validating: 100%|██████████| 5/5 [00:02<00:00,  1.99it/s]\n"
          ]
        },
        {
          "output_type": "stream",
          "name": "stdout",
          "text": [
            "Epoch 194 Summary:\n",
            "  Train Loss: 1.2226 | Train Acc: 74.42%\n",
            "  Val Loss:   0.4628 | Val Acc:   87.34%\n",
            "  Current Learning Rate: 0.000507\n",
            "--- Epoch 195/300 ---\n"
          ]
        },
        {
          "output_type": "stream",
          "name": "stderr",
          "text": [
            "Training: 100%|██████████| 44/44 [00:43<00:00,  1.02it/s]\n",
            "Validating: 100%|██████████| 5/5 [00:02<00:00,  1.97it/s]\n"
          ]
        },
        {
          "output_type": "stream",
          "name": "stdout",
          "text": [
            "Epoch 195 Summary:\n",
            "  Train Loss: 1.2168 | Train Acc: 73.20%\n",
            "  Val Loss:   0.4500 | Val Acc:   87.04%\n",
            "  Current Learning Rate: 0.000500\n",
            "--- Epoch 196/300 ---\n"
          ]
        },
        {
          "output_type": "stream",
          "name": "stderr",
          "text": [
            "Training: 100%|██████████| 44/44 [00:43<00:00,  1.02it/s]\n",
            "Validating: 100%|██████████| 5/5 [00:02<00:00,  1.78it/s]\n"
          ]
        },
        {
          "output_type": "stream",
          "name": "stdout",
          "text": [
            "Epoch 196 Summary:\n",
            "  Train Loss: 1.1605 | Train Acc: 75.99%\n",
            "  Val Loss:   0.4067 | Val Acc:   88.16%\n",
            "  Current Learning Rate: 0.000492\n",
            "--- Epoch 197/300 ---\n"
          ]
        },
        {
          "output_type": "stream",
          "name": "stderr",
          "text": [
            "Training: 100%|██████████| 44/44 [00:43<00:00,  1.02it/s]\n",
            "Validating: 100%|██████████| 5/5 [00:02<00:00,  1.99it/s]\n"
          ]
        },
        {
          "output_type": "stream",
          "name": "stdout",
          "text": [
            "Epoch 197 Summary:\n",
            "  Train Loss: 1.2822 | Train Acc: 69.34%\n",
            "  Val Loss:   0.4446 | Val Acc:   88.90%\n",
            "  Current Learning Rate: 0.000485\n",
            "✅ New best model saved with accuracy: 88.90%\n",
            "--- Epoch 198/300 ---\n"
          ]
        },
        {
          "output_type": "stream",
          "name": "stderr",
          "text": [
            "Training: 100%|██████████| 44/44 [00:43<00:00,  1.02it/s]\n",
            "Validating: 100%|██████████| 5/5 [00:02<00:00,  1.96it/s]\n"
          ]
        },
        {
          "output_type": "stream",
          "name": "stdout",
          "text": [
            "Epoch 198 Summary:\n",
            "  Train Loss: 1.1303 | Train Acc: 75.26%\n",
            "  Val Loss:   0.4051 | Val Acc:   88.74%\n",
            "  Current Learning Rate: 0.000477\n",
            "--- Epoch 199/300 ---\n"
          ]
        },
        {
          "output_type": "stream",
          "name": "stderr",
          "text": [
            "Training: 100%|██████████| 44/44 [00:42<00:00,  1.02it/s]\n",
            "Validating: 100%|██████████| 5/5 [00:02<00:00,  2.01it/s]\n"
          ]
        },
        {
          "output_type": "stream",
          "name": "stdout",
          "text": [
            "Epoch 199 Summary:\n",
            "  Train Loss: 1.1946 | Train Acc: 73.27%\n",
            "  Val Loss:   0.4093 | Val Acc:   88.26%\n",
            "  Current Learning Rate: 0.000470\n",
            "--- Epoch 200/300 ---\n"
          ]
        },
        {
          "output_type": "stream",
          "name": "stderr",
          "text": [
            "Training: 100%|██████████| 44/44 [00:44<00:00,  1.01s/it]\n",
            "Validating: 100%|██████████| 5/5 [00:02<00:00,  1.95it/s]\n"
          ]
        },
        {
          "output_type": "stream",
          "name": "stdout",
          "text": [
            "Epoch 200 Summary:\n",
            "  Train Loss: 1.2656 | Train Acc: 71.78%\n",
            "  Val Loss:   0.4130 | Val Acc:   89.18%\n",
            "  Current Learning Rate: 0.000462\n",
            "✅ New best model saved with accuracy: 89.18%\n",
            "--- Epoch 201/300 ---\n"
          ]
        },
        {
          "output_type": "stream",
          "name": "stderr",
          "text": [
            "Training: 100%|██████████| 44/44 [00:42<00:00,  1.03it/s]\n",
            "Validating: 100%|██████████| 5/5 [00:02<00:00,  1.74it/s]\n"
          ]
        },
        {
          "output_type": "stream",
          "name": "stdout",
          "text": [
            "Epoch 201 Summary:\n",
            "  Train Loss: 1.3316 | Train Acc: 69.52%\n",
            "  Val Loss:   0.4534 | Val Acc:   87.86%\n",
            "  Current Learning Rate: 0.000455\n",
            "--- Epoch 202/300 ---\n"
          ]
        },
        {
          "output_type": "stream",
          "name": "stderr",
          "text": [
            "Training: 100%|██████████| 44/44 [00:42<00:00,  1.03it/s]\n",
            "Validating: 100%|██████████| 5/5 [00:02<00:00,  2.01it/s]\n"
          ]
        },
        {
          "output_type": "stream",
          "name": "stdout",
          "text": [
            "Epoch 202 Summary:\n",
            "  Train Loss: 1.2628 | Train Acc: 70.58%\n",
            "  Val Loss:   0.4447 | Val Acc:   88.20%\n",
            "  Current Learning Rate: 0.000448\n",
            "--- Epoch 203/300 ---\n"
          ]
        },
        {
          "output_type": "stream",
          "name": "stderr",
          "text": [
            "Training: 100%|██████████| 44/44 [00:42<00:00,  1.03it/s]\n",
            "Validating: 100%|██████████| 5/5 [00:02<00:00,  1.99it/s]\n"
          ]
        },
        {
          "output_type": "stream",
          "name": "stdout",
          "text": [
            "Epoch 203 Summary:\n",
            "  Train Loss: 1.2254 | Train Acc: 72.86%\n",
            "  Val Loss:   0.4526 | Val Acc:   88.06%\n",
            "  Current Learning Rate: 0.000440\n",
            "--- Epoch 204/300 ---\n"
          ]
        },
        {
          "output_type": "stream",
          "name": "stderr",
          "text": [
            "Training: 100%|██████████| 44/44 [00:42<00:00,  1.03it/s]\n",
            "Validating: 100%|██████████| 5/5 [00:02<00:00,  1.99it/s]\n"
          ]
        },
        {
          "output_type": "stream",
          "name": "stdout",
          "text": [
            "Epoch 204 Summary:\n",
            "  Train Loss: 1.2454 | Train Acc: 70.54%\n",
            "  Val Loss:   0.4291 | Val Acc:   88.50%\n",
            "  Current Learning Rate: 0.000433\n",
            "--- Epoch 205/300 ---\n"
          ]
        },
        {
          "output_type": "stream",
          "name": "stderr",
          "text": [
            "Training: 100%|██████████| 44/44 [00:42<00:00,  1.03it/s]\n",
            "Validating: 100%|██████████| 5/5 [00:02<00:00,  1.98it/s]\n"
          ]
        },
        {
          "output_type": "stream",
          "name": "stdout",
          "text": [
            "Epoch 205 Summary:\n",
            "  Train Loss: 1.2603 | Train Acc: 70.92%\n",
            "  Val Loss:   0.4030 | Val Acc:   88.82%\n",
            "  Current Learning Rate: 0.000425\n",
            "--- Epoch 206/300 ---\n"
          ]
        },
        {
          "output_type": "stream",
          "name": "stderr",
          "text": [
            "Training: 100%|██████████| 44/44 [00:42<00:00,  1.03it/s]\n",
            "Validating: 100%|██████████| 5/5 [00:03<00:00,  1.61it/s]\n"
          ]
        },
        {
          "output_type": "stream",
          "name": "stdout",
          "text": [
            "Epoch 206 Summary:\n",
            "  Train Loss: 1.2208 | Train Acc: 72.94%\n",
            "  Val Loss:   0.4341 | Val Acc:   88.04%\n",
            "  Current Learning Rate: 0.000418\n",
            "--- Epoch 207/300 ---\n"
          ]
        },
        {
          "output_type": "stream",
          "name": "stderr",
          "text": [
            "Training: 100%|██████████| 44/44 [00:42<00:00,  1.02it/s]\n",
            "Validating: 100%|██████████| 5/5 [00:02<00:00,  1.78it/s]\n"
          ]
        },
        {
          "output_type": "stream",
          "name": "stdout",
          "text": [
            "Epoch 207 Summary:\n",
            "  Train Loss: 1.2293 | Train Acc: 70.04%\n",
            "  Val Loss:   0.4700 | Val Acc:   87.50%\n",
            "  Current Learning Rate: 0.000411\n",
            "--- Epoch 208/300 ---\n"
          ]
        },
        {
          "output_type": "stream",
          "name": "stderr",
          "text": [
            "Training: 100%|██████████| 44/44 [00:42<00:00,  1.02it/s]\n",
            "Validating: 100%|██████████| 5/5 [00:02<00:00,  2.00it/s]\n"
          ]
        },
        {
          "output_type": "stream",
          "name": "stdout",
          "text": [
            "Epoch 208 Summary:\n",
            "  Train Loss: 1.2449 | Train Acc: 74.03%\n",
            "  Val Loss:   0.4453 | Val Acc:   88.00%\n",
            "  Current Learning Rate: 0.000403\n",
            "--- Epoch 209/300 ---\n"
          ]
        },
        {
          "output_type": "stream",
          "name": "stderr",
          "text": [
            "Training: 100%|██████████| 44/44 [00:42<00:00,  1.03it/s]\n",
            "Validating: 100%|██████████| 5/5 [00:02<00:00,  1.99it/s]\n"
          ]
        },
        {
          "output_type": "stream",
          "name": "stdout",
          "text": [
            "Epoch 209 Summary:\n",
            "  Train Loss: 1.2369 | Train Acc: 72.93%\n",
            "  Val Loss:   0.4193 | Val Acc:   88.88%\n",
            "  Current Learning Rate: 0.000396\n",
            "--- Epoch 210/300 ---\n"
          ]
        },
        {
          "output_type": "stream",
          "name": "stderr",
          "text": [
            "Training: 100%|██████████| 44/44 [00:42<00:00,  1.03it/s]\n",
            "Validating: 100%|██████████| 5/5 [00:02<00:00,  2.01it/s]\n"
          ]
        },
        {
          "output_type": "stream",
          "name": "stdout",
          "text": [
            "Epoch 210 Summary:\n",
            "  Train Loss: 1.2993 | Train Acc: 70.62%\n",
            "  Val Loss:   0.4296 | Val Acc:   88.68%\n",
            "  Current Learning Rate: 0.000389\n",
            "--- Epoch 211/300 ---\n"
          ]
        },
        {
          "output_type": "stream",
          "name": "stderr",
          "text": [
            "Training: 100%|██████████| 44/44 [00:42<00:00,  1.03it/s]\n",
            "Validating: 100%|██████████| 5/5 [00:02<00:00,  1.98it/s]\n"
          ]
        },
        {
          "output_type": "stream",
          "name": "stdout",
          "text": [
            "Epoch 211 Summary:\n",
            "  Train Loss: 1.2656 | Train Acc: 72.07%\n",
            "  Val Loss:   0.4161 | Val Acc:   89.06%\n",
            "  Current Learning Rate: 0.000381\n",
            "--- Epoch 212/300 ---\n"
          ]
        },
        {
          "output_type": "stream",
          "name": "stderr",
          "text": [
            "Training: 100%|██████████| 44/44 [00:43<00:00,  1.02it/s]\n",
            "Validating: 100%|██████████| 5/5 [00:02<00:00,  1.82it/s]\n"
          ]
        },
        {
          "output_type": "stream",
          "name": "stdout",
          "text": [
            "Epoch 212 Summary:\n",
            "  Train Loss: 1.1947 | Train Acc: 73.00%\n",
            "  Val Loss:   0.4224 | Val Acc:   88.44%\n",
            "  Current Learning Rate: 0.000374\n",
            "--- Epoch 213/300 ---\n"
          ]
        },
        {
          "output_type": "stream",
          "name": "stderr",
          "text": [
            "Training: 100%|██████████| 44/44 [00:44<00:00,  1.01s/it]\n",
            "Validating: 100%|██████████| 5/5 [00:02<00:00,  2.03it/s]\n"
          ]
        },
        {
          "output_type": "stream",
          "name": "stdout",
          "text": [
            "Epoch 213 Summary:\n",
            "  Train Loss: 1.2134 | Train Acc: 74.40%\n",
            "  Val Loss:   0.4241 | Val Acc:   88.06%\n",
            "  Current Learning Rate: 0.000367\n",
            "--- Epoch 214/300 ---\n"
          ]
        },
        {
          "output_type": "stream",
          "name": "stderr",
          "text": [
            "Training: 100%|██████████| 44/44 [00:42<00:00,  1.04it/s]\n",
            "Validating: 100%|██████████| 5/5 [00:02<00:00,  1.99it/s]\n"
          ]
        },
        {
          "output_type": "stream",
          "name": "stdout",
          "text": [
            "Epoch 214 Summary:\n",
            "  Train Loss: 1.2655 | Train Acc: 70.27%\n",
            "  Val Loss:   0.4012 | Val Acc:   89.02%\n",
            "  Current Learning Rate: 0.000360\n",
            "--- Epoch 215/300 ---\n"
          ]
        },
        {
          "output_type": "stream",
          "name": "stderr",
          "text": [
            "Training: 100%|██████████| 44/44 [00:42<00:00,  1.04it/s]\n",
            "Validating: 100%|██████████| 5/5 [00:02<00:00,  2.02it/s]\n"
          ]
        },
        {
          "output_type": "stream",
          "name": "stdout",
          "text": [
            "Epoch 215 Summary:\n",
            "  Train Loss: 1.2573 | Train Acc: 70.19%\n",
            "  Val Loss:   0.3980 | Val Acc:   89.22%\n",
            "  Current Learning Rate: 0.000352\n",
            "✅ New best model saved with accuracy: 89.22%\n",
            "--- Epoch 216/300 ---\n"
          ]
        },
        {
          "output_type": "stream",
          "name": "stderr",
          "text": [
            "Training: 100%|██████████| 44/44 [00:43<00:00,  1.02it/s]\n",
            "Validating: 100%|██████████| 5/5 [00:02<00:00,  1.98it/s]\n"
          ]
        },
        {
          "output_type": "stream",
          "name": "stdout",
          "text": [
            "Epoch 216 Summary:\n",
            "  Train Loss: 1.2548 | Train Acc: 72.74%\n",
            "  Val Loss:   0.4267 | Val Acc:   88.44%\n",
            "  Current Learning Rate: 0.000345\n",
            "--- Epoch 217/300 ---\n"
          ]
        },
        {
          "output_type": "stream",
          "name": "stderr",
          "text": [
            "Training: 100%|██████████| 44/44 [00:41<00:00,  1.05it/s]\n",
            "Validating: 100%|██████████| 5/5 [00:02<00:00,  1.77it/s]\n"
          ]
        },
        {
          "output_type": "stream",
          "name": "stdout",
          "text": [
            "Epoch 217 Summary:\n",
            "  Train Loss: 1.1827 | Train Acc: 76.22%\n",
            "  Val Loss:   0.4052 | Val Acc:   89.38%\n",
            "  Current Learning Rate: 0.000338\n",
            "✅ New best model saved with accuracy: 89.38%\n",
            "--- Epoch 218/300 ---\n"
          ]
        },
        {
          "output_type": "stream",
          "name": "stderr",
          "text": [
            "Training: 100%|██████████| 44/44 [00:42<00:00,  1.04it/s]\n",
            "Validating: 100%|██████████| 5/5 [00:02<00:00,  2.00it/s]\n"
          ]
        },
        {
          "output_type": "stream",
          "name": "stdout",
          "text": [
            "Epoch 218 Summary:\n",
            "  Train Loss: 1.1008 | Train Acc: 78.66%\n",
            "  Val Loss:   0.3858 | Val Acc:   89.24%\n",
            "  Current Learning Rate: 0.000331\n",
            "--- Epoch 219/300 ---\n"
          ]
        },
        {
          "output_type": "stream",
          "name": "stderr",
          "text": [
            "Training: 100%|██████████| 44/44 [00:44<00:00,  1.00s/it]\n",
            "Validating: 100%|██████████| 5/5 [00:02<00:00,  1.97it/s]\n"
          ]
        },
        {
          "output_type": "stream",
          "name": "stdout",
          "text": [
            "Epoch 219 Summary:\n",
            "  Train Loss: 1.3173 | Train Acc: 70.60%\n",
            "  Val Loss:   0.4261 | Val Acc:   88.94%\n",
            "  Current Learning Rate: 0.000324\n",
            "--- Epoch 220/300 ---\n"
          ]
        },
        {
          "output_type": "stream",
          "name": "stderr",
          "text": [
            "Training: 100%|██████████| 44/44 [00:42<00:00,  1.03it/s]\n",
            "Validating: 100%|██████████| 5/5 [00:02<00:00,  2.01it/s]\n"
          ]
        },
        {
          "output_type": "stream",
          "name": "stdout",
          "text": [
            "Epoch 220 Summary:\n",
            "  Train Loss: 1.1681 | Train Acc: 74.52%\n",
            "  Val Loss:   0.3972 | Val Acc:   89.50%\n",
            "  Current Learning Rate: 0.000317\n",
            "✅ New best model saved with accuracy: 89.50%\n",
            "--- Epoch 221/300 ---\n"
          ]
        },
        {
          "output_type": "stream",
          "name": "stderr",
          "text": [
            "Training: 100%|██████████| 44/44 [00:42<00:00,  1.04it/s]\n",
            "Validating: 100%|██████████| 5/5 [00:02<00:00,  1.98it/s]\n"
          ]
        },
        {
          "output_type": "stream",
          "name": "stdout",
          "text": [
            "Epoch 221 Summary:\n",
            "  Train Loss: 1.2147 | Train Acc: 73.18%\n",
            "  Val Loss:   0.4170 | Val Acc:   88.84%\n",
            "  Current Learning Rate: 0.000310\n",
            "--- Epoch 222/300 ---\n"
          ]
        },
        {
          "output_type": "stream",
          "name": "stderr",
          "text": [
            "Training: 100%|██████████| 44/44 [00:41<00:00,  1.05it/s]\n",
            "Validating: 100%|██████████| 5/5 [00:03<00:00,  1.65it/s]\n"
          ]
        },
        {
          "output_type": "stream",
          "name": "stdout",
          "text": [
            "Epoch 222 Summary:\n",
            "  Train Loss: 1.1258 | Train Acc: 77.25%\n",
            "  Val Loss:   0.3858 | Val Acc:   89.20%\n",
            "  Current Learning Rate: 0.000303\n",
            "--- Epoch 223/300 ---\n"
          ]
        },
        {
          "output_type": "stream",
          "name": "stderr",
          "text": [
            "Training: 100%|██████████| 44/44 [00:43<00:00,  1.01it/s]\n",
            "Validating: 100%|██████████| 5/5 [00:02<00:00,  1.97it/s]\n"
          ]
        },
        {
          "output_type": "stream",
          "name": "stdout",
          "text": [
            "Epoch 223 Summary:\n",
            "  Train Loss: 1.1354 | Train Acc: 75.14%\n",
            "  Val Loss:   0.3866 | Val Acc:   89.18%\n",
            "  Current Learning Rate: 0.000296\n",
            "--- Epoch 224/300 ---\n"
          ]
        },
        {
          "output_type": "stream",
          "name": "stderr",
          "text": [
            "Training: 100%|██████████| 44/44 [00:43<00:00,  1.02it/s]\n",
            "Validating: 100%|██████████| 5/5 [00:02<00:00,  2.01it/s]\n"
          ]
        },
        {
          "output_type": "stream",
          "name": "stdout",
          "text": [
            "Epoch 224 Summary:\n",
            "  Train Loss: 1.2491 | Train Acc: 71.96%\n",
            "  Val Loss:   0.3784 | Val Acc:   89.24%\n",
            "  Current Learning Rate: 0.000290\n",
            "--- Epoch 225/300 ---\n"
          ]
        },
        {
          "output_type": "stream",
          "name": "stderr",
          "text": [
            "Training: 100%|██████████| 44/44 [00:44<00:00,  1.01s/it]\n",
            "Validating: 100%|██████████| 5/5 [00:02<00:00,  2.01it/s]\n"
          ]
        },
        {
          "output_type": "stream",
          "name": "stdout",
          "text": [
            "Epoch 225 Summary:\n",
            "  Train Loss: 1.0859 | Train Acc: 76.00%\n",
            "  Val Loss:   0.3884 | Val Acc:   89.26%\n",
            "  Current Learning Rate: 0.000283\n",
            "--- Epoch 226/300 ---\n"
          ]
        },
        {
          "output_type": "stream",
          "name": "stderr",
          "text": [
            "Training: 100%|██████████| 44/44 [00:42<00:00,  1.04it/s]\n",
            "Validating: 100%|██████████| 5/5 [00:02<00:00,  1.99it/s]\n"
          ]
        },
        {
          "output_type": "stream",
          "name": "stdout",
          "text": [
            "Epoch 226 Summary:\n",
            "  Train Loss: 1.0960 | Train Acc: 77.50%\n",
            "  Val Loss:   0.4001 | Val Acc:   88.66%\n",
            "  Current Learning Rate: 0.000276\n",
            "--- Epoch 227/300 ---\n"
          ]
        },
        {
          "output_type": "stream",
          "name": "stderr",
          "text": [
            "Training: 100%|██████████| 44/44 [00:41<00:00,  1.05it/s]\n",
            "Validating: 100%|██████████| 5/5 [00:02<00:00,  1.81it/s]\n"
          ]
        },
        {
          "output_type": "stream",
          "name": "stdout",
          "text": [
            "Epoch 227 Summary:\n",
            "  Train Loss: 1.2345 | Train Acc: 73.12%\n",
            "  Val Loss:   0.3805 | Val Acc:   89.66%\n",
            "  Current Learning Rate: 0.000270\n",
            "✅ New best model saved with accuracy: 89.66%\n",
            "--- Epoch 228/300 ---\n"
          ]
        },
        {
          "output_type": "stream",
          "name": "stderr",
          "text": [
            "Training: 100%|██████████| 44/44 [00:43<00:00,  1.02it/s]\n",
            "Validating: 100%|██████████| 5/5 [00:02<00:00,  1.99it/s]\n"
          ]
        },
        {
          "output_type": "stream",
          "name": "stdout",
          "text": [
            "Epoch 228 Summary:\n",
            "  Train Loss: 1.2396 | Train Acc: 73.31%\n",
            "  Val Loss:   0.3777 | Val Acc:   89.80%\n",
            "  Current Learning Rate: 0.000263\n",
            "✅ New best model saved with accuracy: 89.80%\n",
            "--- Epoch 229/300 ---\n"
          ]
        },
        {
          "output_type": "stream",
          "name": "stderr",
          "text": [
            "Training: 100%|██████████| 44/44 [00:43<00:00,  1.01it/s]\n",
            "Validating: 100%|██████████| 5/5 [00:02<00:00,  2.01it/s]\n"
          ]
        },
        {
          "output_type": "stream",
          "name": "stdout",
          "text": [
            "Epoch 229 Summary:\n",
            "  Train Loss: 1.0869 | Train Acc: 76.00%\n",
            "  Val Loss:   0.3883 | Val Acc:   89.50%\n",
            "  Current Learning Rate: 0.000256\n",
            "--- Epoch 230/300 ---\n"
          ]
        },
        {
          "output_type": "stream",
          "name": "stderr",
          "text": [
            "Training: 100%|██████████| 44/44 [00:43<00:00,  1.02it/s]\n",
            "Validating: 100%|██████████| 5/5 [00:02<00:00,  2.01it/s]\n"
          ]
        },
        {
          "output_type": "stream",
          "name": "stdout",
          "text": [
            "Epoch 230 Summary:\n",
            "  Train Loss: 1.1884 | Train Acc: 74.17%\n",
            "  Val Loss:   0.3777 | Val Acc:   89.74%\n",
            "  Current Learning Rate: 0.000250\n",
            "--- Epoch 231/300 ---\n"
          ]
        },
        {
          "output_type": "stream",
          "name": "stderr",
          "text": [
            "Training: 100%|██████████| 44/44 [00:44<00:00,  1.01s/it]\n",
            "Validating: 100%|██████████| 5/5 [00:02<00:00,  1.71it/s]\n"
          ]
        },
        {
          "output_type": "stream",
          "name": "stdout",
          "text": [
            "Epoch 231 Summary:\n",
            "  Train Loss: 1.1270 | Train Acc: 76.66%\n",
            "  Val Loss:   0.3978 | Val Acc:   89.58%\n",
            "  Current Learning Rate: 0.000243\n",
            "--- Epoch 232/300 ---\n"
          ]
        },
        {
          "output_type": "stream",
          "name": "stderr",
          "text": [
            "Training: 100%|██████████| 44/44 [00:43<00:00,  1.02it/s]\n",
            "Validating: 100%|██████████| 5/5 [00:02<00:00,  1.98it/s]\n"
          ]
        },
        {
          "output_type": "stream",
          "name": "stdout",
          "text": [
            "Epoch 232 Summary:\n",
            "  Train Loss: 1.2144 | Train Acc: 72.77%\n",
            "  Val Loss:   0.4021 | Val Acc:   89.28%\n",
            "  Current Learning Rate: 0.000237\n",
            "--- Epoch 233/300 ---\n"
          ]
        },
        {
          "output_type": "stream",
          "name": "stderr",
          "text": [
            "Training: 100%|██████████| 44/44 [00:43<00:00,  1.01it/s]\n",
            "Validating: 100%|██████████| 5/5 [00:02<00:00,  1.98it/s]\n"
          ]
        },
        {
          "output_type": "stream",
          "name": "stdout",
          "text": [
            "Epoch 233 Summary:\n",
            "  Train Loss: 1.1331 | Train Acc: 76.10%\n",
            "  Val Loss:   0.3697 | Val Acc:   89.82%\n",
            "  Current Learning Rate: 0.000231\n",
            "✅ New best model saved with accuracy: 89.82%\n",
            "--- Epoch 234/300 ---\n"
          ]
        },
        {
          "output_type": "stream",
          "name": "stderr",
          "text": [
            "Training: 100%|██████████| 44/44 [00:43<00:00,  1.01it/s]\n",
            "Validating: 100%|██████████| 5/5 [00:02<00:00,  2.00it/s]\n"
          ]
        },
        {
          "output_type": "stream",
          "name": "stdout",
          "text": [
            "Epoch 234 Summary:\n",
            "  Train Loss: 1.1616 | Train Acc: 77.43%\n",
            "  Val Loss:   0.3962 | Val Acc:   89.32%\n",
            "  Current Learning Rate: 0.000224\n",
            "--- Epoch 235/300 ---\n"
          ]
        },
        {
          "output_type": "stream",
          "name": "stderr",
          "text": [
            "Training: 100%|██████████| 44/44 [00:42<00:00,  1.04it/s]\n",
            "Validating: 100%|██████████| 5/5 [00:02<00:00,  1.99it/s]\n"
          ]
        },
        {
          "output_type": "stream",
          "name": "stdout",
          "text": [
            "Epoch 235 Summary:\n",
            "  Train Loss: 1.2667 | Train Acc: 74.46%\n",
            "  Val Loss:   0.4048 | Val Acc:   89.84%\n",
            "  Current Learning Rate: 0.000218\n",
            "✅ New best model saved with accuracy: 89.84%\n",
            "--- Epoch 236/300 ---\n"
          ]
        },
        {
          "output_type": "stream",
          "name": "stderr",
          "text": [
            "Training: 100%|██████████| 44/44 [00:43<00:00,  1.01it/s]\n",
            "Validating: 100%|██████████| 5/5 [00:02<00:00,  1.77it/s]\n"
          ]
        },
        {
          "output_type": "stream",
          "name": "stdout",
          "text": [
            "Epoch 236 Summary:\n",
            "  Train Loss: 1.2559 | Train Acc: 74.06%\n",
            "  Val Loss:   0.4042 | Val Acc:   89.98%\n",
            "  Current Learning Rate: 0.000212\n",
            "✅ New best model saved with accuracy: 89.98%\n",
            "--- Epoch 237/300 ---\n"
          ]
        },
        {
          "output_type": "stream",
          "name": "stderr",
          "text": [
            "Training: 100%|██████████| 44/44 [00:43<00:00,  1.02it/s]\n",
            "Validating: 100%|██████████| 5/5 [00:02<00:00,  1.94it/s]\n"
          ]
        },
        {
          "output_type": "stream",
          "name": "stdout",
          "text": [
            "Epoch 237 Summary:\n",
            "  Train Loss: 1.1788 | Train Acc: 73.68%\n",
            "  Val Loss:   0.3890 | Val Acc:   89.78%\n",
            "  Current Learning Rate: 0.000206\n",
            "--- Epoch 238/300 ---\n"
          ]
        },
        {
          "output_type": "stream",
          "name": "stderr",
          "text": [
            "Training: 100%|██████████| 44/44 [00:43<00:00,  1.00it/s]\n",
            "Validating: 100%|██████████| 5/5 [00:02<00:00,  2.00it/s]\n"
          ]
        },
        {
          "output_type": "stream",
          "name": "stdout",
          "text": [
            "Epoch 238 Summary:\n",
            "  Train Loss: 1.2088 | Train Acc: 72.94%\n",
            "  Val Loss:   0.3998 | Val Acc:   88.76%\n",
            "  Current Learning Rate: 0.000200\n",
            "--- Epoch 239/300 ---\n"
          ]
        },
        {
          "output_type": "stream",
          "name": "stderr",
          "text": [
            "Training: 100%|██████████| 44/44 [00:43<00:00,  1.02it/s]\n",
            "Validating: 100%|██████████| 5/5 [00:02<00:00,  1.99it/s]\n"
          ]
        },
        {
          "output_type": "stream",
          "name": "stdout",
          "text": [
            "Epoch 239 Summary:\n",
            "  Train Loss: 1.1508 | Train Acc: 76.32%\n",
            "  Val Loss:   0.3750 | Val Acc:   90.36%\n",
            "  Current Learning Rate: 0.000194\n",
            "✅ New best model saved with accuracy: 90.36%\n",
            "--- Epoch 240/300 ---\n"
          ]
        },
        {
          "output_type": "stream",
          "name": "stderr",
          "text": [
            "Training: 100%|██████████| 44/44 [00:42<00:00,  1.03it/s]\n",
            "Validating: 100%|██████████| 5/5 [00:02<00:00,  1.72it/s]\n"
          ]
        },
        {
          "output_type": "stream",
          "name": "stdout",
          "text": [
            "Epoch 240 Summary:\n",
            "  Train Loss: 1.1265 | Train Acc: 75.72%\n",
            "  Val Loss:   0.3748 | Val Acc:   90.40%\n",
            "  Current Learning Rate: 0.000188\n",
            "✅ New best model saved with accuracy: 90.40%\n",
            "--- Epoch 241/300 ---\n"
          ]
        },
        {
          "output_type": "stream",
          "name": "stderr",
          "text": [
            "Training: 100%|██████████| 44/44 [00:42<00:00,  1.02it/s]\n",
            "Validating: 100%|██████████| 5/5 [00:02<00:00,  1.97it/s]\n"
          ]
        },
        {
          "output_type": "stream",
          "name": "stdout",
          "text": [
            "Epoch 241 Summary:\n",
            "  Train Loss: 1.2264 | Train Acc: 74.08%\n",
            "  Val Loss:   0.3751 | Val Acc:   90.32%\n",
            "  Current Learning Rate: 0.000182\n",
            "--- Epoch 242/300 ---\n"
          ]
        },
        {
          "output_type": "stream",
          "name": "stderr",
          "text": [
            "Training: 100%|██████████| 44/44 [00:42<00:00,  1.04it/s]\n",
            "Validating: 100%|██████████| 5/5 [00:02<00:00,  2.03it/s]\n"
          ]
        },
        {
          "output_type": "stream",
          "name": "stdout",
          "text": [
            "Epoch 242 Summary:\n",
            "  Train Loss: 1.1464 | Train Acc: 74.97%\n",
            "  Val Loss:   0.3789 | Val Acc:   90.14%\n",
            "  Current Learning Rate: 0.000177\n",
            "--- Epoch 243/300 ---\n"
          ]
        },
        {
          "output_type": "stream",
          "name": "stderr",
          "text": [
            "Training: 100%|██████████| 44/44 [00:42<00:00,  1.03it/s]\n",
            "Validating: 100%|██████████| 5/5 [00:02<00:00,  2.01it/s]\n"
          ]
        },
        {
          "output_type": "stream",
          "name": "stdout",
          "text": [
            "Epoch 243 Summary:\n",
            "  Train Loss: 1.1214 | Train Acc: 76.78%\n",
            "  Val Loss:   0.3586 | Val Acc:   90.48%\n",
            "  Current Learning Rate: 0.000171\n",
            "✅ New best model saved with accuracy: 90.48%\n",
            "--- Epoch 244/300 ---\n"
          ]
        },
        {
          "output_type": "stream",
          "name": "stderr",
          "text": [
            "Training: 100%|██████████| 44/44 [00:44<00:00,  1.01s/it]\n",
            "Validating: 100%|██████████| 5/5 [00:02<00:00,  1.82it/s]\n"
          ]
        },
        {
          "output_type": "stream",
          "name": "stdout",
          "text": [
            "Epoch 244 Summary:\n",
            "  Train Loss: 1.1398 | Train Acc: 76.31%\n",
            "  Val Loss:   0.3625 | Val Acc:   90.04%\n",
            "  Current Learning Rate: 0.000165\n",
            "--- Epoch 245/300 ---\n"
          ]
        },
        {
          "output_type": "stream",
          "name": "stderr",
          "text": [
            "Training: 100%|██████████| 44/44 [00:41<00:00,  1.07it/s]\n",
            "Validating: 100%|██████████| 5/5 [00:02<00:00,  1.78it/s]\n"
          ]
        },
        {
          "output_type": "stream",
          "name": "stdout",
          "text": [
            "Epoch 245 Summary:\n",
            "  Train Loss: 1.2084 | Train Acc: 73.13%\n",
            "  Val Loss:   0.3769 | Val Acc:   90.12%\n",
            "  Current Learning Rate: 0.000160\n",
            "--- Epoch 246/300 ---\n"
          ]
        },
        {
          "output_type": "stream",
          "name": "stderr",
          "text": [
            "Training: 100%|██████████| 44/44 [00:42<00:00,  1.04it/s]\n",
            "Validating: 100%|██████████| 5/5 [00:02<00:00,  2.00it/s]\n"
          ]
        },
        {
          "output_type": "stream",
          "name": "stdout",
          "text": [
            "Epoch 246 Summary:\n",
            "  Train Loss: 1.1360 | Train Acc: 75.05%\n",
            "  Val Loss:   0.3578 | Val Acc:   90.62%\n",
            "  Current Learning Rate: 0.000154\n",
            "✅ New best model saved with accuracy: 90.62%\n",
            "--- Epoch 247/300 ---\n"
          ]
        },
        {
          "output_type": "stream",
          "name": "stderr",
          "text": [
            "Training: 100%|██████████| 44/44 [00:43<00:00,  1.02it/s]\n",
            "Validating: 100%|██████████| 5/5 [00:02<00:00,  2.00it/s]\n"
          ]
        },
        {
          "output_type": "stream",
          "name": "stdout",
          "text": [
            "Epoch 247 Summary:\n",
            "  Train Loss: 1.0420 | Train Acc: 81.37%\n",
            "  Val Loss:   0.3505 | Val Acc:   90.62%\n",
            "  Current Learning Rate: 0.000149\n",
            "--- Epoch 248/300 ---\n"
          ]
        },
        {
          "output_type": "stream",
          "name": "stderr",
          "text": [
            "Training: 100%|██████████| 44/44 [00:42<00:00,  1.04it/s]\n",
            "Validating: 100%|██████████| 5/5 [00:02<00:00,  2.01it/s]\n"
          ]
        },
        {
          "output_type": "stream",
          "name": "stdout",
          "text": [
            "Epoch 248 Summary:\n",
            "  Train Loss: 1.1264 | Train Acc: 78.43%\n",
            "  Val Loss:   0.3754 | Val Acc:   90.06%\n",
            "  Current Learning Rate: 0.000144\n",
            "--- Epoch 249/300 ---\n"
          ]
        },
        {
          "output_type": "stream",
          "name": "stderr",
          "text": [
            "Training: 100%|██████████| 44/44 [00:42<00:00,  1.03it/s]\n",
            "Validating: 100%|██████████| 5/5 [00:02<00:00,  1.97it/s]\n"
          ]
        },
        {
          "output_type": "stream",
          "name": "stdout",
          "text": [
            "Epoch 249 Summary:\n",
            "  Train Loss: 1.1658 | Train Acc: 74.41%\n",
            "  Val Loss:   0.3591 | Val Acc:   90.44%\n",
            "  Current Learning Rate: 0.000138\n",
            "--- Epoch 250/300 ---\n"
          ]
        },
        {
          "output_type": "stream",
          "name": "stderr",
          "text": [
            "Training: 100%|██████████| 44/44 [00:44<00:00,  1.01s/it]\n",
            "Validating: 100%|██████████| 5/5 [00:02<00:00,  1.85it/s]\n"
          ]
        },
        {
          "output_type": "stream",
          "name": "stdout",
          "text": [
            "Epoch 250 Summary:\n",
            "  Train Loss: 1.0756 | Train Acc: 77.25%\n",
            "  Val Loss:   0.3537 | Val Acc:   90.50%\n",
            "  Current Learning Rate: 0.000133\n",
            "--- Epoch 251/300 ---\n"
          ]
        },
        {
          "output_type": "stream",
          "name": "stderr",
          "text": [
            "Training: 100%|██████████| 44/44 [00:42<00:00,  1.04it/s]\n",
            "Validating: 100%|██████████| 5/5 [00:02<00:00,  2.01it/s]\n"
          ]
        },
        {
          "output_type": "stream",
          "name": "stdout",
          "text": [
            "Epoch 251 Summary:\n",
            "  Train Loss: 1.1045 | Train Acc: 77.91%\n",
            "  Val Loss:   0.3523 | Val Acc:   90.44%\n",
            "  Current Learning Rate: 0.000128\n",
            "--- Epoch 252/300 ---\n"
          ]
        },
        {
          "output_type": "stream",
          "name": "stderr",
          "text": [
            "Training: 100%|██████████| 44/44 [00:42<00:00,  1.04it/s]\n",
            "Validating: 100%|██████████| 5/5 [00:02<00:00,  1.99it/s]\n"
          ]
        },
        {
          "output_type": "stream",
          "name": "stdout",
          "text": [
            "Epoch 252 Summary:\n",
            "  Train Loss: 1.1285 | Train Acc: 77.94%\n",
            "  Val Loss:   0.3575 | Val Acc:   90.34%\n",
            "  Current Learning Rate: 0.000123\n",
            "--- Epoch 253/300 ---\n"
          ]
        },
        {
          "output_type": "stream",
          "name": "stderr",
          "text": [
            "Training: 100%|██████████| 44/44 [00:42<00:00,  1.03it/s]\n",
            "Validating: 100%|██████████| 5/5 [00:02<00:00,  2.02it/s]\n"
          ]
        },
        {
          "output_type": "stream",
          "name": "stdout",
          "text": [
            "Epoch 253 Summary:\n",
            "  Train Loss: 1.1374 | Train Acc: 76.45%\n",
            "  Val Loss:   0.3492 | Val Acc:   90.54%\n",
            "  Current Learning Rate: 0.000118\n",
            "--- Epoch 254/300 ---\n"
          ]
        },
        {
          "output_type": "stream",
          "name": "stderr",
          "text": [
            "Training: 100%|██████████| 44/44 [00:43<00:00,  1.02it/s]\n",
            "Validating: 100%|██████████| 5/5 [00:02<00:00,  1.81it/s]\n"
          ]
        },
        {
          "output_type": "stream",
          "name": "stdout",
          "text": [
            "Epoch 254 Summary:\n",
            "  Train Loss: 1.2373 | Train Acc: 72.46%\n",
            "  Val Loss:   0.3785 | Val Acc:   90.06%\n",
            "  Current Learning Rate: 0.000114\n",
            "--- Epoch 255/300 ---\n"
          ]
        },
        {
          "output_type": "stream",
          "name": "stderr",
          "text": [
            "Training: 100%|██████████| 44/44 [00:41<00:00,  1.05it/s]\n",
            "Validating: 100%|██████████| 5/5 [00:02<00:00,  1.78it/s]\n"
          ]
        },
        {
          "output_type": "stream",
          "name": "stdout",
          "text": [
            "Epoch 255 Summary:\n",
            "  Train Loss: 1.1691 | Train Acc: 77.26%\n",
            "  Val Loss:   0.3670 | Val Acc:   90.30%\n",
            "  Current Learning Rate: 0.000109\n",
            "--- Epoch 256/300 ---\n"
          ]
        },
        {
          "output_type": "stream",
          "name": "stderr",
          "text": [
            "Training: 100%|██████████| 44/44 [00:44<00:00,  1.01s/it]\n",
            "Validating: 100%|██████████| 5/5 [00:02<00:00,  2.00it/s]\n"
          ]
        },
        {
          "output_type": "stream",
          "name": "stdout",
          "text": [
            "Epoch 256 Summary:\n",
            "  Train Loss: 1.2383 | Train Acc: 74.00%\n",
            "  Val Loss:   0.3664 | Val Acc:   90.52%\n",
            "  Current Learning Rate: 0.000104\n",
            "--- Epoch 257/300 ---\n"
          ]
        },
        {
          "output_type": "stream",
          "name": "stderr",
          "text": [
            "Training: 100%|██████████| 44/44 [00:42<00:00,  1.03it/s]\n",
            "Validating: 100%|██████████| 5/5 [00:02<00:00,  1.99it/s]\n"
          ]
        },
        {
          "output_type": "stream",
          "name": "stdout",
          "text": [
            "Epoch 257 Summary:\n",
            "  Train Loss: 1.1144 | Train Acc: 78.38%\n",
            "  Val Loss:   0.3592 | Val Acc:   90.26%\n",
            "  Current Learning Rate: 0.000100\n",
            "--- Epoch 258/300 ---\n"
          ]
        },
        {
          "output_type": "stream",
          "name": "stderr",
          "text": [
            "\rTraining:   0%|          | 0/44 [00:00<?, ?it/s]"
          ]
        }
      ]
    },
    {
      "cell_type": "code",
      "source": [
        "# -- trying to test on 257/300 epoch model\n",
        "print(\"\\n--- Training complete. Starting final evaluation on test set. ---\")\n",
        "img_info = ImageParams(width=32, height=32, in_channel=3)\n",
        "mparams =ModelParameters(patch_size=4, inner_dim=192, transformer_layers=12, num_head=3, embed_dropout=0.1, attn_dropout=0.0, mlp_dropout=0.1)\n",
        "hparams = Hyperparameters(batch_size=1024, out_classes=10, epochs=300, learning_rate=5e-4*(1024/512), weight_decay=0.05)\n",
        "data_handler = DataHandler(image_information=img_info, batch_size=hparams.batch_size)\n",
        "train_loader, val_loader, test_loader = data_handler.get_dataloaders()\n",
        "run_name = f'deit_trial_F1_1'\n",
        "run_output_dir = f\"/content/drive/MyDrive/IISc_Submission/{run_name}\" # SAVING TO DRIVE\n",
        "local_model_path = os.path.join(run_output_dir, \"best_model.pth\")\n",
        "eval_results_dir = os.path.join(run_output_dir, \"evaluation_results\")\n",
        "evaluator = Evaluator(\n",
        "model=ViT(mparams=mparams, hparams=hparams, img_info=img_info),\n",
        "test_loader=test_loader,\n",
        "device='cpu',\n",
        "output_dir=eval_results_dir)\n",
        "final_metrics = evaluator.evaluate(model_path=local_model_path)"
      ],
      "metadata": {
        "colab": {
          "base_uri": "https://localhost:8080/",
          "height": 1000
        },
        "id": "6H27Ci2mDMxS",
        "outputId": "da113718-6e91-4e55-8d15-fa710002af21"
      },
      "execution_count": null,
      "outputs": [
        {
          "output_type": "stream",
          "name": "stdout",
          "text": [
            "\n",
            "--- Training complete. Starting final evaluation on test set. ---\n",
            "DataLoaders created successfully.\n",
            "Training samples: 45000\n",
            "Validation samples: 5000\n",
            "Test samples: 10000\n",
            "\n",
            "--- Starting Final Evaluation ---\n"
          ]
        },
        {
          "output_type": "stream",
          "name": "stderr",
          "text": [
            "Testing: 100%|██████████| 10/10 [03:56<00:00, 23.66s/it]\n"
          ]
        },
        {
          "output_type": "stream",
          "name": "stdout",
          "text": [
            "\n",
            "Overall Test Accuracy: 90.09%\n",
            "\n",
            "Classification Report:\n",
            "                  precision  recall  f1-score     support  accuracy\n",
            "airplane           0.887006  0.9420  0.913676   1000.0000    0.9420\n",
            "automobile         0.947577  0.9580  0.952760   1000.0000    0.9580\n",
            "bird               0.871897  0.8780  0.874938   1000.0000    0.8780\n",
            "cat                0.847630  0.7510  0.796394   1000.0000    0.7510\n",
            "deer               0.888778  0.8870  0.887888   1000.0000    0.8870\n",
            "dog                0.853734  0.8230  0.838086   1000.0000    0.8230\n",
            "frog               0.899431  0.9480  0.923077   1000.0000    0.9480\n",
            "horse              0.917235  0.9420  0.929452   1000.0000    0.9420\n",
            "ship               0.954361  0.9410  0.947633   1000.0000    0.9410\n",
            "truck              0.934328  0.9390  0.936658   1000.0000    0.9390\n",
            "accuracy           0.900900  0.9009  0.900900      0.9009    0.9009\n",
            "macro avg          0.900198  0.9009  0.900056  10000.0000       NaN\n",
            "weighted avg       0.900198  0.9009  0.900056  10000.0000       NaN\n",
            "overall_accuracy   0.900900  0.9009  0.900900      0.9009    0.9009\n",
            "\n",
            "Full report saved to /content/drive/MyDrive/IISc_Submission/deit_trial_F1_1/evaluation_results/classification_report.json\n"
          ]
        },
        {
          "output_type": "display_data",
          "data": {
            "text/plain": [
              "<Figure size 1200x1000 with 2 Axes>"
            ],
            "image/png": "[encoded data removed]"
          },
          "metadata": {}
        },
        {
          "output_type": "stream",
          "name": "stdout",
          "text": [
            "Confusion matrix plot saved to /content/drive/MyDrive/IISc_Submission/deit_trial_F1_1/evaluation_results/confusion_matrix.png\n"
          ]
        }
      ]
    },
    {
      "cell_type": "markdown",
      "source": [
        "# Abalation Study: Effect of MixUp and CutMix\n",
        "1. disabled `cutmix` and `mixup` and run the model for 30 epochs\n",
        "1. did not disable `cutmix` and `mixup` and run the model for 30 epochs"
      ],
      "metadata": {
        "id": "EcoZrQk8QnqV"
      }
    },
    {
      "cell_type": "code",
      "source": [
        "# --- baseline_vit_abalation ---\n",
        "main(\n",
        "    num_runs=1,\n",
        "    master_seed=300,\n",
        "    test_name=f'baseline_vit_abalation_F0',\n",
        "    image_information=ImageParams(width=32, height=32, in_channel=3),\n",
        "    model_parameters=ModelParameters(patch_size=4, inner_dim=192, transformer_layers=12, num_head=3, embed_dropout=0.1, attn_dropout=0.0, mlp_dropout=0.1),\n",
        "    hyperparameters=Hyperparameters(batch_size=1024, out_classes=10, epochs=30, learning_rate=5e-4*(1024/512), weight_decay=0.05)\n",
        ")"
      ],
      "metadata": {
        "colab": {
          "base_uri": "https://localhost:8080/",
          "height": 1000
        },
        "id": "PzZ6_cQJldTl",
        "outputId": "3ef7230e-b80f-4981-bac6-97f30b935a55"
      },
      "execution_count": 13,
      "outputs": [
        {
          "output_type": "stream",
          "name": "stdout",
          "text": [
            "\n",
            "--- Starting Run 1/1 (Seed: 300) ---\n",
            "DataLoaders created successfully.\n",
            "Training samples: 45000\n",
            "Validation samples: 5000\n",
            "Test samples: 10000\n",
            "Starting Training...\n",
            "--- Epoch 1/30 ---\n"
          ]
        },
        {
          "output_type": "stream",
          "name": "stderr",
          "text": [
            "Training: 100%|██████████| 44/44 [00:40<00:00,  1.09it/s]\n",
            "Validating: 100%|██████████| 5/5 [00:02<00:00,  1.69it/s]\n"
          ]
        },
        {
          "output_type": "stream",
          "name": "stdout",
          "text": [
            "Epoch 1 Summary:\n",
            "  Train Loss: 2.1849 | Train Acc: 17.69%\n",
            "  Val Loss:   1.9904 | Val Acc:   26.66%\n",
            "  Current Learning Rate: 0.000069\n",
            "✅ New best model saved with accuracy: 26.66%\n",
            "--- Epoch 2/30 ---\n"
          ]
        },
        {
          "output_type": "stream",
          "name": "stderr",
          "text": [
            "Training: 100%|██████████| 44/44 [00:39<00:00,  1.12it/s]\n",
            "Validating: 100%|██████████| 5/5 [00:02<00:00,  1.84it/s]\n"
          ]
        },
        {
          "output_type": "stream",
          "name": "stdout",
          "text": [
            "Epoch 2 Summary:\n",
            "  Train Loss: 2.0775 | Train Acc: 22.39%\n",
            "  Val Loss:   1.9473 | Val Acc:   27.86%\n",
            "  Current Learning Rate: 0.000153\n",
            "✅ New best model saved with accuracy: 27.86%\n",
            "--- Epoch 3/30 ---\n"
          ]
        },
        {
          "output_type": "stream",
          "name": "stderr",
          "text": [
            "Training: 100%|██████████| 44/44 [00:40<00:00,  1.10it/s]\n",
            "Validating: 100%|██████████| 5/5 [00:02<00:00,  1.95it/s]\n"
          ]
        },
        {
          "output_type": "stream",
          "name": "stdout",
          "text": [
            "Epoch 3 Summary:\n",
            "  Train Loss: 1.9897 | Train Acc: 26.18%\n",
            "  Val Loss:   1.7550 | Val Acc:   34.26%\n",
            "  Current Learning Rate: 0.000281\n",
            "✅ New best model saved with accuracy: 34.26%\n",
            "--- Epoch 4/30 ---\n"
          ]
        },
        {
          "output_type": "stream",
          "name": "stderr",
          "text": [
            "Training: 100%|██████████| 44/44 [00:40<00:00,  1.09it/s]\n",
            "Validating: 100%|██████████| 5/5 [00:02<00:00,  2.16it/s]\n"
          ]
        },
        {
          "output_type": "stream",
          "name": "stdout",
          "text": [
            "Epoch 4 Summary:\n",
            "  Train Loss: 1.8760 | Train Acc: 30.42%\n",
            "  Val Loss:   1.6414 | Val Acc:   38.80%\n",
            "  Current Learning Rate: 0.000438\n",
            "✅ New best model saved with accuracy: 38.80%\n",
            "--- Epoch 5/30 ---\n"
          ]
        },
        {
          "output_type": "stream",
          "name": "stderr",
          "text": [
            "Training: 100%|██████████| 44/44 [00:40<00:00,  1.08it/s]\n",
            "Validating: 100%|██████████| 5/5 [00:02<00:00,  2.25it/s]\n"
          ]
        },
        {
          "output_type": "stream",
          "name": "stdout",
          "text": [
            "Epoch 5 Summary:\n",
            "  Train Loss: 1.7689 | Train Acc: 34.94%\n",
            "  Val Loss:   1.5368 | Val Acc:   42.92%\n",
            "  Current Learning Rate: 0.000605\n",
            "✅ New best model saved with accuracy: 42.92%\n",
            "--- Epoch 6/30 ---\n"
          ]
        },
        {
          "output_type": "stream",
          "name": "stderr",
          "text": [
            "Training: 100%|██████████| 44/44 [00:42<00:00,  1.03it/s]\n",
            "Validating: 100%|██████████| 5/5 [00:02<00:00,  2.21it/s]\n"
          ]
        },
        {
          "output_type": "stream",
          "name": "stdout",
          "text": [
            "Epoch 6 Summary:\n",
            "  Train Loss: 1.6848 | Train Acc: 38.80%\n",
            "  Val Loss:   1.4748 | Val Acc:   46.22%\n",
            "  Current Learning Rate: 0.000762\n",
            "✅ New best model saved with accuracy: 46.22%\n",
            "--- Epoch 7/30 ---\n"
          ]
        },
        {
          "output_type": "stream",
          "name": "stderr",
          "text": [
            "Training: 100%|██████████| 44/44 [00:41<00:00,  1.05it/s]\n",
            "Validating: 100%|██████████| 5/5 [00:02<00:00,  2.20it/s]\n"
          ]
        },
        {
          "output_type": "stream",
          "name": "stdout",
          "text": [
            "Epoch 7 Summary:\n",
            "  Train Loss: 1.5940 | Train Acc: 42.49%\n",
            "  Val Loss:   1.3364 | Val Acc:   51.02%\n",
            "  Current Learning Rate: 0.000890\n",
            "✅ New best model saved with accuracy: 51.02%\n",
            "--- Epoch 8/30 ---\n"
          ]
        },
        {
          "output_type": "stream",
          "name": "stderr",
          "text": [
            "Training: 100%|██████████| 44/44 [00:43<00:00,  1.01it/s]\n",
            "Validating: 100%|██████████| 5/5 [00:02<00:00,  1.95it/s]\n"
          ]
        },
        {
          "output_type": "stream",
          "name": "stdout",
          "text": [
            "Epoch 8 Summary:\n",
            "  Train Loss: 1.5414 | Train Acc: 44.34%\n",
            "  Val Loss:   1.4154 | Val Acc:   47.58%\n",
            "  Current Learning Rate: 0.000972\n",
            "--- Epoch 9/30 ---\n"
          ]
        },
        {
          "output_type": "stream",
          "name": "stderr",
          "text": [
            "Training: 100%|██████████| 44/44 [00:39<00:00,  1.10it/s]\n",
            "Validating: 100%|██████████| 5/5 [00:02<00:00,  1.83it/s]\n"
          ]
        },
        {
          "output_type": "stream",
          "name": "stdout",
          "text": [
            "Epoch 9 Summary:\n",
            "  Train Loss: 1.4869 | Train Acc: 46.11%\n",
            "  Val Loss:   1.2043 | Val Acc:   55.52%\n",
            "  Current Learning Rate: 0.001000\n",
            "✅ New best model saved with accuracy: 55.52%\n",
            "--- Epoch 10/30 ---\n"
          ]
        },
        {
          "output_type": "stream",
          "name": "stderr",
          "text": [
            "Training: 100%|██████████| 44/44 [00:41<00:00,  1.05it/s]\n",
            "Validating: 100%|██████████| 5/5 [00:02<00:00,  2.22it/s]\n"
          ]
        },
        {
          "output_type": "stream",
          "name": "stdout",
          "text": [
            "Epoch 10 Summary:\n",
            "  Train Loss: 1.4234 | Train Acc: 48.76%\n",
            "  Val Loss:   1.1588 | Val Acc:   58.12%\n",
            "  Current Learning Rate: 0.000994\n",
            "✅ New best model saved with accuracy: 58.12%\n",
            "--- Epoch 11/30 ---\n"
          ]
        },
        {
          "output_type": "stream",
          "name": "stderr",
          "text": [
            "Training: 100%|██████████| 44/44 [00:42<00:00,  1.04it/s]\n",
            "Validating: 100%|██████████| 5/5 [00:02<00:00,  2.22it/s]\n"
          ]
        },
        {
          "output_type": "stream",
          "name": "stdout",
          "text": [
            "Epoch 11 Summary:\n",
            "  Train Loss: 1.3672 | Train Acc: 50.98%\n",
            "  Val Loss:   1.1382 | Val Acc:   58.92%\n",
            "  Current Learning Rate: 0.000977\n",
            "✅ New best model saved with accuracy: 58.92%\n",
            "--- Epoch 12/30 ---\n"
          ]
        },
        {
          "output_type": "stream",
          "name": "stderr",
          "text": [
            "Training: 100%|██████████| 44/44 [00:41<00:00,  1.06it/s]\n",
            "Validating: 100%|██████████| 5/5 [00:02<00:00,  2.22it/s]\n"
          ]
        },
        {
          "output_type": "stream",
          "name": "stdout",
          "text": [
            "Epoch 12 Summary:\n",
            "  Train Loss: 1.3510 | Train Acc: 51.50%\n",
            "  Val Loss:   1.1058 | Val Acc:   59.60%\n",
            "  Current Learning Rate: 0.000950\n",
            "✅ New best model saved with accuracy: 59.60%\n",
            "--- Epoch 13/30 ---\n"
          ]
        },
        {
          "output_type": "stream",
          "name": "stderr",
          "text": [
            "Training: 100%|██████████| 44/44 [00:41<00:00,  1.07it/s]\n",
            "Validating: 100%|██████████| 5/5 [00:02<00:00,  2.18it/s]\n"
          ]
        },
        {
          "output_type": "stream",
          "name": "stdout",
          "text": [
            "Epoch 13 Summary:\n",
            "  Train Loss: 1.2837 | Train Acc: 54.23%\n",
            "  Val Loss:   1.0333 | Val Acc:   62.88%\n",
            "  Current Learning Rate: 0.000912\n",
            "✅ New best model saved with accuracy: 62.88%\n",
            "--- Epoch 14/30 ---\n"
          ]
        },
        {
          "output_type": "stream",
          "name": "stderr",
          "text": [
            "Training: 100%|██████████| 44/44 [00:41<00:00,  1.05it/s]\n",
            "Validating: 100%|██████████| 5/5 [00:02<00:00,  2.18it/s]\n"
          ]
        },
        {
          "output_type": "stream",
          "name": "stdout",
          "text": [
            "Epoch 14 Summary:\n",
            "  Train Loss: 1.2618 | Train Acc: 54.77%\n",
            "  Val Loss:   1.0054 | Val Acc:   63.92%\n",
            "  Current Learning Rate: 0.000865\n",
            "✅ New best model saved with accuracy: 63.92%\n",
            "--- Epoch 15/30 ---\n"
          ]
        },
        {
          "output_type": "stream",
          "name": "stderr",
          "text": [
            "Training: 100%|██████████| 44/44 [00:41<00:00,  1.05it/s]\n",
            "Validating: 100%|██████████| 5/5 [00:02<00:00,  2.12it/s]\n"
          ]
        },
        {
          "output_type": "stream",
          "name": "stdout",
          "text": [
            "Epoch 15 Summary:\n",
            "  Train Loss: 1.2083 | Train Acc: 57.25%\n",
            "  Val Loss:   0.9655 | Val Acc:   64.94%\n",
            "  Current Learning Rate: 0.000810\n",
            "✅ New best model saved with accuracy: 64.94%\n",
            "--- Epoch 16/30 ---\n"
          ]
        },
        {
          "output_type": "stream",
          "name": "stderr",
          "text": [
            "Training: 100%|██████████| 44/44 [00:42<00:00,  1.03it/s]\n",
            "Validating: 100%|██████████| 5/5 [00:02<00:00,  1.82it/s]\n"
          ]
        },
        {
          "output_type": "stream",
          "name": "stdout",
          "text": [
            "Epoch 16 Summary:\n",
            "  Train Loss: 1.1763 | Train Acc: 57.97%\n",
            "  Val Loss:   0.9665 | Val Acc:   64.82%\n",
            "  Current Learning Rate: 0.000749\n",
            "--- Epoch 17/30 ---\n"
          ]
        },
        {
          "output_type": "stream",
          "name": "stderr",
          "text": [
            "Training: 100%|██████████| 44/44 [00:40<00:00,  1.08it/s]\n",
            "Validating: 100%|██████████| 5/5 [00:02<00:00,  1.90it/s]\n"
          ]
        },
        {
          "output_type": "stream",
          "name": "stdout",
          "text": [
            "Epoch 17 Summary:\n",
            "  Train Loss: 1.1425 | Train Acc: 59.37%\n",
            "  Val Loss:   0.9390 | Val Acc:   66.18%\n",
            "  Current Learning Rate: 0.000681\n",
            "✅ New best model saved with accuracy: 66.18%\n",
            "--- Epoch 18/30 ---\n"
          ]
        },
        {
          "output_type": "stream",
          "name": "stderr",
          "text": [
            "Training: 100%|██████████| 44/44 [00:41<00:00,  1.05it/s]\n",
            "Validating: 100%|██████████| 5/5 [00:02<00:00,  2.18it/s]\n"
          ]
        },
        {
          "output_type": "stream",
          "name": "stdout",
          "text": [
            "Epoch 18 Summary:\n",
            "  Train Loss: 1.1060 | Train Acc: 60.68%\n",
            "  Val Loss:   0.8762 | Val Acc:   68.82%\n",
            "  Current Learning Rate: 0.000610\n",
            "✅ New best model saved with accuracy: 68.82%\n",
            "--- Epoch 19/30 ---\n"
          ]
        },
        {
          "output_type": "stream",
          "name": "stderr",
          "text": [
            "Training: 100%|██████████| 44/44 [00:41<00:00,  1.06it/s]\n",
            "Validating: 100%|██████████| 5/5 [00:02<00:00,  2.17it/s]\n"
          ]
        },
        {
          "output_type": "stream",
          "name": "stdout",
          "text": [
            "Epoch 19 Summary:\n",
            "  Train Loss: 1.0751 | Train Acc: 61.80%\n",
            "  Val Loss:   0.8894 | Val Acc:   68.42%\n",
            "  Current Learning Rate: 0.000536\n",
            "--- Epoch 20/30 ---\n"
          ]
        },
        {
          "output_type": "stream",
          "name": "stderr",
          "text": [
            "Training: 100%|██████████| 44/44 [00:41<00:00,  1.06it/s]\n",
            "Validating: 100%|██████████| 5/5 [00:02<00:00,  2.22it/s]\n"
          ]
        },
        {
          "output_type": "stream",
          "name": "stdout",
          "text": [
            "Epoch 20 Summary:\n",
            "  Train Loss: 1.0495 | Train Acc: 63.00%\n",
            "  Val Loss:   0.8709 | Val Acc:   69.36%\n",
            "  Current Learning Rate: 0.000461\n",
            "✅ New best model saved with accuracy: 69.36%\n",
            "--- Epoch 21/30 ---\n"
          ]
        },
        {
          "output_type": "stream",
          "name": "stderr",
          "text": [
            "Training: 100%|██████████| 44/44 [00:43<00:00,  1.01it/s]\n",
            "Validating: 100%|██████████| 5/5 [00:02<00:00,  2.19it/s]\n"
          ]
        },
        {
          "output_type": "stream",
          "name": "stdout",
          "text": [
            "Epoch 21 Summary:\n",
            "  Train Loss: 1.0159 | Train Acc: 64.03%\n",
            "  Val Loss:   0.8113 | Val Acc:   71.04%\n",
            "  Current Learning Rate: 0.000387\n",
            "✅ New best model saved with accuracy: 71.04%\n",
            "--- Epoch 22/30 ---\n"
          ]
        },
        {
          "output_type": "stream",
          "name": "stderr",
          "text": [
            "Training: 100%|██████████| 44/44 [00:41<00:00,  1.05it/s]\n",
            "Validating: 100%|██████████| 5/5 [00:02<00:00,  1.84it/s]\n"
          ]
        },
        {
          "output_type": "stream",
          "name": "stdout",
          "text": [
            "Epoch 22 Summary:\n",
            "  Train Loss: 0.9905 | Train Acc: 65.03%\n",
            "  Val Loss:   0.7781 | Val Acc:   72.22%\n",
            "  Current Learning Rate: 0.000316\n",
            "✅ New best model saved with accuracy: 72.22%\n",
            "--- Epoch 23/30 ---\n"
          ]
        },
        {
          "output_type": "stream",
          "name": "stderr",
          "text": [
            "Training: 100%|██████████| 44/44 [00:41<00:00,  1.05it/s]\n",
            "Validating: 100%|██████████| 5/5 [00:02<00:00,  1.98it/s]\n"
          ]
        },
        {
          "output_type": "stream",
          "name": "stdout",
          "text": [
            "Epoch 23 Summary:\n",
            "  Train Loss: 0.9616 | Train Acc: 66.13%\n",
            "  Val Loss:   0.7931 | Val Acc:   71.82%\n",
            "  Current Learning Rate: 0.000249\n",
            "--- Epoch 24/30 ---\n"
          ]
        },
        {
          "output_type": "stream",
          "name": "stderr",
          "text": [
            "Training: 100%|██████████| 44/44 [00:41<00:00,  1.06it/s]\n",
            "Validating: 100%|██████████| 5/5 [00:02<00:00,  2.21it/s]\n"
          ]
        },
        {
          "output_type": "stream",
          "name": "stdout",
          "text": [
            "Epoch 24 Summary:\n",
            "  Train Loss: 0.9451 | Train Acc: 66.58%\n",
            "  Val Loss:   0.7732 | Val Acc:   72.56%\n",
            "  Current Learning Rate: 0.000187\n",
            "✅ New best model saved with accuracy: 72.56%\n",
            "--- Epoch 25/30 ---\n"
          ]
        },
        {
          "output_type": "stream",
          "name": "stderr",
          "text": [
            "Training: 100%|██████████| 44/44 [00:42<00:00,  1.05it/s]\n",
            "Validating: 100%|██████████| 5/5 [00:02<00:00,  2.22it/s]\n"
          ]
        },
        {
          "output_type": "stream",
          "name": "stdout",
          "text": [
            "Epoch 25 Summary:\n",
            "  Train Loss: 0.9184 | Train Acc: 67.64%\n",
            "  Val Loss:   0.7606 | Val Acc:   73.68%\n",
            "  Current Learning Rate: 0.000132\n",
            "✅ New best model saved with accuracy: 73.68%\n",
            "--- Epoch 26/30 ---\n"
          ]
        },
        {
          "output_type": "stream",
          "name": "stderr",
          "text": [
            "Training: 100%|██████████| 44/44 [00:43<00:00,  1.01it/s]\n",
            "Validating: 100%|██████████| 5/5 [00:02<00:00,  2.19it/s]\n"
          ]
        },
        {
          "output_type": "stream",
          "name": "stdout",
          "text": [
            "Epoch 26 Summary:\n",
            "  Train Loss: 0.8999 | Train Acc: 68.34%\n",
            "  Val Loss:   0.7543 | Val Acc:   73.36%\n",
            "  Current Learning Rate: 0.000086\n",
            "--- Epoch 27/30 ---\n"
          ]
        },
        {
          "output_type": "stream",
          "name": "stderr",
          "text": [
            "Training: 100%|██████████| 44/44 [00:43<00:00,  1.00it/s]\n",
            "Validating: 100%|██████████| 5/5 [00:02<00:00,  2.21it/s]\n"
          ]
        },
        {
          "output_type": "stream",
          "name": "stdout",
          "text": [
            "Epoch 27 Summary:\n",
            "  Train Loss: 0.8894 | Train Acc: 68.80%\n",
            "  Val Loss:   0.7445 | Val Acc:   73.96%\n",
            "  Current Learning Rate: 0.000049\n",
            "✅ New best model saved with accuracy: 73.96%\n",
            "--- Epoch 28/30 ---\n"
          ]
        },
        {
          "output_type": "stream",
          "name": "stderr",
          "text": [
            "Training: 100%|██████████| 44/44 [00:42<00:00,  1.03it/s]\n",
            "Validating: 100%|██████████| 5/5 [00:02<00:00,  1.84it/s]\n"
          ]
        },
        {
          "output_type": "stream",
          "name": "stdout",
          "text": [
            "Epoch 28 Summary:\n",
            "  Train Loss: 0.8743 | Train Acc: 69.25%\n",
            "  Val Loss:   0.7351 | Val Acc:   73.88%\n",
            "  Current Learning Rate: 0.000022\n",
            "--- Epoch 29/30 ---\n"
          ]
        },
        {
          "output_type": "stream",
          "name": "stderr",
          "text": [
            "Training: 100%|██████████| 44/44 [00:41<00:00,  1.07it/s]\n",
            "Validating: 100%|██████████| 5/5 [00:02<00:00,  1.99it/s]\n"
          ]
        },
        {
          "output_type": "stream",
          "name": "stdout",
          "text": [
            "Epoch 29 Summary:\n",
            "  Train Loss: 0.8700 | Train Acc: 69.23%\n",
            "  Val Loss:   0.7350 | Val Acc:   74.04%\n",
            "  Current Learning Rate: 0.000005\n",
            "✅ New best model saved with accuracy: 74.04%\n",
            "--- Epoch 30/30 ---\n"
          ]
        },
        {
          "output_type": "stream",
          "name": "stderr",
          "text": [
            "Training: 100%|██████████| 44/44 [00:43<00:00,  1.01it/s]\n",
            "Validating: 100%|██████████| 5/5 [00:02<00:00,  1.87it/s]\n"
          ]
        },
        {
          "output_type": "stream",
          "name": "stdout",
          "text": [
            "Epoch 30 Summary:\n",
            "  Train Loss: 0.8717 | Train Acc: 69.16%\n",
            "  Val Loss:   0.7346 | Val Acc:   74.18%\n",
            "  Current Learning Rate: 0.000000\n",
            "✅ New best model saved with accuracy: 74.18%\n",
            "--- Training Finished ---\n",
            "Best Validation Accuracy: 74.18%\n",
            "Training history saved to /content/drive/MyDrive/IISc_Submission/baseline_vit_abalation_F0_1/training_history.csv\n",
            "\n",
            "--- Training complete. Starting final evaluation on test set. ---\n",
            "\n",
            "--- Starting Final Evaluation ---\n"
          ]
        },
        {
          "output_type": "stream",
          "name": "stderr",
          "text": [
            "Testing: 100%|██████████| 10/10 [00:04<00:00,  2.32it/s]\n"
          ]
        },
        {
          "output_type": "stream",
          "name": "stdout",
          "text": [
            "\n",
            "Overall Test Accuracy: 73.29%\n",
            "\n",
            "Classification Report:\n",
            "                  precision  recall  f1-score     support  accuracy\n",
            "airplane           0.726373  0.8070  0.764567   1000.0000    0.8070\n",
            "automobile         0.804163  0.8500  0.826446   1000.0000    0.8500\n",
            "bird               0.689977  0.5920  0.637244   1000.0000    0.5920\n",
            "cat                0.658501  0.4570  0.539551   1000.0000    0.4570\n",
            "deer               0.736471  0.6260  0.676757   1000.0000    0.6260\n",
            "dog                0.599829  0.7030  0.647330   1000.0000    0.7030\n",
            "frog               0.804975  0.8090  0.806983   1000.0000    0.8090\n",
            "horse              0.688365  0.8460  0.759085   1000.0000    0.8460\n",
            "ship               0.864017  0.8260  0.844581   1000.0000    0.8260\n",
            "truck              0.761236  0.8130  0.786267   1000.0000    0.8130\n",
            "accuracy           0.732900  0.7329  0.732900      0.7329    0.7329\n",
            "macro avg          0.733391  0.7329  0.728881  10000.0000       NaN\n",
            "weighted avg       0.733391  0.7329  0.728881  10000.0000       NaN\n",
            "overall_accuracy   0.732900  0.7329  0.732900      0.7329    0.7329\n",
            "\n",
            "Full report saved to /content/drive/MyDrive/IISc_Submission/baseline_vit_abalation_F0_1/evaluation_results/classification_report.json\n"
          ]
        },
        {
          "output_type": "display_data",
          "data": {
            "text/plain": [
              "<Figure size 1200x1000 with 2 Axes>"
            ],
            "image/png": "[encoded data removed]"
          },
          "metadata": {}
        },
        {
          "output_type": "stream",
          "name": "stdout",
          "text": [
            "Confusion matrix plot saved to /content/drive/MyDrive/IISc_Submission/baseline_vit_abalation_F0_1/evaluation_results/confusion_matrix.png\n"
          ]
        }
      ]
    },
    {
      "cell_type": "code",
      "source": [
        "# --- mixupcutmix_vit_abalation  ---\n",
        "main(\n",
        "    num_runs=1,\n",
        "    master_seed=350,\n",
        "    test_name=f'mixupcutmix_testing_F0',\n",
        "    image_information=ImageParams(width=32, height=32, in_channel=3),\n",
        "    model_parameters=ModelParameters(patch_size=4, inner_dim=192, transformer_layers=12, num_head=3, embed_dropout=0.1, attn_dropout=0.0, mlp_dropout=0.1),\n",
        "    hyperparameters=Hyperparameters(batch_size=1024, out_classes=10, epochs=30, learning_rate=5e-4*(1024/512), weight_decay=0.05)\n",
        ")"
      ],
      "metadata": {
        "colab": {
          "base_uri": "https://localhost:8080/",
          "height": 1000
        },
        "collapsed": true,
        "id": "2CDeHf9jlmw2",
        "outputId": "2331d246-b820-4be8-8f68-291fc89c6db5"
      },
      "execution_count": 15,
      "outputs": [
        {
          "output_type": "stream",
          "name": "stdout",
          "text": [
            "\n",
            "--- Starting Run 1/1 (Seed: 350) ---\n",
            "DataLoaders created successfully.\n",
            "Training samples: 45000\n",
            "Validation samples: 5000\n",
            "Test samples: 10000\n",
            "Starting Training...\n",
            "--- Epoch 1/30 ---\n"
          ]
        },
        {
          "output_type": "stream",
          "name": "stderr",
          "text": [
            "Training: 100%|██████████| 44/44 [00:42<00:00,  1.03it/s]\n",
            "Validating: 100%|██████████| 5/5 [00:02<00:00,  2.11it/s]\n"
          ]
        },
        {
          "output_type": "stream",
          "name": "stdout",
          "text": [
            "Epoch 1 Summary:\n",
            "  Train Loss: 2.2680 | Train Acc: 15.41%\n",
            "  Val Loss:   2.0686 | Val Acc:   20.28%\n",
            "  Current Learning Rate: 0.000069\n",
            "✅ New best model saved with accuracy: 20.28%\n",
            "--- Epoch 2/30 ---\n"
          ]
        },
        {
          "output_type": "stream",
          "name": "stderr",
          "text": [
            "Training: 100%|██████████| 44/44 [00:42<00:00,  1.02it/s]\n",
            "Validating: 100%|██████████| 5/5 [00:02<00:00,  1.99it/s]\n"
          ]
        },
        {
          "output_type": "stream",
          "name": "stdout",
          "text": [
            "Epoch 2 Summary:\n",
            "  Train Loss: 2.2023 | Train Acc: 18.57%\n",
            "  Val Loss:   1.9774 | Val Acc:   27.00%\n",
            "  Current Learning Rate: 0.000153\n",
            "✅ New best model saved with accuracy: 27.00%\n",
            "--- Epoch 3/30 ---\n"
          ]
        },
        {
          "output_type": "stream",
          "name": "stderr",
          "text": [
            "Training: 100%|██████████| 44/44 [00:43<00:00,  1.00it/s]\n",
            "Validating: 100%|██████████| 5/5 [00:02<00:00,  2.20it/s]\n"
          ]
        },
        {
          "output_type": "stream",
          "name": "stdout",
          "text": [
            "Epoch 3 Summary:\n",
            "  Train Loss: 2.1704 | Train Acc: 20.66%\n",
            "  Val Loss:   1.9462 | Val Acc:   26.04%\n",
            "  Current Learning Rate: 0.000281\n",
            "--- Epoch 4/30 ---\n"
          ]
        },
        {
          "output_type": "stream",
          "name": "stderr",
          "text": [
            "Training: 100%|██████████| 44/44 [00:43<00:00,  1.01it/s]\n",
            "Validating: 100%|██████████| 5/5 [00:02<00:00,  2.22it/s]\n"
          ]
        },
        {
          "output_type": "stream",
          "name": "stdout",
          "text": [
            "Epoch 4 Summary:\n",
            "  Train Loss: 2.1835 | Train Acc: 20.33%\n",
            "  Val Loss:   1.8943 | Val Acc:   30.42%\n",
            "  Current Learning Rate: 0.000438\n",
            "✅ New best model saved with accuracy: 30.42%\n",
            "--- Epoch 5/30 ---\n"
          ]
        },
        {
          "output_type": "stream",
          "name": "stderr",
          "text": [
            "Training: 100%|██████████| 44/44 [00:43<00:00,  1.02it/s]\n",
            "Validating: 100%|██████████| 5/5 [00:02<00:00,  2.12it/s]\n"
          ]
        },
        {
          "output_type": "stream",
          "name": "stdout",
          "text": [
            "Epoch 5 Summary:\n",
            "  Train Loss: 2.1172 | Train Acc: 24.40%\n",
            "  Val Loss:   1.7482 | Val Acc:   36.48%\n",
            "  Current Learning Rate: 0.000605\n",
            "✅ New best model saved with accuracy: 36.48%\n",
            "--- Epoch 6/30 ---\n"
          ]
        },
        {
          "output_type": "stream",
          "name": "stderr",
          "text": [
            "Training: 100%|██████████| 44/44 [00:42<00:00,  1.03it/s]\n",
            "Validating: 100%|██████████| 5/5 [00:02<00:00,  2.06it/s]\n"
          ]
        },
        {
          "output_type": "stream",
          "name": "stdout",
          "text": [
            "Epoch 6 Summary:\n",
            "  Train Loss: 2.0986 | Train Acc: 25.72%\n",
            "  Val Loss:   1.7270 | Val Acc:   39.66%\n",
            "  Current Learning Rate: 0.000762\n",
            "✅ New best model saved with accuracy: 39.66%\n",
            "--- Epoch 7/30 ---\n"
          ]
        },
        {
          "output_type": "stream",
          "name": "stderr",
          "text": [
            "Training: 100%|██████████| 44/44 [00:42<00:00,  1.04it/s]\n",
            "Validating: 100%|██████████| 5/5 [00:02<00:00,  2.19it/s]\n"
          ]
        },
        {
          "output_type": "stream",
          "name": "stdout",
          "text": [
            "Epoch 7 Summary:\n",
            "  Train Loss: 2.0671 | Train Acc: 27.52%\n",
            "  Val Loss:   1.6335 | Val Acc:   43.08%\n",
            "  Current Learning Rate: 0.000890\n",
            "✅ New best model saved with accuracy: 43.08%\n",
            "--- Epoch 8/30 ---\n"
          ]
        },
        {
          "output_type": "stream",
          "name": "stderr",
          "text": [
            "Training: 100%|██████████| 44/44 [00:42<00:00,  1.04it/s]\n",
            "Validating: 100%|██████████| 5/5 [00:02<00:00,  2.20it/s]\n"
          ]
        },
        {
          "output_type": "stream",
          "name": "stdout",
          "text": [
            "Epoch 8 Summary:\n",
            "  Train Loss: 2.0596 | Train Acc: 28.00%\n",
            "  Val Loss:   1.6190 | Val Acc:   43.34%\n",
            "  Current Learning Rate: 0.000972\n",
            "✅ New best model saved with accuracy: 43.34%\n",
            "--- Epoch 9/30 ---\n"
          ]
        },
        {
          "output_type": "stream",
          "name": "stderr",
          "text": [
            "Training: 100%|██████████| 44/44 [00:43<00:00,  1.00it/s]\n",
            "Validating: 100%|██████████| 5/5 [00:02<00:00,  2.20it/s]\n"
          ]
        },
        {
          "output_type": "stream",
          "name": "stdout",
          "text": [
            "Epoch 9 Summary:\n",
            "  Train Loss: 1.9822 | Train Acc: 32.12%\n",
            "  Val Loss:   1.4970 | Val Acc:   46.12%\n",
            "  Current Learning Rate: 0.001000\n",
            "✅ New best model saved with accuracy: 46.12%\n",
            "--- Epoch 10/30 ---\n"
          ]
        },
        {
          "output_type": "stream",
          "name": "stderr",
          "text": [
            "Training: 100%|██████████| 44/44 [00:42<00:00,  1.04it/s]\n",
            "Validating: 100%|██████████| 5/5 [00:02<00:00,  2.13it/s]\n"
          ]
        },
        {
          "output_type": "stream",
          "name": "stdout",
          "text": [
            "Epoch 10 Summary:\n",
            "  Train Loss: 1.9734 | Train Acc: 33.72%\n",
            "  Val Loss:   1.4167 | Val Acc:   50.12%\n",
            "  Current Learning Rate: 0.000994\n",
            "✅ New best model saved with accuracy: 50.12%\n",
            "--- Epoch 11/30 ---\n"
          ]
        },
        {
          "output_type": "stream",
          "name": "stderr",
          "text": [
            "Training: 100%|██████████| 44/44 [00:42<00:00,  1.04it/s]\n",
            "Validating: 100%|██████████| 5/5 [00:02<00:00,  1.97it/s]\n"
          ]
        },
        {
          "output_type": "stream",
          "name": "stdout",
          "text": [
            "Epoch 11 Summary:\n",
            "  Train Loss: 1.9519 | Train Acc: 34.58%\n",
            "  Val Loss:   1.5360 | Val Acc:   45.70%\n",
            "  Current Learning Rate: 0.000977\n",
            "--- Epoch 12/30 ---\n"
          ]
        },
        {
          "output_type": "stream",
          "name": "stderr",
          "text": [
            "Training: 100%|██████████| 44/44 [00:41<00:00,  1.07it/s]\n",
            "Validating: 100%|██████████| 5/5 [00:02<00:00,  2.05it/s]\n"
          ]
        },
        {
          "output_type": "stream",
          "name": "stdout",
          "text": [
            "Epoch 12 Summary:\n",
            "  Train Loss: 1.9546 | Train Acc: 34.07%\n",
            "  Val Loss:   1.4603 | Val Acc:   46.82%\n",
            "  Current Learning Rate: 0.000950\n",
            "--- Epoch 13/30 ---\n"
          ]
        },
        {
          "output_type": "stream",
          "name": "stderr",
          "text": [
            "Training: 100%|██████████| 44/44 [00:41<00:00,  1.06it/s]\n",
            "Validating: 100%|██████████| 5/5 [00:02<00:00,  2.20it/s]\n"
          ]
        },
        {
          "output_type": "stream",
          "name": "stdout",
          "text": [
            "Epoch 13 Summary:\n",
            "  Train Loss: 1.9542 | Train Acc: 33.86%\n",
            "  Val Loss:   1.4259 | Val Acc:   50.50%\n",
            "  Current Learning Rate: 0.000912\n",
            "✅ New best model saved with accuracy: 50.50%\n",
            "--- Epoch 14/30 ---\n"
          ]
        },
        {
          "output_type": "stream",
          "name": "stderr",
          "text": [
            "Training: 100%|██████████| 44/44 [00:43<00:00,  1.02it/s]\n",
            "Validating: 100%|██████████| 5/5 [00:02<00:00,  2.19it/s]\n"
          ]
        },
        {
          "output_type": "stream",
          "name": "stdout",
          "text": [
            "Epoch 14 Summary:\n",
            "  Train Loss: 1.9542 | Train Acc: 34.45%\n",
            "  Val Loss:   1.3879 | Val Acc:   50.74%\n",
            "  Current Learning Rate: 0.000865\n",
            "✅ New best model saved with accuracy: 50.74%\n",
            "--- Epoch 15/30 ---\n"
          ]
        },
        {
          "output_type": "stream",
          "name": "stderr",
          "text": [
            "Training: 100%|██████████| 44/44 [00:42<00:00,  1.04it/s]\n",
            "Validating: 100%|██████████| 5/5 [00:02<00:00,  2.20it/s]\n"
          ]
        },
        {
          "output_type": "stream",
          "name": "stdout",
          "text": [
            "Epoch 15 Summary:\n",
            "  Train Loss: 1.8539 | Train Acc: 38.26%\n",
            "  Val Loss:   1.3419 | Val Acc:   51.10%\n",
            "  Current Learning Rate: 0.000810\n",
            "✅ New best model saved with accuracy: 51.10%\n",
            "--- Epoch 16/30 ---\n"
          ]
        },
        {
          "output_type": "stream",
          "name": "stderr",
          "text": [
            "Training: 100%|██████████| 44/44 [00:41<00:00,  1.05it/s]\n",
            "Validating: 100%|██████████| 5/5 [00:02<00:00,  2.21it/s]\n"
          ]
        },
        {
          "output_type": "stream",
          "name": "stdout",
          "text": [
            "Epoch 16 Summary:\n",
            "  Train Loss: 1.8540 | Train Acc: 39.63%\n",
            "  Val Loss:   1.3277 | Val Acc:   54.22%\n",
            "  Current Learning Rate: 0.000749\n",
            "✅ New best model saved with accuracy: 54.22%\n",
            "--- Epoch 17/30 ---\n"
          ]
        },
        {
          "output_type": "stream",
          "name": "stderr",
          "text": [
            "Training: 100%|██████████| 44/44 [00:42<00:00,  1.03it/s]\n",
            "Validating: 100%|██████████| 5/5 [00:02<00:00,  1.90it/s]\n"
          ]
        },
        {
          "output_type": "stream",
          "name": "stdout",
          "text": [
            "Epoch 17 Summary:\n",
            "  Train Loss: 1.8564 | Train Acc: 39.26%\n",
            "  Val Loss:   1.3040 | Val Acc:   55.04%\n",
            "  Current Learning Rate: 0.000681\n",
            "✅ New best model saved with accuracy: 55.04%\n",
            "--- Epoch 18/30 ---\n"
          ]
        },
        {
          "output_type": "stream",
          "name": "stderr",
          "text": [
            "Training: 100%|██████████| 44/44 [00:41<00:00,  1.05it/s]\n",
            "Validating: 100%|██████████| 5/5 [00:02<00:00,  1.90it/s]\n"
          ]
        },
        {
          "output_type": "stream",
          "name": "stdout",
          "text": [
            "Epoch 18 Summary:\n",
            "  Train Loss: 1.8720 | Train Acc: 38.86%\n",
            "  Val Loss:   1.2515 | Val Acc:   56.54%\n",
            "  Current Learning Rate: 0.000610\n",
            "✅ New best model saved with accuracy: 56.54%\n",
            "--- Epoch 19/30 ---\n"
          ]
        },
        {
          "output_type": "stream",
          "name": "stderr",
          "text": [
            "Training: 100%|██████████| 44/44 [00:43<00:00,  1.01it/s]\n",
            "Validating: 100%|██████████| 5/5 [00:02<00:00,  2.17it/s]\n"
          ]
        },
        {
          "output_type": "stream",
          "name": "stdout",
          "text": [
            "Epoch 19 Summary:\n",
            "  Train Loss: 1.8172 | Train Acc: 41.20%\n",
            "  Val Loss:   1.2474 | Val Acc:   57.16%\n",
            "  Current Learning Rate: 0.000536\n",
            "✅ New best model saved with accuracy: 57.16%\n",
            "--- Epoch 20/30 ---\n"
          ]
        },
        {
          "output_type": "stream",
          "name": "stderr",
          "text": [
            "Training: 100%|██████████| 44/44 [00:42<00:00,  1.03it/s]\n",
            "Validating: 100%|██████████| 5/5 [00:02<00:00,  2.20it/s]\n"
          ]
        },
        {
          "output_type": "stream",
          "name": "stdout",
          "text": [
            "Epoch 20 Summary:\n",
            "  Train Loss: 1.8216 | Train Acc: 41.97%\n",
            "  Val Loss:   1.2879 | Val Acc:   56.32%\n",
            "  Current Learning Rate: 0.000461\n",
            "--- Epoch 21/30 ---\n"
          ]
        },
        {
          "output_type": "stream",
          "name": "stderr",
          "text": [
            "Training: 100%|██████████| 44/44 [00:41<00:00,  1.06it/s]\n",
            "Validating: 100%|██████████| 5/5 [00:02<00:00,  2.17it/s]\n"
          ]
        },
        {
          "output_type": "stream",
          "name": "stdout",
          "text": [
            "Epoch 21 Summary:\n",
            "  Train Loss: 1.8028 | Train Acc: 42.29%\n",
            "  Val Loss:   1.2078 | Val Acc:   59.16%\n",
            "  Current Learning Rate: 0.000387\n",
            "✅ New best model saved with accuracy: 59.16%\n",
            "--- Epoch 22/30 ---\n"
          ]
        },
        {
          "output_type": "stream",
          "name": "stderr",
          "text": [
            "Training: 100%|██████████| 44/44 [00:42<00:00,  1.04it/s]\n",
            "Validating: 100%|██████████| 5/5 [00:02<00:00,  2.17it/s]\n"
          ]
        },
        {
          "output_type": "stream",
          "name": "stdout",
          "text": [
            "Epoch 22 Summary:\n",
            "  Train Loss: 1.8498 | Train Acc: 41.06%\n",
            "  Val Loss:   1.2073 | Val Acc:   59.12%\n",
            "  Current Learning Rate: 0.000316\n",
            "--- Epoch 23/30 ---\n"
          ]
        },
        {
          "output_type": "stream",
          "name": "stderr",
          "text": [
            "Training: 100%|██████████| 44/44 [00:41<00:00,  1.07it/s]\n",
            "Validating: 100%|██████████| 5/5 [00:02<00:00,  1.81it/s]\n"
          ]
        },
        {
          "output_type": "stream",
          "name": "stdout",
          "text": [
            "Epoch 23 Summary:\n",
            "  Train Loss: 1.8199 | Train Acc: 41.52%\n",
            "  Val Loss:   1.1835 | Val Acc:   60.74%\n",
            "  Current Learning Rate: 0.000249\n",
            "✅ New best model saved with accuracy: 60.74%\n",
            "--- Epoch 24/30 ---\n"
          ]
        },
        {
          "output_type": "stream",
          "name": "stderr",
          "text": [
            "Training: 100%|██████████| 44/44 [00:44<00:00,  1.00s/it]\n",
            "Validating: 100%|██████████| 5/5 [00:02<00:00,  2.22it/s]\n"
          ]
        },
        {
          "output_type": "stream",
          "name": "stdout",
          "text": [
            "Epoch 24 Summary:\n",
            "  Train Loss: 1.7784 | Train Acc: 43.98%\n",
            "  Val Loss:   1.1042 | Val Acc:   62.10%\n",
            "  Current Learning Rate: 0.000187\n",
            "✅ New best model saved with accuracy: 62.10%\n",
            "--- Epoch 25/30 ---\n"
          ]
        },
        {
          "output_type": "stream",
          "name": "stderr",
          "text": [
            "Training: 100%|██████████| 44/44 [00:42<00:00,  1.03it/s]\n",
            "Validating: 100%|██████████| 5/5 [00:02<00:00,  2.20it/s]\n"
          ]
        },
        {
          "output_type": "stream",
          "name": "stdout",
          "text": [
            "Epoch 25 Summary:\n",
            "  Train Loss: 1.7558 | Train Acc: 45.90%\n",
            "  Val Loss:   1.1239 | Val Acc:   61.76%\n",
            "  Current Learning Rate: 0.000132\n",
            "--- Epoch 26/30 ---\n"
          ]
        },
        {
          "output_type": "stream",
          "name": "stderr",
          "text": [
            "Training: 100%|██████████| 44/44 [00:42<00:00,  1.03it/s]\n",
            "Validating: 100%|██████████| 5/5 [00:02<00:00,  2.18it/s]\n"
          ]
        },
        {
          "output_type": "stream",
          "name": "stdout",
          "text": [
            "Epoch 26 Summary:\n",
            "  Train Loss: 1.7621 | Train Acc: 44.54%\n",
            "  Val Loss:   1.0924 | Val Acc:   63.18%\n",
            "  Current Learning Rate: 0.000086\n",
            "✅ New best model saved with accuracy: 63.18%\n",
            "--- Epoch 27/30 ---\n"
          ]
        },
        {
          "output_type": "stream",
          "name": "stderr",
          "text": [
            "Training: 100%|██████████| 44/44 [00:42<00:00,  1.04it/s]\n",
            "Validating: 100%|██████████| 5/5 [00:02<00:00,  2.09it/s]\n"
          ]
        },
        {
          "output_type": "stream",
          "name": "stdout",
          "text": [
            "Epoch 27 Summary:\n",
            "  Train Loss: 1.7320 | Train Acc: 44.96%\n",
            "  Val Loss:   1.0871 | Val Acc:   63.14%\n",
            "  Current Learning Rate: 0.000049\n",
            "--- Epoch 28/30 ---\n"
          ]
        },
        {
          "output_type": "stream",
          "name": "stderr",
          "text": [
            "Training: 100%|██████████| 44/44 [00:41<00:00,  1.06it/s]\n",
            "Validating: 100%|██████████| 5/5 [00:02<00:00,  1.71it/s]\n"
          ]
        },
        {
          "output_type": "stream",
          "name": "stdout",
          "text": [
            "Epoch 28 Summary:\n",
            "  Train Loss: 1.7343 | Train Acc: 46.16%\n",
            "  Val Loss:   1.0865 | Val Acc:   62.88%\n",
            "  Current Learning Rate: 0.000022\n",
            "--- Epoch 29/30 ---\n"
          ]
        },
        {
          "output_type": "stream",
          "name": "stderr",
          "text": [
            "Training: 100%|██████████| 44/44 [00:42<00:00,  1.03it/s]\n",
            "Validating: 100%|██████████| 5/5 [00:02<00:00,  2.18it/s]\n"
          ]
        },
        {
          "output_type": "stream",
          "name": "stdout",
          "text": [
            "Epoch 29 Summary:\n",
            "  Train Loss: 1.7727 | Train Acc: 43.68%\n",
            "  Val Loss:   1.0752 | Val Acc:   63.74%\n",
            "  Current Learning Rate: 0.000005\n",
            "✅ New best model saved with accuracy: 63.74%\n",
            "--- Epoch 30/30 ---\n"
          ]
        },
        {
          "output_type": "stream",
          "name": "stderr",
          "text": [
            "Training: 100%|██████████| 44/44 [00:42<00:00,  1.04it/s]\n",
            "Validating: 100%|██████████| 5/5 [00:02<00:00,  2.19it/s]\n"
          ]
        },
        {
          "output_type": "stream",
          "name": "stdout",
          "text": [
            "Epoch 30 Summary:\n",
            "  Train Loss: 1.7393 | Train Acc: 45.69%\n",
            "  Val Loss:   1.0764 | Val Acc:   63.52%\n",
            "  Current Learning Rate: 0.000000\n",
            "--- Training Finished ---\n",
            "Best Validation Accuracy: 63.74%\n",
            "Training history saved to /content/drive/MyDrive/IISc_Submission/mixupcutmix_testing_F0_1/training_history.csv\n",
            "\n",
            "--- Training complete. Starting final evaluation on test set. ---\n",
            "\n",
            "--- Starting Final Evaluation ---\n"
          ]
        },
        {
          "output_type": "stream",
          "name": "stderr",
          "text": [
            "Testing: 100%|██████████| 10/10 [00:04<00:00,  2.44it/s]\n"
          ]
        },
        {
          "output_type": "stream",
          "name": "stdout",
          "text": [
            "\n",
            "Overall Test Accuracy: 63.61%\n",
            "\n",
            "Classification Report:\n",
            "                  precision  recall  f1-score     support  accuracy\n",
            "airplane           0.576426  0.7580  0.654860   1000.0000    0.7580\n",
            "automobile         0.696157  0.7790  0.735252   1000.0000    0.7790\n",
            "bird               0.540598  0.5060  0.522727   1000.0000    0.5060\n",
            "cat                0.573770  0.3150  0.406714   1000.0000    0.3150\n",
            "deer               0.647541  0.4740  0.547344   1000.0000    0.4740\n",
            "dog                0.558994  0.5780  0.568338   1000.0000    0.5780\n",
            "frog               0.620690  0.8100  0.702820   1000.0000    0.8100\n",
            "horse              0.650264  0.7400  0.692236   1000.0000    0.7400\n",
            "ship               0.747115  0.7770  0.761765   1000.0000    0.7770\n",
            "truck              0.750000  0.6240  0.681223   1000.0000    0.6240\n",
            "accuracy           0.636100  0.6361  0.636100      0.6361    0.6361\n",
            "macro avg          0.636156  0.6361  0.627328  10000.0000       NaN\n",
            "weighted avg       0.636156  0.6361  0.627328  10000.0000       NaN\n",
            "overall_accuracy   0.636100  0.6361  0.636100      0.6361    0.6361\n",
            "\n",
            "Full report saved to /content/drive/MyDrive/IISc_Submission/mixupcutmix_testing_F0_1/evaluation_results/classification_report.json\n"
          ]
        },
        {
          "output_type": "display_data",
          "data": {
            "text/plain": [
              "<Figure size 1200x1000 with 2 Axes>"
            ],
            "image/png": "[encoded data removed]"
          },
          "metadata": {}
        },
        {
          "output_type": "stream",
          "name": "stdout",
          "text": [
            "Confusion matrix plot saved to /content/drive/MyDrive/IISc_Submission/mixupcutmix_testing_F0_1/evaluation_results/confusion_matrix.png\n"
          ]
        }
      ]
    },
    {
      "cell_type": "markdown",
      "source": [
        "# Evaluate Best Trained ViT Model\n",
        "\n",
        "This cell runs the **final evaluation** on the CIFAR-10 test set using the best pre-trained model.\n",
        "\n",
        "> **Note:** Make sure you have:  \n",
        "> 1. Uploaded the pretrained model folder from [GitHub/Drive](https://github.com/Aleptonic/IISC-VIT/edit/main/README.md)  \n",
        "> 2. Mounted your Google Drive in Colab (`from google.colab import drive; drive.mount('/content/drive')`)  \n",
        "\n"
      ],
      "metadata": {
        "id": "9Kh7vMR_Q5Uj"
      }
    },
    {
      "cell_type": "code",
      "source": [
        "# --- Imports ---\n",
        "import os\n",
        "import pandas as pd\n",
        "\n",
        "# --- Setup ---\n",
        "print(\"\\n--- Starting final evaluation on the test set ---\")\n",
        "\n",
        "# Image and model parameters\n",
        "img_info = ImageParams(width=32, height=32, in_channel=3)\n",
        "mparams = ModelParameters(\n",
        "    patch_size=4,\n",
        "    inner_dim=192,\n",
        "    transformer_layers=12,\n",
        "    num_head=3,\n",
        "    embed_dropout=0.1,\n",
        "    attn_dropout=0.0,\n",
        "    mlp_dropout=0.1\n",
        ")\n",
        "hparams = Hyperparameters(\n",
        "    batch_size=1024,\n",
        "    out_classes=10,\n",
        "    epochs=300,\n",
        "    learning_rate=5e-4 * (1024/512),\n",
        "    weight_decay=0.05\n",
        ")\n",
        "\n",
        "# --- Data Loading ---\n",
        "data_handler = DataHandler(image_information=img_info, batch_size=hparams.batch_size)\n",
        "train_loader, val_loader, test_loader = data_handler.get_dataloaders()\n",
        "\n",
        "# --- Paths ---\n",
        "run_name = 'deit_trial_F1_1'\n",
        "run_output_dir = f\"/content/drive/MyDrive/IISc_Submission/{run_name}\"  # Folder in mounted Drive\n",
        "local_model_path = os.path.join(run_output_dir, \"best_model.pth\")\n",
        "eval_results_dir = os.path.join(run_output_dir, \"evaluation_results\")\n",
        "\n",
        "# --- Evaluation ---\n",
        "evaluator = Evaluator(\n",
        "    model=ViT(mparams=mparams, hparams=hparams, img_info=img_info),\n",
        "    test_loader=test_loader,\n",
        "    device='cpu',  # Switch to 'cuda' if GPU available and limits allow\n",
        "    output_dir=eval_results_dir\n",
        ")\n",
        "\n",
        "# Run evaluation\n",
        "final_metrics = evaluator.evaluate(model_path=local_model_path)\n"
      ],
      "metadata": {
        "id": "mjIl4T6kQ5sg"
      },
      "execution_count": null,
      "outputs": []
    }
  ]
}